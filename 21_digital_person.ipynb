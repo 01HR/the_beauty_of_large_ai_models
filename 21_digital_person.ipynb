{
 "cells": [
  {
   "cell_type": "markdown",
   "id": "0ed6d469-d3e2-4777-aeb8-916f16a1c7cf",
   "metadata": {},
   "source": [
    "# Gradio "
   ]
  },
  {
   "cell_type": "code",
   "execution_count": 9,
   "id": "3ecc77ac-96b6-4132-9f60-0b5070bf85a0",
   "metadata": {
    "execution": {
     "iopub.execute_input": "2024-05-12T07:35:11.745367Z",
     "iopub.status.busy": "2024-05-12T07:35:11.744127Z",
     "iopub.status.idle": "2024-05-12T07:35:15.170278Z",
     "shell.execute_reply": "2024-05-12T07:35:15.168690Z",
     "shell.execute_reply.started": "2024-05-12T07:35:11.745309Z"
    },
    "scrolled": true,
    "tags": []
   },
   "outputs": [
    {
     "name": "stdout",
     "output_type": "stream",
     "text": [
      "\u001b[33mWARNING: Ignoring invalid distribution -addlepaddle (/usr/local/lib/python3.10/dist-packages)\u001b[0m\u001b[33m\n",
      "\u001b[0m\u001b[33mWARNING: Ignoring invalid distribution -addlepaddle (/usr/local/lib/python3.10/dist-packages)\u001b[0m\u001b[33m\n",
      "\u001b[0mRequirement already satisfied: gradio in /usr/local/lib/python3.10/dist-packages (4.31.0)\n",
      "Requirement already satisfied: langchain in /usr/local/lib/python3.10/dist-packages (0.1.20)\n",
      "Requirement already satisfied: langchain_openai in /usr/local/lib/python3.10/dist-packages (0.1.6)\n",
      "Requirement already satisfied: aiofiles<24.0,>=22.0 in /usr/local/lib/python3.10/dist-packages (from gradio) (22.1.0)\n",
      "Requirement already satisfied: altair<6.0,>=4.2.0 in /usr/local/lib/python3.10/dist-packages (from gradio) (5.3.0)\n",
      "Requirement already satisfied: fastapi in /usr/local/lib/python3.10/dist-packages (from gradio) (0.111.0)\n",
      "Requirement already satisfied: ffmpy in /usr/local/lib/python3.10/dist-packages (from gradio) (0.3.2)\n",
      "Requirement already satisfied: gradio-client==0.16.2 in /usr/local/lib/python3.10/dist-packages (from gradio) (0.16.2)\n",
      "Requirement already satisfied: httpx>=0.24.1 in /usr/local/lib/python3.10/dist-packages (from gradio) (0.27.0)\n",
      "Requirement already satisfied: huggingface-hub>=0.19.3 in /usr/local/lib/python3.10/dist-packages (from gradio) (0.23.0)\n",
      "Requirement already satisfied: importlib-resources<7.0,>=1.3 in /usr/local/lib/python3.10/dist-packages (from gradio) (6.4.0)\n",
      "Requirement already satisfied: jinja2<4.0 in /usr/local/lib/python3.10/dist-packages (from gradio) (3.1.3)\n",
      "Requirement already satisfied: markupsafe~=2.0 in /usr/local/lib/python3.10/dist-packages (from gradio) (2.1.5)\n",
      "Requirement already satisfied: matplotlib~=3.0 in /usr/local/lib/python3.10/dist-packages (from gradio) (3.8.4)\n",
      "Requirement already satisfied: numpy~=1.0 in /usr/local/lib/python3.10/dist-packages (from gradio) (1.23.5)\n",
      "Requirement already satisfied: orjson~=3.0 in /usr/local/lib/python3.10/dist-packages (from gradio) (3.10.3)\n",
      "Requirement already satisfied: packaging in /usr/local/lib/python3.10/dist-packages (from gradio) (23.2)\n",
      "Requirement already satisfied: pandas<3.0,>=1.0 in /usr/local/lib/python3.10/dist-packages (from gradio) (2.2.2)\n",
      "Requirement already satisfied: pillow<11.0,>=8.0 in /usr/local/lib/python3.10/dist-packages (from gradio) (10.3.0)\n",
      "Requirement already satisfied: pydantic>=2.0 in /usr/local/lib/python3.10/dist-packages (from gradio) (2.7.1)\n",
      "Requirement already satisfied: pydub in /usr/local/lib/python3.10/dist-packages (from gradio) (0.25.1)\n",
      "Requirement already satisfied: python-multipart>=0.0.9 in /usr/local/lib/python3.10/dist-packages (from gradio) (0.0.9)\n",
      "Requirement already satisfied: pyyaml<7.0,>=5.0 in /usr/local/lib/python3.10/dist-packages (from gradio) (6.0.1)\n",
      "Requirement already satisfied: ruff>=0.2.2 in /usr/local/lib/python3.10/dist-packages (from gradio) (0.4.4)\n",
      "Requirement already satisfied: semantic-version~=2.0 in /usr/local/lib/python3.10/dist-packages (from gradio) (2.10.0)\n",
      "Requirement already satisfied: tomlkit==0.12.0 in /usr/local/lib/python3.10/dist-packages (from gradio) (0.12.0)\n",
      "Requirement already satisfied: typer<1.0,>=0.12 in /usr/local/lib/python3.10/dist-packages (from gradio) (0.12.3)\n",
      "Requirement already satisfied: typing-extensions~=4.0 in /usr/local/lib/python3.10/dist-packages (from gradio) (4.11.0)\n",
      "Requirement already satisfied: urllib3~=2.0 in /usr/local/lib/python3.10/dist-packages (from gradio) (2.2.1)\n",
      "Requirement already satisfied: uvicorn>=0.14.0 in /usr/local/lib/python3.10/dist-packages (from gradio) (0.29.0)\n",
      "Requirement already satisfied: fsspec in /usr/local/lib/python3.10/dist-packages (from gradio-client==0.16.2->gradio) (2024.3.1)\n",
      "Requirement already satisfied: websockets<12.0,>=10.0 in /usr/local/lib/python3.10/dist-packages (from gradio-client==0.16.2->gradio) (11.0.3)\n",
      "Requirement already satisfied: SQLAlchemy<3,>=1.4 in /usr/local/lib/python3.10/dist-packages (from langchain) (2.0.30)\n",
      "Requirement already satisfied: aiohttp<4.0.0,>=3.8.3 in /usr/local/lib/python3.10/dist-packages (from langchain) (3.9.5)\n",
      "Requirement already satisfied: async-timeout<5.0.0,>=4.0.0 in /usr/local/lib/python3.10/dist-packages (from langchain) (4.0.3)\n",
      "Requirement already satisfied: dataclasses-json<0.7,>=0.5.7 in /usr/local/lib/python3.10/dist-packages (from langchain) (0.6.6)\n",
      "Requirement already satisfied: langchain-community<0.1,>=0.0.38 in /usr/local/lib/python3.10/dist-packages (from langchain) (0.0.38)\n",
      "Requirement already satisfied: langchain-core<0.2.0,>=0.1.52 in /usr/local/lib/python3.10/dist-packages (from langchain) (0.1.52)\n",
      "Requirement already satisfied: langchain-text-splitters<0.1,>=0.0.1 in /usr/local/lib/python3.10/dist-packages (from langchain) (0.0.1)\n",
      "Requirement already satisfied: langsmith<0.2.0,>=0.1.17 in /usr/local/lib/python3.10/dist-packages (from langchain) (0.1.56)\n",
      "Requirement already satisfied: requests<3,>=2 in /usr/local/lib/python3.10/dist-packages (from langchain) (2.31.0)\n",
      "Requirement already satisfied: tenacity<9.0.0,>=8.1.0 in /usr/local/lib/python3.10/dist-packages (from langchain) (8.3.0)\n",
      "Requirement already satisfied: openai<2.0.0,>=1.24.0 in /usr/local/lib/python3.10/dist-packages (from langchain_openai) (1.28.1)\n",
      "Requirement already satisfied: tiktoken<1,>=0.5.2 in /usr/local/lib/python3.10/dist-packages (from langchain_openai) (0.6.0)\n",
      "Requirement already satisfied: aiosignal>=1.1.2 in /usr/local/lib/python3.10/dist-packages (from aiohttp<4.0.0,>=3.8.3->langchain) (1.3.1)\n",
      "Requirement already satisfied: attrs>=17.3.0 in /usr/local/lib/python3.10/dist-packages (from aiohttp<4.0.0,>=3.8.3->langchain) (23.2.0)\n",
      "Requirement already satisfied: frozenlist>=1.1.1 in /usr/local/lib/python3.10/dist-packages (from aiohttp<4.0.0,>=3.8.3->langchain) (1.4.1)\n",
      "Requirement already satisfied: multidict<7.0,>=4.5 in /usr/local/lib/python3.10/dist-packages (from aiohttp<4.0.0,>=3.8.3->langchain) (6.0.5)\n",
      "Requirement already satisfied: yarl<2.0,>=1.0 in /usr/local/lib/python3.10/dist-packages (from aiohttp<4.0.0,>=3.8.3->langchain) (1.9.4)\n",
      "Requirement already satisfied: jsonschema>=3.0 in /usr/local/lib/python3.10/dist-packages (from altair<6.0,>=4.2.0->gradio) (4.21.1)\n",
      "Requirement already satisfied: toolz in /usr/local/lib/python3.10/dist-packages (from altair<6.0,>=4.2.0->gradio) (0.12.1)\n",
      "Requirement already satisfied: marshmallow<4.0.0,>=3.18.0 in /usr/local/lib/python3.10/dist-packages (from dataclasses-json<0.7,>=0.5.7->langchain) (3.21.2)\n",
      "Requirement already satisfied: typing-inspect<1,>=0.4.0 in /usr/local/lib/python3.10/dist-packages (from dataclasses-json<0.7,>=0.5.7->langchain) (0.9.0)\n",
      "Requirement already satisfied: anyio in /usr/local/lib/python3.10/dist-packages (from httpx>=0.24.1->gradio) (4.3.0)\n",
      "Requirement already satisfied: certifi in /usr/local/lib/python3.10/dist-packages (from httpx>=0.24.1->gradio) (2024.2.2)\n",
      "Requirement already satisfied: httpcore==1.* in /usr/local/lib/python3.10/dist-packages (from httpx>=0.24.1->gradio) (1.0.5)\n",
      "Requirement already satisfied: idna in /usr/local/lib/python3.10/dist-packages (from httpx>=0.24.1->gradio) (3.6)\n",
      "Requirement already satisfied: sniffio in /usr/local/lib/python3.10/dist-packages (from httpx>=0.24.1->gradio) (1.3.1)\n",
      "Requirement already satisfied: h11<0.15,>=0.13 in /usr/local/lib/python3.10/dist-packages (from httpcore==1.*->httpx>=0.24.1->gradio) (0.14.0)\n",
      "Requirement already satisfied: filelock in /usr/local/lib/python3.10/dist-packages (from huggingface-hub>=0.19.3->gradio) (3.14.0)\n",
      "Requirement already satisfied: tqdm>=4.42.1 in /usr/local/lib/python3.10/dist-packages (from huggingface-hub>=0.19.3->gradio) (4.66.4)\n",
      "Requirement already satisfied: jsonpatch<2.0,>=1.33 in /usr/local/lib/python3.10/dist-packages (from langchain-core<0.2.0,>=0.1.52->langchain) (1.33)\n",
      "Requirement already satisfied: contourpy>=1.0.1 in /usr/local/lib/python3.10/dist-packages (from matplotlib~=3.0->gradio) (1.2.1)\n",
      "Requirement already satisfied: cycler>=0.10 in /usr/local/lib/python3.10/dist-packages (from matplotlib~=3.0->gradio) (0.12.1)\n",
      "Requirement already satisfied: fonttools>=4.22.0 in /usr/local/lib/python3.10/dist-packages (from matplotlib~=3.0->gradio) (4.51.0)\n",
      "Requirement already satisfied: kiwisolver>=1.3.1 in /usr/local/lib/python3.10/dist-packages (from matplotlib~=3.0->gradio) (1.4.5)\n",
      "Requirement already satisfied: pyparsing>=2.3.1 in /usr/local/lib/python3.10/dist-packages (from matplotlib~=3.0->gradio) (3.1.2)\n",
      "Requirement already satisfied: python-dateutil>=2.7 in /usr/local/lib/python3.10/dist-packages (from matplotlib~=3.0->gradio) (2.9.0.post0)\n",
      "Requirement already satisfied: distro<2,>=1.7.0 in /usr/local/lib/python3.10/dist-packages (from openai<2.0.0,>=1.24.0->langchain_openai) (1.9.0)\n",
      "Requirement already satisfied: pytz>=2020.1 in /usr/local/lib/python3.10/dist-packages (from pandas<3.0,>=1.0->gradio) (2024.1)\n",
      "Requirement already satisfied: tzdata>=2022.7 in /usr/local/lib/python3.10/dist-packages (from pandas<3.0,>=1.0->gradio) (2024.1)\n",
      "Requirement already satisfied: annotated-types>=0.4.0 in /usr/local/lib/python3.10/dist-packages (from pydantic>=2.0->gradio) (0.6.0)\n",
      "Requirement already satisfied: pydantic-core==2.18.2 in /usr/local/lib/python3.10/dist-packages (from pydantic>=2.0->gradio) (2.18.2)\n",
      "Requirement already satisfied: charset-normalizer<4,>=2 in /usr/local/lib/python3.10/dist-packages (from requests<3,>=2->langchain) (3.3.2)\n",
      "Requirement already satisfied: greenlet!=0.4.17 in /usr/local/lib/python3.10/dist-packages (from SQLAlchemy<3,>=1.4->langchain) (3.0.3)\n",
      "Requirement already satisfied: regex>=2022.1.18 in /usr/local/lib/python3.10/dist-packages (from tiktoken<1,>=0.5.2->langchain_openai) (2024.4.28)\n",
      "Requirement already satisfied: click>=8.0.0 in /usr/local/lib/python3.10/dist-packages (from typer<1.0,>=0.12->gradio) (8.1.7)\n",
      "Requirement already satisfied: shellingham>=1.3.0 in /usr/local/lib/python3.10/dist-packages (from typer<1.0,>=0.12->gradio) (1.5.4)\n",
      "Requirement already satisfied: rich>=10.11.0 in /usr/local/lib/python3.10/dist-packages (from typer<1.0,>=0.12->gradio) (13.7.1)\n",
      "Requirement already satisfied: starlette<0.38.0,>=0.37.2 in /usr/local/lib/python3.10/dist-packages (from fastapi->gradio) (0.37.2)\n",
      "Requirement already satisfied: fastapi-cli>=0.0.2 in /usr/local/lib/python3.10/dist-packages (from fastapi->gradio) (0.0.3)\n",
      "Requirement already satisfied: ujson!=4.0.2,!=4.1.0,!=4.2.0,!=4.3.0,!=5.0.0,!=5.1.0,>=4.0.1 in /usr/local/lib/python3.10/dist-packages (from fastapi->gradio) (5.9.0)\n",
      "Requirement already satisfied: email_validator>=2.0.0 in /usr/local/lib/python3.10/dist-packages (from fastapi->gradio) (2.1.1)\n",
      "Requirement already satisfied: exceptiongroup>=1.0.2 in /usr/local/lib/python3.10/dist-packages (from anyio->httpx>=0.24.1->gradio) (1.2.0)\n",
      "Requirement already satisfied: dnspython>=2.0.0 in /usr/local/lib/python3.10/dist-packages (from email_validator>=2.0.0->fastapi->gradio) (2.6.1)\n",
      "Requirement already satisfied: jsonpointer>=1.9 in /usr/local/lib/python3.10/dist-packages (from jsonpatch<2.0,>=1.33->langchain-core<0.2.0,>=0.1.52->langchain) (2.4)\n",
      "Requirement already satisfied: jsonschema-specifications>=2023.03.6 in /usr/local/lib/python3.10/dist-packages (from jsonschema>=3.0->altair<6.0,>=4.2.0->gradio) (2023.12.1)\n",
      "Requirement already satisfied: referencing>=0.28.4 in /usr/local/lib/python3.10/dist-packages (from jsonschema>=3.0->altair<6.0,>=4.2.0->gradio) (0.34.0)\n",
      "Requirement already satisfied: rpds-py>=0.7.1 in /usr/local/lib/python3.10/dist-packages (from jsonschema>=3.0->altair<6.0,>=4.2.0->gradio) (0.18.0)\n",
      "Requirement already satisfied: six>=1.5 in /usr/local/lib/python3.10/dist-packages (from python-dateutil>=2.7->matplotlib~=3.0->gradio) (1.16.0)\n",
      "Requirement already satisfied: markdown-it-py>=2.2.0 in /usr/local/lib/python3.10/dist-packages (from rich>=10.11.0->typer<1.0,>=0.12->gradio) (3.0.0)\n",
      "Requirement already satisfied: pygments<3.0.0,>=2.13.0 in /usr/local/lib/python3.10/dist-packages (from rich>=10.11.0->typer<1.0,>=0.12->gradio) (2.17.2)\n",
      "Requirement already satisfied: mypy-extensions>=0.3.0 in /usr/local/lib/python3.10/dist-packages (from typing-inspect<1,>=0.4.0->dataclasses-json<0.7,>=0.5.7->langchain) (1.0.0)\n",
      "Requirement already satisfied: httptools>=0.5.0 in /usr/local/lib/python3.10/dist-packages (from uvicorn[standard]>=0.12.0->fastapi->gradio) (0.6.1)\n",
      "Requirement already satisfied: python-dotenv>=0.13 in /usr/local/lib/python3.10/dist-packages (from uvicorn[standard]>=0.12.0->fastapi->gradio) (1.0.1)\n",
      "Requirement already satisfied: uvloop!=0.15.0,!=0.15.1,>=0.14.0 in /usr/local/lib/python3.10/dist-packages (from uvicorn[standard]>=0.12.0->fastapi->gradio) (0.19.0)\n",
      "Requirement already satisfied: watchfiles>=0.13 in /usr/local/lib/python3.10/dist-packages (from uvicorn[standard]>=0.12.0->fastapi->gradio) (0.21.0)\n",
      "Requirement already satisfied: mdurl~=0.1 in /usr/local/lib/python3.10/dist-packages (from markdown-it-py>=2.2.0->rich>=10.11.0->typer<1.0,>=0.12->gradio) (0.1.2)\n",
      "\u001b[33mWARNING: Ignoring invalid distribution -addlepaddle (/usr/local/lib/python3.10/dist-packages)\u001b[0m\u001b[33m\n",
      "\u001b[0m\u001b[33mWARNING: Running pip as the 'root' user can result in broken permissions and conflicting behaviour with the system package manager. It is recommended to use a virtual environment instead: https://pip.pypa.io/warnings/venv\u001b[0m\u001b[33m\n",
      "\u001b[0m\u001b[33mWARNING: Ignoring invalid distribution -addlepaddle (/usr/local/lib/python3.10/dist-packages)\u001b[0m\u001b[33m\n",
      "\u001b[0m^C\n"
     ]
    }
   ],
   "source": [
    "!pip install gradio langchain langchain_openai"
   ]
  },
  {
   "cell_type": "markdown",
   "id": "8887cf78-30e2-410d-b264-25c5dfa32d41",
   "metadata": {},
   "source": [
    "# 基本使用"
   ]
  },
  {
   "cell_type": "code",
   "execution_count": 1,
   "id": "86274374-e15d-4996-bf7e-3525c86e59d5",
   "metadata": {
    "execution": {
     "iopub.execute_input": "2024-05-12T11:59:24.130811Z",
     "iopub.status.busy": "2024-05-12T11:59:24.130576Z",
     "iopub.status.idle": "2024-05-12T11:59:27.067986Z",
     "shell.execute_reply": "2024-05-12T11:59:27.067128Z",
     "shell.execute_reply.started": "2024-05-12T11:59:24.130788Z"
    },
    "tags": []
   },
   "outputs": [
    {
     "name": "stdout",
     "output_type": "stream",
     "text": [
      "Running on local URL:  http://0.0.0.0:7860\n",
      "\n",
      "To create a public link, set `share=True` in `launch()`.\n"
     ]
    },
    {
     "data": {
      "text/html": [
       "<div><iframe src=\"http://localhost:7860/\" width=\"100%\" height=\"500\" allow=\"autoplay; camera; microphone; clipboard-read; clipboard-write;\" frameborder=\"0\" allowfullscreen></iframe></div>"
      ],
      "text/plain": [
       "<IPython.core.display.HTML object>"
      ]
     },
     "metadata": {},
     "output_type": "display_data"
    },
    {
     "data": {
      "text/plain": []
     },
     "execution_count": 1,
     "metadata": {},
     "output_type": "execute_result"
    }
   ],
   "source": [
    "import gradio as gr\n",
    "\n",
    "from langchain.chains import ConversationChain\n",
    "from langchain.memory import ConversationSummaryBufferMemory\n",
    "from langchain_openai import OpenAI,ChatOpenAI\n",
    "\n",
    "memory = ConversationSummaryBufferMemory(llm=ChatOpenAI(), max_token_limit=2048)\n",
    "conversation = ConversationChain(\n",
    "    llm=OpenAI(max_tokens=2048, temperature=0.5),\n",
    "    memory=memory,\n",
    ")\n",
    "\n",
    "def predict(input, history=[]):\n",
    "    history.append(input)\n",
    "    response = conversation.predict(input=input)\n",
    "    history.append(response)\n",
    "    response = [(u, b) for u, b in zip(history[::2], history[1::2])]\n",
    "    return response, history\n",
    "\n",
    "\n",
    "with gr.Blocks(css=\"#chatbot{height:800px} .overflow-y-auto{height:800px}\") as demo:\n",
    "    chatbot = gr.Chatbot(elem_id=\"chatbot_base\")\n",
    "    state = gr.State([])\n",
    "    \n",
    "    with gr.Row():\n",
    "        txt = gr.Textbox(\n",
    "            show_label=False,\n",
    "            placeholder=\"Enter text and press enter\",\n",
    "            container=False,\n",
    "        )\n",
    "    txt.submit(predict, [txt, state], [chatbot, state])\n",
    "    \n",
    "demo.launch(server_name=\"0.0.0.0\", server_port=7860)"
   ]
  },
  {
   "cell_type": "markdown",
   "id": "9b962bec-fa43-411b-b1f5-d647a66f0267",
   "metadata": {},
   "source": [
    "# 增加语音功能（支持服务器没有声卡）"
   ]
  },
  {
   "cell_type": "code",
   "execution_count": 1,
   "id": "ed132283-81b3-4522-835d-b05883622fdd",
   "metadata": {
    "execution": {
     "iopub.execute_input": "2024-05-12T11:59:51.367914Z",
     "iopub.status.busy": "2024-05-12T11:59:51.367636Z",
     "iopub.status.idle": "2024-05-12T11:59:54.517972Z",
     "shell.execute_reply": "2024-05-12T11:59:54.516839Z",
     "shell.execute_reply.started": "2024-05-12T11:59:51.367884Z"
    },
    "tags": []
   },
   "outputs": [
    {
     "name": "stdout",
     "output_type": "stream",
     "text": [
      "Running on local URL:  http://0.0.0.0:7860\n",
      "\n",
      "To create a public link, set `share=True` in `launch()`.\n"
     ]
    },
    {
     "data": {
      "text/html": [
       "<div><iframe src=\"http://localhost:7860/\" width=\"100%\" height=\"500\" allow=\"autoplay; camera; microphone; clipboard-read; clipboard-write;\" frameborder=\"0\" allowfullscreen></iframe></div>"
      ],
      "text/plain": [
       "<IPython.core.display.HTML object>"
      ]
     },
     "metadata": {},
     "output_type": "display_data"
    },
    {
     "data": {
      "text/plain": []
     },
     "execution_count": 1,
     "metadata": {},
     "output_type": "execute_result"
    }
   ],
   "source": [
    "import openai, os\n",
    "import gradio as gr\n",
    "\n",
    "from langchain.chains import ConversationChain\n",
    "from langchain.memory import ConversationSummaryBufferMemory\n",
    "from langchain_openai import OpenAI,ChatOpenAI\n",
    "\n",
    "import azure.cognitiveservices.speech as speechsdk\n",
    "from IPython.display import Audio\n",
    "import tempfile, base64\n",
    "\n",
    "client = openai.Client(\n",
    "    base_url=os.getenv(\"OPENAI_API_BASE\"),\n",
    ")\n",
    "\n",
    "memory = ConversationSummaryBufferMemory(llm=ChatOpenAI(), max_token_limit=2048)\n",
    "conversation = ConversationChain(\n",
    "    llm=OpenAI(max_tokens=2048, temperature=0.5),\n",
    "    memory=memory,\n",
    ")\n",
    "\n",
    "speech_config = speechsdk.SpeechConfig(subscription=os.environ['AZURE_SPEECH_KEY'], region=os.environ['AZURE_SPEECH_REGION'])\n",
    "speech_config.speech_synthesis_voice_name='zh-CN-XiaohanNeural'\n",
    "\n",
    "def convert_to_base64(audio_file_path):\n",
    "    with open(audio_file_path, 'rb') as audio_file:\n",
    "        audio_bytes = audio_file.read()\n",
    "    audio_base64 = base64.b64encode(audio_bytes).decode('utf-8')\n",
    "    return audio_base64\n",
    "   \n",
    "def play_voice(text):\n",
    "    with tempfile.NamedTemporaryFile(suffix=\".wav\", delete=True) as tmpfile:\n",
    "        audio_config = speechsdk.audio.AudioOutputConfig(filename=tmpfile.name)\n",
    "        speech_synthesizer = speechsdk.SpeechSynthesizer(speech_config=speech_config, audio_config=audio_config)\n",
    "        result = speech_synthesizer.speak_text(text)\n",
    "\n",
    "        if result.reason == speechsdk.ResultReason.SynthesizingAudioCompleted:\n",
    "            audio_base64 = convert_to_base64(tmpfile.name)\n",
    "            audio_html = f'''\n",
    "                <audio controls autoplay>\n",
    "                    <source src=\"data:audio/wav;base64,{audio_base64}\" type=\"audio/wav\">\n",
    "                    Your browser does not support the audio element.\n",
    "                </audio>\n",
    "            '''\n",
    "        elif result.reason == speechsdk.ResultReason.Canceled:\n",
    "            cancellation_details = result.cancellation_details\n",
    "            audio_html = f\"合成被取消: {cancellation_details.reason}\\n\"\n",
    "            if cancellation_details.reason == speechsdk.CancellationReason.Error:\n",
    "                audio_html += f\"详细错误信息: {cancellation_details.error_details}\"\n",
    "        return audio_html\n",
    "    \n",
    "def predict(input, history=[]):\n",
    "    if input is not None:\n",
    "        history.append(input)\n",
    "        response = conversation.predict(input=input)\n",
    "        history.append(response)\n",
    "        audio_html = play_voice(response)\n",
    "    else:\n",
    "        audio_html = \"\"\n",
    "    response = [(u, b) for u, b in zip(history[::2], history[1::2])]\n",
    "    return response, audio_html, history\n",
    "\n",
    "def transcribe(audio):\n",
    "    audio_file = open(audio, \"rb\")\n",
    "    translation = client.audio.translations.create(model=\"whisper-1\", file=audio_file)\n",
    "    return translation.text\n",
    "\n",
    "def process_audio(audio, history=[]):\n",
    "    if audio is not None:\n",
    "        text = transcribe(audio)\n",
    "        return predict(text, history)\n",
    "    else:\n",
    "        text = None\n",
    "        return predict(text, history)\n",
    "\n",
    "with gr.Blocks(css=\"#chatbot{height:800px} .overflow-y-auto{height:800px}\") as demo:\n",
    "    chatbot = gr.Chatbot(elem_id=\"chatbot_audio\")\n",
    "    state = gr.State([])\n",
    "    \n",
    "    with gr.Row():\n",
    "        txt = gr.Textbox(\n",
    "            show_label=False,\n",
    "            placeholder=\"Enter text and press enter\",\n",
    "            container=False,\n",
    "        )\n",
    "        \n",
    "    with gr.Row():\n",
    "        audio = gr.Audio(sources=[\"microphone\"], type=\"filepath\")\n",
    "        \n",
    "    with gr.Row():\n",
    "        audio_html = gr.HTML('')\n",
    "    \n",
    "    txt.submit(predict, [txt, state], [chatbot, audio_html, state])\n",
    "    audio.change(process_audio, [audio, state], [chatbot, audio_html, state])\n",
    "    \n",
    "# 重启内核或更换端口\n",
    "demo.launch(server_name=\"0.0.0.0\", server_port=7860)"
   ]
  },
  {
   "cell_type": "markdown",
   "id": "3f46ab3a-b815-4949-b306-c24431564e68",
   "metadata": {},
   "source": [
    "# 用D-ID给语音对口型"
   ]
  },
  {
   "cell_type": "code",
   "execution_count": 6,
   "id": "b96f3ac7-cee1-42d0-9ad9-27f55081a5eb",
   "metadata": {
    "execution": {
     "iopub.execute_input": "2024-05-12T09:54:15.876387Z",
     "iopub.status.busy": "2024-05-12T09:54:15.875802Z",
     "iopub.status.idle": "2024-05-12T09:54:21.051026Z",
     "shell.execute_reply": "2024-05-12T09:54:21.049136Z",
     "shell.execute_reply.started": "2024-05-12T09:54:15.876356Z"
    },
    "tags": []
   },
   "outputs": [
    {
     "name": "stdout",
     "output_type": "stream",
     "text": [
      "{'id': 'tlk_rh3vkTQ7484UM1zHnLtlg', 'created_at': '2024-05-12T09:54:20.803Z', 'created_by': 'auth0|664091516f819b79cafd862a', 'status': 'created', 'object': 'talk'}\n"
     ]
    }
   ],
   "source": [
    "import requests\n",
    "import os\n",
    "\n",
    "def generate_talk(input, avatar_url,\n",
    "                  voice_type = \"microsoft\",\n",
    "                  voice_id = \"zh-CN-XiaomoNeural\",\n",
    "                  api_key = os.environ.get('DID_API_KEY')):\n",
    "    url = \"https://api.d-id.com/talks\"\n",
    "    payload = {\n",
    "        \"script\": {\n",
    "            \"type\": \"text\",\n",
    "            \"provider\": {\n",
    "                \"type\": voice_type,\n",
    "                \"voice_id\": voice_id\n",
    "            },\n",
    "            \"ssml\": \"false\",\n",
    "            \"input\": input\n",
    "        },\n",
    "        \"config\": {\n",
    "            \"fluent\": \"false\",\n",
    "            \"pad_audio\": \"0.0\"\n",
    "        },\n",
    "        \"source_url\": avatar_url\n",
    "    }\n",
    "    headers = {\n",
    "        \"accept\": \"application/json\",\n",
    "        \"content-type\": \"application/json\",\n",
    "        \"authorization\": \"Basic \" + api_key\n",
    "    }\n",
    "\n",
    "    response = requests.post(url, json=payload, headers=headers)\n",
    "    return response.json()\n",
    "\n",
    "avatar_url = \"https://www.d-id.com/wp-content/uploads/2023/11/Hero-image-1.png\"\n",
    "\n",
    "def get_a_talk(id, api_key = os.environ.get('DID_API_KEY')):\n",
    "    url = \"https://api.d-id.com/talks/\" + id\n",
    "    headers = {\n",
    "        \"accept\": \"application/json\",\n",
    "        \"authorization\": \"Basic \"+api_key\n",
    "    }\n",
    "    response = requests.get(url, headers=headers)\n",
    "    return response.json()\n",
    "\n",
    "def play_mp4_video(url):\n",
    "    video_tag = f\"\"\"\n",
    "    <video width=\"640\" height=\"480\" controls>\n",
    "        <source src=\"{url}\" type=\"video/mp4\">\n",
    "    Your browser does not support the video tag.\n",
    "    </video>\n",
    "    \"\"\"\n",
    "    return HTML(video_tag)\n",
    "\n",
    "text = \"今天天气真不错呀。\"\n",
    "\n",
    "response = generate_talk(input=text, avatar_url=avatar_url)\n",
    "print(response)\n",
    "\n",
    "talk = get_a_talk(response['id'])\n",
    "print(talk)\n",
    "result_url = talk['result_url']\n",
    "play_mp4_video(result_url)"
   ]
  },
  {
   "cell_type": "code",
   "execution_count": 1,
   "id": "f2278b2e-eb86-42f7-b166-c9dc47d12f36",
   "metadata": {
    "execution": {
     "iopub.execute_input": "2024-05-12T11:24:30.970616Z",
     "iopub.status.busy": "2024-05-12T11:24:30.970305Z",
     "iopub.status.idle": "2024-05-12T11:24:34.252067Z",
     "shell.execute_reply": "2024-05-12T11:24:34.250861Z",
     "shell.execute_reply.started": "2024-05-12T11:24:30.970585Z"
    },
    "tags": []
   },
   "outputs": [
    {
     "name": "stdout",
     "output_type": "stream",
     "text": [
      "Running on local URL:  http://0.0.0.0:7860\n",
      "\n",
      "To create a public link, set `share=True` in `launch()`.\n"
     ]
    },
    {
     "data": {
      "text/html": [
       "<div><iframe src=\"http://localhost:7860/\" width=\"100%\" height=\"500\" allow=\"autoplay; camera; microphone; clipboard-read; clipboard-write;\" frameborder=\"0\" allowfullscreen></iframe></div>"
      ],
      "text/plain": [
       "<IPython.core.display.HTML object>"
      ]
     },
     "metadata": {},
     "output_type": "display_data"
    },
    {
     "data": {
      "text/plain": []
     },
     "execution_count": 1,
     "metadata": {},
     "output_type": "execute_result"
    }
   ],
   "source": [
    "import openai, os\n",
    "import gradio as gr\n",
    "\n",
    "from langchain.chains import ConversationChain\n",
    "from langchain.memory import ConversationSummaryBufferMemory\n",
    "from langchain_openai import OpenAI,ChatOpenAI\n",
    "\n",
    "import azure.cognitiveservices.speech as speechsdk\n",
    "from IPython.display import Audio\n",
    "\n",
    "from gradio import HTML\n",
    "import tempfile, base64\n",
    "import requests,time\n",
    "\n",
    "client = openai.Client(\n",
    "    base_url=os.getenv(\"OPENAI_API_BASE\"),\n",
    ")\n",
    "\n",
    "memory = ConversationSummaryBufferMemory(llm=ChatOpenAI(), max_token_limit=2048)\n",
    "conversation = ConversationChain(\n",
    "    llm=OpenAI(max_tokens=2048, temperature=0.5),\n",
    "    memory=memory,\n",
    ")\n",
    "\n",
    "speech_config = speechsdk.SpeechConfig(subscription=os.environ['AZURE_SPEECH_KEY'], region=os.environ['AZURE_SPEECH_REGION'])\n",
    "speech_config.speech_synthesis_voice_name='zh-CN-XiaohanNeural'\n",
    "\n",
    "avatar_url = \"https://www.d-id.com/wp-content/uploads/2023/11/Hero-image-1.png\"\n",
    "\n",
    "def generate_talk(input, avatar_url,\n",
    "                  voice_type = \"microsoft\",\n",
    "                  voice_id = \"zh-CN-YunyeNeural\",\n",
    "                  api_key = os.environ.get('DID_API_KEY')):\n",
    "    url = \"https://api.d-id.com/talks\"\n",
    "    payload = {\n",
    "        \"script\": {\n",
    "            \"type\": \"text\",\n",
    "            \"provider\": {\n",
    "                \"type\": voice_type,\n",
    "                \"voice_id\": voice_id\n",
    "            },\n",
    "            \"ssml\": \"false\",\n",
    "            \"input\": input\n",
    "        },\n",
    "        \"config\": {\n",
    "            \"fluent\": \"false\",\n",
    "            \"pad_audio\": \"0.0\"\n",
    "        },\n",
    "        \"source_url\": avatar_url\n",
    "    }\n",
    "    headers = {\n",
    "        \"accept\": \"application/json\",\n",
    "        \"content-type\": \"application/json\",\n",
    "        \"authorization\": \"Basic \" + api_key\n",
    "    }\n",
    "\n",
    "    response = requests.post(url, json=payload, headers=headers)\n",
    "    return response.json()\n",
    "\n",
    "def get_a_talk(id, api_key = os.environ.get('DID_API_KEY')):\n",
    "    url = \"https://api.d-id.com/talks/\" + id\n",
    "    headers = {\n",
    "        \"accept\": \"application/json\",\n",
    "        \"authorization\": \"Basic \"+api_key\n",
    "    }\n",
    "    response = requests.get(url, headers=headers)\n",
    "    return response.json()\n",
    "\n",
    "def get_mp4_video(input, avatar_url=avatar_url):\n",
    "    response = generate_talk(input=input, avatar_url=avatar_url)\n",
    "    talk = get_a_talk(response['id'])\n",
    "    video_url = \"\"\n",
    "    index = 0\n",
    "    while index < 30:\n",
    "        index += 1\n",
    "        if 'result_url' in talk:\n",
    "            video_url = talk['result_url']\n",
    "            return video_url\n",
    "        else:\n",
    "            time.sleep(1)\n",
    "            talk = get_a_talk(response['id'])\n",
    "    return video_url\n",
    "    \n",
    "def predict(input, history=[]):\n",
    "    if input is not None:\n",
    "        history.append(input)\n",
    "        response = conversation.predict(input=input)\n",
    "        history.append(response)\n",
    "        video_url = get_mp4_video(input=response, avatar_url=avatar_url)\n",
    "        video_html = f\"\"\"<video width=\"320\" height=\"240\" controls autoplay><source src=\"{video_url}\" type=\"video/mp4\"></video>\"\"\"\n",
    "    else:\n",
    "        video_html = \"\"\n",
    "    response = [(u, b) for u, b in zip(history[::2], history[1::2])]\n",
    "    return response, video_html, history\n",
    "\n",
    "def transcribe(audio):\n",
    "    audio_file = open(audio, \"rb\")\n",
    "    translation = client.audio.translations.create(model=\"whisper-1\", file=audio_file, prompt=\"这是一段简体中文的问题。\")\n",
    "    return translation.text\n",
    "\n",
    "def process_audio(audio, history=[]):\n",
    "    if audio is not None:\n",
    "        text = transcribe(audio)\n",
    "    else:\n",
    "        text = None\n",
    "    return predict(text, history)\n",
    "\n",
    "with gr.Blocks(css=\"#chatbot{height:800px} .overflow-y-auto{height:800px}\") as demo:\n",
    "    chatbot = gr.Chatbot(elem_id=\"chatbot_digital_person\")\n",
    "    state = gr.State([])\n",
    "    \n",
    "    with gr.Row():\n",
    "        txt = gr.Textbox(\n",
    "            show_label=False,\n",
    "            placeholder=\"Enter text and press enter\",\n",
    "            container=False,\n",
    "        )\n",
    "        \n",
    "    with gr.Row():\n",
    "        audio = gr.Audio(sources=[\"microphone\"], type=\"filepath\")\n",
    "        \n",
    "    with gr.Row():\n",
    "        video = gr.HTML(f'<img src=\"{avatar_url}\" width=\"320\" height=\"240\" alt=\"John Carmack\">')\n",
    "    \n",
    "    txt.submit(predict, [txt, state], [chatbot, video, state])\n",
    "    audio.change(process_audio, [audio, state], [chatbot, video, state])\n",
    "    \n",
    "# 重启内核或更换端口\n",
    "demo.launch(server_name=\"0.0.0.0\", server_port=7860)"
   ]
  }
 ],
 "metadata": {
  "kernelspec": {
   "display_name": "Python 3 (ipykernel)",
   "language": "python",
   "name": "python3"
  },
  "language_info": {
   "codemirror_mode": {
    "name": "ipython",
    "version": 3
   },
   "file_extension": ".py",
   "mimetype": "text/x-python",
   "name": "python",
   "nbconvert_exporter": "python",
   "pygments_lexer": "ipython3",
   "version": "3.10.12"
  }
 },
 "nbformat": 4,
 "nbformat_minor": 5
}
