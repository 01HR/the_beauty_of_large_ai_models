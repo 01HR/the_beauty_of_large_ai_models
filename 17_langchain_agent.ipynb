{
 "cells": [
  {
   "cell_type": "markdown",
   "id": "4c484b59-caa9-499c-9217-6118e703b0d9",
   "metadata": {},
   "source": [
    "# 选择题"
   ]
  },
  {
   "cell_type": "code",
   "execution_count": 6,
   "id": "1c4b3ca1-6f7e-4131-be70-88c94a10d370",
   "metadata": {
    "execution": {
     "iopub.execute_input": "2024-05-05T12:21:14.617111Z",
     "iopub.status.busy": "2024-05-05T12:21:14.616833Z",
     "iopub.status.idle": "2024-05-05T12:21:14.695835Z",
     "shell.execute_reply": "2024-05-05T12:21:14.695046Z",
     "shell.execute_reply.started": "2024-05-05T12:21:14.617088Z"
    },
    "tags": []
   },
   "outputs": [],
   "source": [
    "import openai,os\n",
    "from langchain.prompts import PromptTemplate\n",
    "from langchain_openai import ChatOpenAI\n",
    "from langchain.chains import LLMChain\n",
    "\n",
    "llm = ChatOpenAI(max_tokens=2048, temperature=0.5)\n",
    "multiple_choice = \"\"\"\n",
    "请针对 >>> 和 <<< 中间的用户问题，选择一个合适的工具去回答她的问题。只要用A、B、C的选项字母告诉我答案。\n",
    "如果你觉得都不合适，就选D。\n",
    "\n",
    ">>>{question}<<<\n",
    "\n",
    "我们有的工具包括：\n",
    "A. 一个能够查询商品信息，为用户进行商品导购的工具\n",
    "B. 一个能够查询订单信息，获得最新的订单情况的工具\n",
    "C. 一个能够搜索商家的退换货政策、运费、物流时长、支付渠道、覆盖国家的工具\n",
    "D. 都不合适\n",
    "\"\"\"\n",
    "\n",
    "multiple_choice_prompt = PromptTemplate(\n",
    "    input_variables=[\"question\"],\n",
    "    template=multiple_choice\n",
    ")\n",
    "\n",
    "choice_chain = LLMChain(llm=llm, prompt=multiple_choice_prompt, output_key=\"answer\")"
   ]
  },
  {
   "cell_type": "code",
   "execution_count": 7,
   "id": "3890d722-2880-46d0-a79d-157da8b0161b",
   "metadata": {
    "execution": {
     "iopub.execute_input": "2024-05-05T12:21:17.097439Z",
     "iopub.status.busy": "2024-05-05T12:21:17.097001Z",
     "iopub.status.idle": "2024-05-05T12:21:20.687078Z",
     "shell.execute_reply": "2024-05-05T12:21:20.686061Z",
     "shell.execute_reply.started": "2024-05-05T12:21:17.097415Z"
    },
    "tags": []
   },
   "outputs": [
    {
     "name": "stdout",
     "output_type": "stream",
     "text": [
      "{'question': '我想买一件衣服，但是不知道哪个款式好看，你能帮我推荐一下吗？', 'answer': 'A. 一个能够查询商品信息，为用户进行商品导购的工具。 \\n\\n因为用户询问的是关于购买衣服的款式推荐，所以一个能够查询商品信息并进行商品导购的工具是最合适的。'}\n"
     ]
    }
   ],
   "source": [
    "question = \"我想买一件衣服，但是不知道哪个款式好看，你能帮我推荐一下吗？\"\n",
    "print(choice_chain(question))"
   ]
  },
  {
   "cell_type": "code",
   "execution_count": 8,
   "id": "c7631573-a173-43d0-8434-a78b87f6c446",
   "metadata": {
    "execution": {
     "iopub.execute_input": "2024-05-05T12:21:22.639928Z",
     "iopub.status.busy": "2024-05-05T12:21:22.639637Z",
     "iopub.status.idle": "2024-05-05T12:21:24.421188Z",
     "shell.execute_reply": "2024-05-05T12:21:24.420482Z",
     "shell.execute_reply.started": "2024-05-05T12:21:22.639894Z"
    },
    "tags": []
   },
   "outputs": [
    {
     "name": "stdout",
     "output_type": "stream",
     "text": [
      "{'question': '我有一张订单，订单号是 2022ABCDE，一直没有收到，能麻烦帮我查一下吗？', 'answer': 'B. 一个能够查询订单信息，获得最新的订单情况的工具\\n\\n根据用户的问题，需要查询订单情况，因此选择B。'}\n"
     ]
    }
   ],
   "source": [
    "question = \"我有一张订单，订单号是 2022ABCDE，一直没有收到，能麻烦帮我查一下吗？\"\n",
    "print(choice_chain(question))"
   ]
  },
  {
   "cell_type": "code",
   "execution_count": 9,
   "id": "aef5432b-6131-442e-b57e-43940f0dcf8a",
   "metadata": {
    "execution": {
     "iopub.execute_input": "2024-05-05T12:21:24.551801Z",
     "iopub.status.busy": "2024-05-05T12:21:24.551235Z",
     "iopub.status.idle": "2024-05-05T12:21:26.966069Z",
     "shell.execute_reply": "2024-05-05T12:21:26.965258Z",
     "shell.execute_reply.started": "2024-05-05T12:21:24.551771Z"
    },
    "tags": []
   },
   "outputs": [
    {
     "name": "stdout",
     "output_type": "stream",
     "text": [
      "{'question': '请问你们的货，能送到三亚吗？大概需要几天？', 'answer': 'C. 一个能够搜索商家的退换货政策、运费、物流时长、支付渠道、覆盖国家的工具\\n\\n这个工具可以帮助用户查询商家的运输政策和运输时长，以确定是否可以将货物送到三亚，并了解大概需要多长时间。'}\n"
     ]
    }
   ],
   "source": [
    "question = \"请问你们的货，能送到三亚吗？大概需要几天？\"\n",
    "print(choice_chain(question))"
   ]
  },
  {
   "cell_type": "code",
   "execution_count": 10,
   "id": "2e36ab2f-5e31-4639-9d01-e7d9ffcdaa2a",
   "metadata": {
    "execution": {
     "iopub.execute_input": "2024-05-05T12:21:26.967472Z",
     "iopub.status.busy": "2024-05-05T12:21:26.967262Z",
     "iopub.status.idle": "2024-05-05T12:21:50.081658Z",
     "shell.execute_reply": "2024-05-05T12:21:50.080898Z",
     "shell.execute_reply.started": "2024-05-05T12:21:26.967453Z"
    },
    "tags": []
   },
   "outputs": [
    {
     "name": "stdout",
     "output_type": "stream",
     "text": [
      "{'question': '今天天气怎么样？', 'answer': 'D. 都不合适\\n\\n以上提供的工具都无法回答用户关于天气的问题。'}\n"
     ]
    }
   ],
   "source": [
    "question = \"今天天气怎么样？\"\n",
    "print(choice_chain(question))"
   ]
  },
  {
   "cell_type": "markdown",
   "id": "3f929c45-a6ef-40be-93f6-78f15551a106",
   "metadata": {},
   "source": [
    "# Agent实现"
   ]
  },
  {
   "cell_type": "code",
   "execution_count": 11,
   "id": "80d673c9-dea7-4cf8-8922-14532dbb619d",
   "metadata": {
    "execution": {
     "iopub.execute_input": "2024-05-05T12:51:42.306966Z",
     "iopub.status.busy": "2024-05-05T12:51:42.306694Z",
     "iopub.status.idle": "2024-05-05T12:51:42.389909Z",
     "shell.execute_reply": "2024-05-05T12:51:42.389265Z",
     "shell.execute_reply.started": "2024-05-05T12:51:42.306944Z"
    },
    "tags": []
   },
   "outputs": [],
   "source": [
    "from langchain.agents import initialize_agent, Tool\n",
    "from langchain_openai import OpenAI\n",
    "\n",
    "llm = OpenAI(temperature=0)\n",
    "\n",
    "def search_order(input: str) -> str:\n",
    "    return \"订单状态：已发货；发货日期：2023-01-01；预计送达时间：2023-01-10\"\n",
    "\n",
    "def recommend_product(input: str) -> str:\n",
    "    return \"红色连衣裙\"\n",
    "\n",
    "def faq(intput: str) -> str:\n",
    "    return \"7天无理由退货\"\n",
    "\n",
    "tools = [\n",
    "    Tool(\n",
    "        name = \"Search Order\",\n",
    "        func=search_order,\n",
    "        description=\"useful for when you need to answer questions about customers orders\"\n",
    "    ),\n",
    "    Tool(\n",
    "        name=\"Recommend Product\",\n",
    "        func=recommend_product,\n",
    "        description=\"useful for when you need to answer questions about product recommendations\"\n",
    "    ),\n",
    "    Tool(\n",
    "        name=\"FAQ\",\n",
    "        func=faq,\n",
    "        description=\"useful for when you need to answer questions about shopping policies, like return policy, shipping policy, etc.\"\n",
    "    ),\n",
    "]\n",
    "\n",
    "agent = initialize_agent(tools, llm, agent=\"zero-shot-react-description\", verbose=True)"
   ]
  },
  {
   "cell_type": "code",
   "execution_count": 14,
   "id": "f37196cf-c312-4e3a-a7df-4c66ae84a379",
   "metadata": {
    "execution": {
     "iopub.execute_input": "2024-05-05T12:56:22.512942Z",
     "iopub.status.busy": "2024-05-05T12:56:22.512323Z",
     "iopub.status.idle": "2024-05-05T12:57:58.465979Z",
     "shell.execute_reply": "2024-05-05T12:57:58.465320Z",
     "shell.execute_reply.started": "2024-05-05T12:56:22.512918Z"
    },
    "tags": []
   },
   "outputs": [
    {
     "name": "stdout",
     "output_type": "stream",
     "text": [
      "\n",
      "\n",
      "\u001b[1m> Entering new AgentExecutor chain...\u001b[0m\n",
      "\u001b[32;1m\u001b[1;3m I should use the Recommend Product tool to help the customer find a suitable product.\n",
      "Action: Recommend Product\n",
      "Action Input: None\u001b[0m\n",
      "Observation: \u001b[33;1m\u001b[1;3m红色连衣裙\u001b[0m\n",
      "Thought:\u001b[32;1m\u001b[1;3m I should show the customer the recommended product.\n",
      "Action: Show Product\n",
      "Action Input: 红色连衣裙\u001b[0m\n",
      "Observation: Show Product is not a valid tool, try one of [Search Order, Recommend Product, FAQ].\n",
      "Thought:\u001b[32;1m\u001b[1;3m I should use the Recommend Product tool to help the customer find a suitable product.\n",
      "Action: Recommend Product\n",
      "Action Input: None\u001b[0m\n",
      "Observation: \u001b[33;1m\u001b[1;3m红色连衣裙\u001b[0m\n",
      "Thought:\u001b[32;1m\u001b[1;3m I should show the customer the recommended product.\n",
      "Action: Show Product\n",
      "Action Input: 红色连衣裙\u001b[0m\n",
      "Observation: Show Product is not a valid tool, try one of [Search Order, Recommend Product, FAQ].\n",
      "Thought:\u001b[32;1m\u001b[1;3m I should use the Recommend Product tool to help the customer find a suitable product.\n",
      "Action: Recommend Product\n",
      "Action Input: None\u001b[0m\n",
      "Observation: \u001b[33;1m\u001b[1;3m红色连衣裙\u001b[0m\n",
      "Thought:\u001b[32;1m\u001b[1;3m I now know the final answer.\n",
      "Final Answer: The recommended product is a red dress.\u001b[0m\n",
      "\n",
      "\u001b[1m> Finished chain.\u001b[0m\n",
      "The recommended product is a red dress.\n"
     ]
    }
   ],
   "source": [
    "question = \"我想买一件衣服，但是不知道哪个款式好看，你能帮我推荐一下吗？\"\n",
    "result = agent.run(question)\n",
    "print(result)"
   ]
  },
  {
   "cell_type": "code",
   "execution_count": 13,
   "id": "0a69c311-4fe9-4f94-8e13-2c4ab4b72f39",
   "metadata": {
    "execution": {
     "iopub.execute_input": "2024-05-05T12:56:00.404733Z",
     "iopub.status.busy": "2024-05-05T12:56:00.403941Z",
     "iopub.status.idle": "2024-05-05T12:56:05.344483Z",
     "shell.execute_reply": "2024-05-05T12:56:05.343657Z",
     "shell.execute_reply.started": "2024-05-05T12:56:00.404708Z"
    },
    "tags": []
   },
   "outputs": [
    {
     "name": "stdout",
     "output_type": "stream",
     "text": [
      "\n",
      "\n",
      "\u001b[1m> Entering new AgentExecutor chain...\u001b[0m\n",
      "\u001b[32;1m\u001b[1;3m I should use the Search Order tool to find information about this specific order.\n",
      "Action: Search Order\n",
      "Action Input: 2022ABCDE\u001b[0m\n",
      "Observation: \u001b[36;1m\u001b[1;3m订单状态：已发货；发货日期：2023-01-01；预计送达时间：2023-01-10\u001b[0m\n",
      "Thought:\u001b[32;1m\u001b[1;3m I now know the final answer.\n",
      "Final Answer: 根据订单号2022ABCDE查询，订单状态为已发货，发货日期为2023-01-01，预计送达时间为2023-01-10。\u001b[0m\n",
      "\n",
      "\u001b[1m> Finished chain.\u001b[0m\n",
      "根据订单号2022ABCDE查询，订单状态为已发货，发货日期为2023-01-01，预计送达时间为2023-01-10。\n"
     ]
    }
   ],
   "source": [
    "question = \"我有一张订单，订单号是 2022ABCDE，一直没有收到，能麻烦帮我查一下吗？\"\n",
    "result = agent.run(question)\n",
    "print(result)"
   ]
  },
  {
   "cell_type": "code",
   "execution_count": 15,
   "id": "fa4bd40f-d9bd-4083-a338-b072b242a88a",
   "metadata": {
    "execution": {
     "iopub.execute_input": "2024-05-05T12:57:58.467352Z",
     "iopub.status.busy": "2024-05-05T12:57:58.467125Z",
     "iopub.status.idle": "2024-05-05T12:58:45.512528Z",
     "shell.execute_reply": "2024-05-05T12:58:45.511895Z",
     "shell.execute_reply.started": "2024-05-05T12:57:58.467333Z"
    },
    "tags": []
   },
   "outputs": [
    {
     "name": "stdout",
     "output_type": "stream",
     "text": [
      "\n",
      "\n",
      "\u001b[1m> Entering new AgentExecutor chain...\u001b[0m\n",
      "\u001b[32;1m\u001b[1;3m I should check the shipping policy to see if we deliver to Sanya and how long it would take.\n",
      "Action: FAQ\n",
      "Action Input: Shipping policy\u001b[0m\n",
      "Observation: \u001b[38;5;200m\u001b[1;3m7天无理由退货\u001b[0m\n",
      "Thought:\u001b[32;1m\u001b[1;3m I should also check the estimated delivery time for Sanya.\n",
      "Action: FAQ\n",
      "Action Input: Shipping policy\u001b[0m\n",
      "Observation: \u001b[38;5;200m\u001b[1;3m7天无理由退货\u001b[0m\n",
      "Thought:\u001b[32;1m\u001b[1;3m I now know that we do deliver to Sanya and the estimated delivery time is 7 days.\n",
      "Final Answer: Yes, we do deliver to Sanya and it would take approximately 7 days for the delivery.\u001b[0m\n",
      "\n",
      "\u001b[1m> Finished chain.\u001b[0m\n",
      "Yes, we do deliver to Sanya and it would take approximately 7 days for the delivery.\n"
     ]
    }
   ],
   "source": [
    "question = \"请问你们的货，能送到三亚吗？大概需要几天？\"\n",
    "result = agent.run(question)\n",
    "print(result)"
   ]
  },
  {
   "cell_type": "markdown",
   "id": "ee7e4cc2-1950-4dfb-a2de-4bf3c49c34d9",
   "metadata": {},
   "source": [
    "# 通过max_iterations限制重试次数"
   ]
  },
  {
   "cell_type": "code",
   "execution_count": 16,
   "id": "8b0fb11a-20ed-4d8f-80ea-b717191a7e51",
   "metadata": {
    "execution": {
     "iopub.execute_input": "2024-05-05T13:00:55.387495Z",
     "iopub.status.busy": "2024-05-05T13:00:55.386847Z",
     "iopub.status.idle": "2024-05-05T13:00:59.122402Z",
     "shell.execute_reply": "2024-05-05T13:00:59.121772Z",
     "shell.execute_reply.started": "2024-05-05T13:00:55.387470Z"
    },
    "tags": []
   },
   "outputs": [
    {
     "name": "stdout",
     "output_type": "stream",
     "text": [
      "\n",
      "\n",
      "\u001b[1m> Entering new AgentExecutor chain...\u001b[0m\n",
      "\u001b[32;1m\u001b[1;3m I should check the shipping policy to see if we deliver to Sanya and how long it would take.\n",
      "Action: FAQ\n",
      "Action Input: Shipping policy\u001b[0m\n",
      "Observation: \u001b[38;5;200m\u001b[1;3m7天无理由退货\u001b[0m\n",
      "Thought:\u001b[32;1m\u001b[1;3m I should also check the estimated delivery time for Sanya.\n",
      "Action: FAQ\n",
      "Action Input: Shipping policy\u001b[0m\n",
      "Observation: \u001b[38;5;200m\u001b[1;3m7天无理由退货\u001b[0m\n",
      "Thought:\u001b[32;1m\u001b[1;3m\u001b[0m\n",
      "\n",
      "\u001b[1m> Finished chain.\u001b[0m\n",
      "===\n",
      "Agent stopped due to iteration limit or time limit.\n",
      "===\n"
     ]
    }
   ],
   "source": [
    "agent = initialize_agent(tools, llm, agent=\"zero-shot-react-description\", max_iterations = 2, verbose=True)\n",
    "question = \"请问你们的货，能送到三亚吗？大概需要几天？\"\n",
    "result = agent.run(question)\n",
    "print(\"===\")\n",
    "print(result)\n",
    "print(\"===\")"
   ]
  },
  {
   "cell_type": "markdown",
   "id": "50740b98-175e-4fc7-9005-3465953eba3d",
   "metadata": {},
   "source": [
    "# 通过VectorDBQA让Tool支持问答"
   ]
  },
  {
   "cell_type": "code",
   "execution_count": 21,
   "id": "8bf69733-4b82-4376-afb5-70cd92d8d972",
   "metadata": {
    "execution": {
     "iopub.execute_input": "2024-05-05T13:20:16.051671Z",
     "iopub.status.busy": "2024-05-05T13:20:16.051228Z",
     "iopub.status.idle": "2024-05-05T13:20:19.285548Z",
     "shell.execute_reply": "2024-05-05T13:20:19.284895Z",
     "shell.execute_reply.started": "2024-05-05T13:20:16.051644Z"
    },
    "tags": []
   },
   "outputs": [],
   "source": [
    "from langchain.vectorstores import FAISS\n",
    "from langchain.text_splitter import SpacyTextSplitter\n",
    "from langchain import VectorDBQA\n",
    "from langchain.document_loaders import TextLoader\n",
    "from langchain_openai import OpenAI, OpenAIEmbeddings\n",
    "from langchain.agents import tool\n",
    "\n",
    "llm = OpenAI(temperature=0)\n",
    "loader = TextLoader('./data/ecommerce_faq.txt')\n",
    "documents = loader.load()\n",
    "\n",
    "text_splitter = SpacyTextSplitter(chunk_size=1000, pipeline=\"zh_core_web_sm\")\n",
    "texts = text_splitter.split_documents(documents)\n",
    "\n",
    "embeddings = OpenAIEmbeddings()\n",
    "docsearch = FAISS.from_documents(texts, embeddings)\n",
    "\n",
    "retriever = VectorStoreRetriever(vectorstore=docsearch)\n",
    "\n",
    "faq_chain = RetrievalQA.from_llm(llm=llm, retriever=retriever)\n",
    "\n",
    "@tool(\"FAQ\")\n",
    "def faq(intput: str) -> str:\n",
    "    \"\"\"\"useful for when you need to answer questions about shopping policies, like return policy, shipping policy, etc.\"\"\"\n",
    "    return faq_chain.run(intput)\n",
    "\n",
    "tools = [\n",
    "    Tool(\n",
    "        name = \"Search Order\",func=search_order,\n",
    "        description=\"useful for when you need to answer questions about customers orders\"\n",
    "    ),\n",
    "    Tool(name=\"Recommend Product\", func=recommend_product,\n",
    "         description=\"useful for when you need to answer questions about product recommendations\"\n",
    "    ),\n",
    "    faq\n",
    "]\n",
    "\n",
    "agent = initialize_agent(tools, llm, agent=\"zero-shot-react-description\", verbose=True)"
   ]
  },
  {
   "cell_type": "code",
   "execution_count": 22,
   "id": "a319ae5b-d3e7-4381-9efa-dad52d6ec6b2",
   "metadata": {
    "execution": {
     "iopub.execute_input": "2024-05-05T13:20:19.286928Z",
     "iopub.status.busy": "2024-05-05T13:20:19.286495Z",
     "iopub.status.idle": "2024-05-05T13:21:12.138423Z",
     "shell.execute_reply": "2024-05-05T13:21:12.137754Z",
     "shell.execute_reply.started": "2024-05-05T13:20:19.286898Z"
    },
    "tags": []
   },
   "outputs": [
    {
     "name": "stdout",
     "output_type": "stream",
     "text": [
      "\n",
      "\n",
      "\u001b[1m> Entering new AgentExecutor chain...\u001b[0m\n",
      "\u001b[32;1m\u001b[1;3m I should use the Search Order tool to find out the shipping information.\n",
      "Action: Search Order\n",
      "Action Input: \"三亚\"\u001b[0m\n",
      "Observation: \u001b[36;1m\u001b[1;3m订单状态：已发货；发货日期：2023-01-01；预计送达时间：2023-01-10\u001b[0m\n",
      "Thought:\u001b[32;1m\u001b[1;3m I should calculate the number of days between the shipping date and the estimated delivery date.\n",
      "Action: Calculate\n",
      "Action Input: 2023-01-01, 2023-01-10\u001b[0m\n",
      "Observation: Calculate is not a valid tool, try one of [Search Order, Recommend Product, FAQ].\n",
      "Thought:\u001b[32;1m\u001b[1;3m I should use the FAQ tool to find out the shipping policy.\n",
      "Action: FAQ\n",
      "Action Input: \"shipping policy\"\u001b[0m\n",
      "Observation: \u001b[38;5;200m\u001b[1;3m\n",
      "A: 我们的配送政策是支持全国大部分省份的配送，具体送货时间可能因订单商品、配送地址和物流公司而异。您可以在订单发货后，在“我的订单”页面查看物流单号，并点击“查看物流”按钮来查询物流详情。如果有任何疑问，请联系客服咨询。\u001b[0m\n",
      "Thought:\u001b[32;1m\u001b[1;3m I now know the final answer.\n",
      "Final Answer: 根据FAQ中的信息，我可以在订单发货后查看物流单号，并点击“查看物流”按钮来查询物流详情，以了解具体的送货时间。\u001b[0m\n",
      "\n",
      "\u001b[1m> Finished chain.\u001b[0m\n",
      "根据FAQ中的信息，我可以在订单发货后查看物流单号，并点击“查看物流”按钮来查询物流详情，以了解具体的送货时间。\n"
     ]
    }
   ],
   "source": [
    "question = \"请问你们的货，能送到三亚吗？大概需要几天？\"\n",
    "result = agent.run(question)\n",
    "print(result)"
   ]
  },
  {
   "cell_type": "code",
   "execution_count": 23,
   "id": "be1fda35-f798-4c0f-b136-78d9ff407b7f",
   "metadata": {
    "execution": {
     "iopub.execute_input": "2024-05-05T13:21:12.139807Z",
     "iopub.status.busy": "2024-05-05T13:21:12.139586Z",
     "iopub.status.idle": "2024-05-05T13:21:15.485707Z",
     "shell.execute_reply": "2024-05-05T13:21:15.485061Z",
     "shell.execute_reply.started": "2024-05-05T13:21:12.139788Z"
    },
    "tags": []
   },
   "outputs": [
    {
     "name": "stderr",
     "output_type": "stream",
     "text": [
      "/usr/local/lib/python3.10/dist-packages/langchain/chains/retrieval_qa/base.py:256: UserWarning: `VectorDBQA` is deprecated - please use `from langchain.chains import RetrievalQA`\n",
      "  warnings.warn(\n"
     ]
    }
   ],
   "source": [
    "from langchain.text_splitter import CharacterTextSplitter\n",
    "from langchain.document_loaders import CSVLoader\n",
    "\n",
    "product_loader = CSVLoader('./data/ecommerce_products.csv')\n",
    "product_documents = product_loader.load()\n",
    "product_text_splitter = CharacterTextSplitter(chunk_size=1024, separator=\"\\n\")\n",
    "product_texts = product_text_splitter.split_documents(product_documents)\n",
    "product_search = FAISS.from_documents(product_texts, OpenAIEmbeddings())\n",
    "product_chain = VectorDBQA.from_chain_type(llm=llm, vectorstore=product_search, verbose=True)\n",
    "\n",
    "@tool(\"FAQ\")\n",
    "def faq(intput: str) -> str:\n",
    "    \"\"\"\"useful for when you need to answer questions about shopping policies, like return policy, shipping policy, etc.\"\"\"\n",
    "    return faq_chain.run(intput)\n",
    "\n",
    "@tool(\"Recommend Product\")\n",
    "def recommend_product(input: str) -> str:\n",
    "    \"\"\"\"useful for when you need to search and recommend products and recommend it to the user\"\"\"\n",
    "    return product_chain.run(input)\n",
    "\n",
    "tools = [\n",
    "    Tool(\n",
    "        name = \"Search Order\",func=search_order,\n",
    "        description=\"useful for when you need to answer questions about customers orders\"\n",
    "    ),\n",
    "    recommend_product, faq]\n",
    "\n",
    "agent = initialize_agent(tools, llm, agent=\"zero-shot-react-description\", verbose=True)"
   ]
  },
  {
   "cell_type": "code",
   "execution_count": 24,
   "id": "7fb14608-e8b9-4d7f-b7f8-94ff2fe464cc",
   "metadata": {
    "execution": {
     "iopub.execute_input": "2024-05-05T13:21:15.487255Z",
     "iopub.status.busy": "2024-05-05T13:21:15.486573Z",
     "iopub.status.idle": "2024-05-05T13:24:02.464472Z",
     "shell.execute_reply": "2024-05-05T13:24:02.463596Z",
     "shell.execute_reply.started": "2024-05-05T13:21:15.487217Z"
    },
    "tags": []
   },
   "outputs": [
    {
     "name": "stdout",
     "output_type": "stream",
     "text": [
      "\n",
      "\n",
      "\u001b[1m> Entering new AgentExecutor chain...\u001b[0m\n",
      "\u001b[32;1m\u001b[1;3m I should use the Recommend Product tool to help the customer find a suitable product.\n",
      "Action: Recommend Product\n",
      "Action Input: \"spring park clothes\"\u001b[0m\n",
      "\n",
      "\u001b[1m> Entering new VectorDBQA chain...\u001b[0m\n",
      "\n",
      "\u001b[1m> Finished chain.\u001b[0m\n",
      "\n",
      "Observation: \u001b[33;1m\u001b[1;3m I'm sorry, I don't know the answer to this question. The context provided does not mention anything about a \"spring park\" or specific clothing for a park setting. \u001b[0m\n",
      "Thought:\u001b[32;1m\u001b[1;3m I should ask for more specific details from the customer.\n",
      "Action: Ask for more details\n",
      "Action Input: \"Could you provide more information about the type of clothing you are looking for?\"\u001b[0m\n",
      "Observation: Ask for more details is not a valid tool, try one of [Search Order, Recommend Product, FAQ].\n",
      "Thought:\u001b[32;1m\u001b[1;3m I should use the Recommend Product tool to help the customer find a suitable product.\n",
      "Action: Recommend Product\n",
      "Action Input: \"spring park clothes\"\u001b[0m\n",
      "\n",
      "\u001b[1m> Entering new VectorDBQA chain...\u001b[0m\n",
      "\n",
      "\u001b[1m> Finished chain.\u001b[0m\n",
      "\n",
      "Observation: \u001b[33;1m\u001b[1;3m I'm sorry, I don't know the answer to this question. The context provided does not mention anything about a \"spring park\" or specific clothing for a park setting. \u001b[0m\n",
      "Thought:\u001b[32;1m\u001b[1;3m I should ask for more specific details from the customer.\n",
      "Action: Ask for more details\n",
      "Action Input: \"Could you provide more information about the type of clothing you are looking for?\"\u001b[0m\n",
      "Observation: Ask for more details is not a valid tool, try one of [Search Order, Recommend Product, FAQ].\n",
      "Thought:\u001b[32;1m\u001b[1;3m I should use the Recommend Product tool to help the customer find a suitable product.\n",
      "Action: Recommend Product\n",
      "Action Input: \"spring clothes\"\u001b[0m\n",
      "\n",
      "\u001b[1m> Entering new VectorDBQA chain...\u001b[0m\n",
      "\n",
      "\u001b[1m> Finished chain.\u001b[0m\n",
      "\n",
      "Observation: \u001b[33;1m\u001b[1;3m 长款风衣、长袖连衣裙、毛衣裙\u001b[0m\n",
      "Thought:\u001b[32;1m\u001b[1;3m I now know the final answer.\n",
      "Final Answer: Based on the customer's input, I would recommend a long trench coat, a long-sleeved dress, or a sweater dress for spring wear in the park.\u001b[0m\n",
      "\n",
      "\u001b[1m> Finished chain.\u001b[0m\n",
      "Based on the customer's input, I would recommend a long trench coat, a long-sleeved dress, or a sweater dress for spring wear in the park.\n"
     ]
    }
   ],
   "source": [
    "question = \"我想买一件衣服，想要在春天去公园穿，但是不知道哪个款式好看，你能帮我推荐一下吗？\"\n",
    "answer = agent.run(question)\n",
    "print(answer)"
   ]
  },
  {
   "cell_type": "markdown",
   "id": "b6d51f9e-ef4f-44ce-aa97-64d29a3a0996",
   "metadata": {},
   "source": [
    "# 优化Prompt让AI不要胡思乱想\n",
    "# 通过多轮对话实现订单查询"
   ]
  },
  {
   "cell_type": "code",
   "execution_count": 28,
   "id": "9cdd4c1d-5e2c-4268-a541-d4f601d530e3",
   "metadata": {
    "execution": {
     "iopub.execute_input": "2024-05-05T13:25:17.777248Z",
     "iopub.status.busy": "2024-05-05T13:25:17.776797Z",
     "iopub.status.idle": "2024-05-05T13:25:17.931297Z",
     "shell.execute_reply": "2024-05-05T13:25:17.930525Z",
     "shell.execute_reply.started": "2024-05-05T13:25:17.777222Z"
    },
    "tags": []
   },
   "outputs": [],
   "source": [
    "import json\n",
    "\n",
    "ORDER_1 = \"20230101ABC\"\n",
    "ORDER_2 = \"20230101EFG\"\n",
    "\n",
    "ORDER_1_DETAIL = {\n",
    "    \"order_number\": ORDER_1,\n",
    "    \"status\": \"已发货\",\n",
    "    \"shipping_date\" : \"2023-01-03\",\n",
    "    \"estimated_delivered_date\": \"2023-01-05\",\n",
    "} \n",
    "\n",
    "ORDER_2_DETAIL = {\n",
    "    \"order_number\": ORDER_2,\n",
    "    \"status\": \"未发货\",\n",
    "    \"shipping_date\" : None,\n",
    "    \"estimated_delivered_date\": None,\n",
    "}\n",
    "\n",
    "import re\n",
    "\n",
    "answer_order_info = PromptTemplate(\n",
    "    template=\"请把下面的订单信息回复给用户： \\n\\n {order}?\", input_variables=[\"order\"]\n",
    ")\n",
    "answer_order_llm = LLMChain(llm=ChatOpenAI(temperature=0),  prompt=answer_order_info)\n",
    "\n",
    "@tool(\"Search Order\", return_direct=True)\n",
    "def search_order(input:str)->str:\n",
    "    \"\"\"useful for when you need to answer questions about customers orders\"\"\"\n",
    "    pattern = r\"\\d+[A-Z]+\"\n",
    "    match = re.search(pattern, input)\n",
    "\n",
    "    order_number = input\n",
    "    if match:\n",
    "        order_number = match.group(0)\n",
    "    else:\n",
    "        return \"请问您的订单号是多少？\"\n",
    "    if order_number == ORDER_1:        \n",
    "        return answer_order_llm.run(json.dumps(ORDER_1_DETAIL))\n",
    "    elif order_number == ORDER_2:\n",
    "        return answer_order_llm.run(json.dumps(ORDER_2_DETAIL))\n",
    "    else:\n",
    "        return f\"对不起，根据{input}没有找到您的订单\"\n",
    "\n",
    "from langchain.memory import ConversationBufferMemory\n",
    "from langchain.chat_models import ChatOpenAI\n",
    "\n",
    "tools = [search_order,recommend_product, faq]\n",
    "chatllm=ChatOpenAI(temperature=0)\n",
    "memory = ConversationBufferMemory(memory_key=\"chat_history\", return_messages=True)\n",
    "conversation_agent = initialize_agent(tools, chatllm, \n",
    "                                      agent=\"conversational-react-description\", \n",
    "                                      memory=memory, verbose=True)\n"
   ]
  },
  {
   "cell_type": "code",
   "execution_count": 29,
   "id": "f193a950-69d7-40c1-a73a-925f55a0c255",
   "metadata": {
    "execution": {
     "iopub.execute_input": "2024-05-05T13:25:21.236205Z",
     "iopub.status.busy": "2024-05-05T13:25:21.235716Z",
     "iopub.status.idle": "2024-05-05T13:26:20.542502Z",
     "shell.execute_reply": "2024-05-05T13:26:20.541641Z",
     "shell.execute_reply.started": "2024-05-05T13:25:21.236164Z"
    },
    "tags": []
   },
   "outputs": [
    {
     "name": "stdout",
     "output_type": "stream",
     "text": [
      "\n",
      "\n",
      "\u001b[1m> Entering new AgentExecutor chain...\u001b[0m\n",
      "\u001b[32;1m\u001b[1;3mThought: Do I need to use a tool? Yes\n",
      "Action: Search Order\n",
      "Action Input: 我有一张订单，一直没有收到，能麻烦帮我查一下吗？\u001b[0m\n",
      "Observation: \u001b[36;1m\u001b[1;3m请问您的订单号是多少？\u001b[0m\n",
      "\u001b[32;1m\u001b[1;3m\u001b[0m\n",
      "\n",
      "\u001b[1m> Finished chain.\u001b[0m\n",
      "请问您的订单号是多少？\n",
      "\n",
      "\n",
      "\u001b[1m> Entering new AgentExecutor chain...\u001b[0m\n",
      "\u001b[32;1m\u001b[1;3mThought: Do I need to use a tool? Yes\n",
      "Action: Search Order\n",
      "Action Input: 20230101ABC\u001b[0m\n",
      "Observation: \u001b[36;1m\u001b[1;3m您的订单信息如下：\n",
      "订单号：20230101ABC\n",
      "状态：已发货\n",
      "发货日期：2023-01-03\n",
      "预计送达日期：2023-01-05\n",
      "\n",
      "如有任何问题，请随时与我们联系。感谢您的购买！\u001b[0m\n",
      "\u001b[32;1m\u001b[1;3m\u001b[0m\n",
      "\n",
      "\u001b[1m> Finished chain.\u001b[0m\n",
      "您的订单信息如下：\n",
      "订单号：20230101ABC\n",
      "状态：已发货\n",
      "发货日期：2023-01-03\n",
      "预计送达日期：2023-01-05\n",
      "\n",
      "如有任何问题，请随时与我们联系。感谢您的购买！\n",
      "\n",
      "\n",
      "\u001b[1m> Entering new AgentExecutor chain...\u001b[0m\n",
      "\u001b[32;1m\u001b[1;3mThought: Do I need to use a tool? Yes\n",
      "Action: FAQ\n",
      "Action Input: 退货政策\u001b[0m\n",
      "Observation: \u001b[38;5;200m\u001b[1;3m 自收到商品之日起7天内，如产品未使用、包装完好，您可以申请退货。\n",
      "\n",
      "某些特殊商品可能不支持退货，请在购买前查看商品详情页面的退货政策。\u001b[0m\n",
      "Thought:\u001b[32;1m\u001b[1;3mDo I need to use a tool? No\n",
      "AI: 退货政策是自收到商品之日起7天内，如产品未使用、包装完好，您可以申请退货。某些特殊商品可能不支持退货，请在购买前查看商品详情页面的退货政策。如果您有任何疑问，请随时联系我们。\u001b[0m\n",
      "\n",
      "\u001b[1m> Finished chain.\u001b[0m\n",
      "退货政策是自收到商品之日起7天内，如产品未使用、包装完好，您可以申请退货。某些特殊商品可能不支持退货，请在购买前查看商品详情页面的退货政策。如果您有任何疑问，请随时联系我们。\n"
     ]
    }
   ],
   "source": [
    "question1 = \"我有一张订单，一直没有收到，能麻烦帮我查一下吗？\"\n",
    "answer1 = conversation_agent.run(question1)\n",
    "print(answer1)\n",
    "\n",
    "question2 = \"我的订单号是20230101ABC\"\n",
    "answer2 = conversation_agent.run(question2)\n",
    "print(answer2)\n",
    "\n",
    "question3 = \"你们的退货政策是怎么样的？\"\n",
    "answer3 = conversation_agent.run(question3)\n",
    "print(answer3)\n",
    "\n",
    "question = \"我有一张订单，订单号是 2022ABCDE，一直没有收到，能麻烦帮我查一下吗？\"\n",
    "answer = conversation_agent.run(question)\n",
    "print(answer)"
   ]
  }
 ],
 "metadata": {
  "kernelspec": {
   "display_name": "Python 3 (ipykernel)",
   "language": "python",
   "name": "python3"
  },
  "language_info": {
   "codemirror_mode": {
    "name": "ipython",
    "version": 3
   },
   "file_extension": ".py",
   "mimetype": "text/x-python",
   "name": "python",
   "nbconvert_exporter": "python",
   "pygments_lexer": "ipython3",
   "version": "3.10.12"
  }
 },
 "nbformat": 4,
 "nbformat_minor": 5
}
