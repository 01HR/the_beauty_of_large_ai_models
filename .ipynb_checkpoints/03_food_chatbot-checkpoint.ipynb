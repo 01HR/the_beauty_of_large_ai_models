{
 "cells": [
  {
   "cell_type": "code",
   "execution_count": 1,
   "id": "202cba19-a50e-449c-9a2f-7bd0ef5050b4",
   "metadata": {
    "execution": {
     "iopub.execute_input": "2024-05-20T02:24:34.561200Z",
     "iopub.status.busy": "2024-05-20T02:24:34.560283Z",
     "iopub.status.idle": "2024-05-20T02:24:36.080089Z",
     "shell.execute_reply": "2024-05-20T02:24:36.078856Z",
     "shell.execute_reply.started": "2024-05-20T02:24:34.561161Z"
    }
   },
   "outputs": [
    {
     "name": "stdout",
     "output_type": "stream",
     "text": [
      "Requirement already satisfied: openai in /usr/local/lib/python3.10/dist-packages (1.30.1)\n",
      "Requirement already satisfied: anyio<5,>=3.5.0 in /usr/local/lib/python3.10/dist-packages (from openai) (4.3.0)\n",
      "Requirement already satisfied: distro<2,>=1.7.0 in /usr/local/lib/python3.10/dist-packages (from openai) (1.9.0)\n",
      "Requirement already satisfied: httpx<1,>=0.23.0 in /usr/local/lib/python3.10/dist-packages (from openai) (0.27.0)\n",
      "Requirement already satisfied: pydantic<3,>=1.9.0 in /usr/local/lib/python3.10/dist-packages (from openai) (2.7.1)\n",
      "Requirement already satisfied: sniffio in /usr/local/lib/python3.10/dist-packages (from openai) (1.3.1)\n",
      "Requirement already satisfied: tqdm>4 in /usr/local/lib/python3.10/dist-packages (from openai) (4.66.4)\n",
      "Requirement already satisfied: typing-extensions<5,>=4.7 in /usr/local/lib/python3.10/dist-packages (from openai) (4.11.0)\n",
      "Requirement already satisfied: idna>=2.8 in /usr/local/lib/python3.10/dist-packages (from anyio<5,>=3.5.0->openai) (3.6)\n",
      "Requirement already satisfied: exceptiongroup>=1.0.2 in /usr/local/lib/python3.10/dist-packages (from anyio<5,>=3.5.0->openai) (1.2.0)\n",
      "Requirement already satisfied: certifi in /usr/local/lib/python3.10/dist-packages (from httpx<1,>=0.23.0->openai) (2024.2.2)\n",
      "Requirement already satisfied: httpcore==1.* in /usr/local/lib/python3.10/dist-packages (from httpx<1,>=0.23.0->openai) (1.0.5)\n",
      "Requirement already satisfied: h11<0.15,>=0.13 in /usr/local/lib/python3.10/dist-packages (from httpcore==1.*->httpx<1,>=0.23.0->openai) (0.14.0)\n",
      "Requirement already satisfied: annotated-types>=0.4.0 in /usr/local/lib/python3.10/dist-packages (from pydantic<3,>=1.9.0->openai) (0.6.0)\n",
      "Requirement already satisfied: pydantic-core==2.18.2 in /usr/local/lib/python3.10/dist-packages (from pydantic<3,>=1.9.0->openai) (2.18.2)\n",
      "\u001b[33mWARNING: Running pip as the 'root' user can result in broken permissions and conflicting behaviour with the system package manager. It is recommended to use a virtual environment instead: https://pip.pypa.io/warnings/venv\u001b[0m\u001b[33m\n",
      "\u001b[0m"
     ]
    }
   ],
   "source": [
    "!pip install openai"
   ]
  },
  {
   "cell_type": "markdown",
   "id": "9d5ad135-129c-45c8-85c2-9b943db60a5f",
   "metadata": {},
   "source": [
    "# AI 聊天机器人"
   ]
  },
  {
   "cell_type": "code",
   "execution_count": 2,
   "id": "d62c9f9f-4d69-403c-9960-89c8ac39bc1f",
   "metadata": {
    "execution": {
     "iopub.execute_input": "2024-05-20T02:24:36.083092Z",
     "iopub.status.busy": "2024-05-20T02:24:36.082354Z",
     "iopub.status.idle": "2024-05-20T02:25:35.130036Z",
     "shell.execute_reply": "2024-05-20T02:25:35.128906Z",
     "shell.execute_reply.started": "2024-05-20T02:24:36.083052Z"
    },
    "tags": []
   },
   "outputs": [
    {
     "name": "stdout",
     "output_type": "stream",
     "text": [
      "你好，我是一个聊天机器人，请你提出你的问题吧？\n"
     ]
    },
    {
     "name": "stdin",
     "output_type": "stream",
     "text": [
      ">  鱼香肉丝怎么做？\n"
     ]
    },
    {
     "name": "stdout",
     "output_type": "stream",
     "text": [
      "1. 准备食材：猪肉丝250克、胡萝卜丝50克、青椒丝50克、葱姜蒜适量。\n",
      "2. 将猪肉丝用料酒、盐、生粉腌制15分钟。\n",
      "3. 将葱姜蒜切碎备用。\n",
      "4. 锅中放入适量油，放入葱姜蒜爆香。\n",
      "5. 将腌制好的猪肉丝放入锅中翻炒至变色。\n",
      "6. 加入胡萝卜丝和青椒丝继续翻炒。\n",
      "7. 在锅中倒入适量的鱼香酱，翻炒均匀。\n",
      "8. 加入适量的水，煮开后改小火，继续煮5分钟。\n",
      "9. 最后加入少许糖和醋调味，翻炒均匀即可出锅。\n"
     ]
    },
    {
     "name": "stdin",
     "output_type": "stream",
     "text": [
      ">  那蚝油牛肉呢？\n"
     ]
    },
    {
     "name": "stdout",
     "output_type": "stream",
     "text": [
      "1. 准备食材：牛肉片250克、洋葱丝50克、青椒丝50克、葱姜蒜适量。\n",
      "2. 将牛肉片用料酒、盐、生粉腌制15分钟。\n",
      "3. 将葱姜蒜切碎备用。\n",
      "4. 锅中放入适量油，放入葱姜蒜爆香。\n",
      "5. 将腌制好的牛肉片放入锅中翻炒至变色。\n",
      "6. 加入洋葱丝和青椒丝继续翻炒。\n",
      "7. 在锅中倒入适量的蚝油，翻炒均匀。\n",
      "8. 加入适量的水，煮开后改小火，继续煮5分钟。\n",
      "9. 最后加入少许糖和醋调味，翻炒均匀即可出锅。\n"
     ]
    },
    {
     "name": "stdin",
     "output_type": "stream",
     "text": [
      ">  bye\n"
     ]
    },
    {
     "name": "stdout",
     "output_type": "stream",
     "text": [
      "再见!\n"
     ]
    }
   ],
   "source": [
    "from openai import OpenAI\n",
    "import os\n",
    "\n",
    "client = OpenAI(\n",
    "    base_url=os.getenv(\"OPENAI_API_BASE\"),\n",
    ")\n",
    "\n",
    "def ask_gpt3(prompt):\n",
    "    response = client.completions.create(\n",
    "        model=\"gpt-3.5-turbo-instruct\",\n",
    "        prompt=prompt,\n",
    "        max_tokens=512,\n",
    "        n=1,\n",
    "        stop=None,\n",
    "        temperature=0.5,\n",
    "    )\n",
    "    return response.choices[0].text.strip()\n",
    "\n",
    "print(\"你好，我是一个聊天机器人，请你提出你的问题吧？\")\n",
    "\n",
    "questions = []\n",
    "answers = []\n",
    "\n",
    "def generate_prompt(prompt, questions, answers):\n",
    "    num = len(answers)\n",
    "    for i in range(num):\n",
    "        prompt += \"\\n Q : \" + questions[i] + \"\\n A : \" + answers[i]\n",
    "    prompt += \"\\n Q : \" + questions[num] + \"\\n A : \"\n",
    "    return prompt\n",
    "\n",
    "while True:\n",
    "    user_input = input(\"> \")\n",
    "    questions.append(user_input)\n",
    "    if user_input.lower() in [\"bye\", \"goodbye\", \"exit\"]:\n",
    "        print(\"再见!\")\n",
    "        break\n",
    "\n",
    "    prompt = generate_prompt(\"\", questions, answers)\n",
    "    answer = ask_gpt3(prompt)\n",
    "    print(answer)\n",
    "    answers.append(answer)\n",
    "    \n"
   ]
  },
  {
   "cell_type": "markdown",
   "id": "679542b2-ed5a-4ae4-b3ce-13dff7a14dbd",
   "metadata": {},
   "source": [
    "# 让AI帮我解决情感分析问题"
   ]
  },
  {
   "cell_type": "code",
   "execution_count": 3,
   "id": "0c6be7f7-8e13-485a-90a5-470619227623",
   "metadata": {
    "execution": {
     "iopub.execute_input": "2024-05-20T02:25:35.132563Z",
     "iopub.status.busy": "2024-05-20T02:25:35.132173Z",
     "iopub.status.idle": "2024-05-20T02:25:38.004720Z",
     "shell.execute_reply": "2024-05-20T02:25:38.003470Z",
     "shell.execute_reply.started": "2024-05-20T02:25:35.132528Z"
    },
    "tags": []
   },
   "outputs": [
    {
     "name": "stdout",
     "output_type": "stream",
     "text": [
      "正面\n"
     ]
    }
   ],
   "source": [
    "prompts = \"\"\"判断一下用户的评论情感上是正面的还是负面的\n",
    "评论：买的银色版真的很好看，一天就到了，晚上就开始拿起来完系统很丝滑流畅，做工扎实，手感细腻，很精致哦苹果一如既往的好品质\n",
    "情感：正面\n",
    "\n",
    "评论：随意降价，不予价保，服务态度差\n",
    "情感：负面\n",
    "\"\"\"\n",
    "\n",
    "good_case = prompts + \"\"\"\n",
    "评论：外形外观：苹果审美一直很好，金色非常漂亮\n",
    "拍照效果：14pro升级的4800万像素真的是没的说，太好了，\n",
    "运行速度：苹果的反应速度好，用上三五年也不会卡顿的，之前的7P用到现在也不卡\n",
    "其他特色：14pro的磨砂金真的太好看了，不太高调，也不至于没有特点，非常耐看，很好的\n",
    "情感：\n",
    "\"\"\"\n",
    "\n",
    "print(ask_gpt3(good_case))"
   ]
  },
  {
   "cell_type": "code",
   "execution_count": 4,
   "id": "8c16a9fa-0ebe-4b59-8732-a6ab7cbbf40b",
   "metadata": {
    "execution": {
     "iopub.execute_input": "2024-05-20T02:25:38.007151Z",
     "iopub.status.busy": "2024-05-20T02:25:38.006513Z",
     "iopub.status.idle": "2024-05-20T02:25:39.416716Z",
     "shell.execute_reply": "2024-05-20T02:25:39.415459Z",
     "shell.execute_reply.started": "2024-05-20T02:25:38.007122Z"
    },
    "tags": []
   },
   "outputs": [
    {
     "name": "stdout",
     "output_type": "stream",
     "text": [
      "负面\n"
     ]
    }
   ],
   "source": [
    "bad_case = prompts + \"\"\"\n",
    "评论：信号不好电池也不耐电不推荐购买\n",
    "情感：\n",
    "\"\"\"\n",
    "\n",
    "print(ask_gpt3(bad_case))"
   ]
  },
  {
   "cell_type": "code",
   "execution_count": 5,
   "id": "92dccbbe-5f5b-4f11-a4a9-a1f715cdd82e",
   "metadata": {
    "execution": {
     "iopub.execute_input": "2024-05-20T02:25:39.418749Z",
     "iopub.status.busy": "2024-05-20T02:25:39.417826Z",
     "iopub.status.idle": "2024-05-20T02:26:55.246908Z",
     "shell.execute_reply": "2024-05-20T02:26:55.245751Z",
     "shell.execute_reply.started": "2024-05-20T02:25:39.418689Z"
    },
    "tags": []
   },
   "outputs": [
    {
     "name": "stdout",
     "output_type": "stream",
     "text": [
      "你好，我是一个聊天机器人，请你提出你的问题吧？\n"
     ]
    },
    {
     "name": "stdin",
     "output_type": "stream",
     "text": [
      ">  京酱肉丝怎么做？\n"
     ]
    },
    {
     "name": "stdout",
     "output_type": "stream",
     "text": [
      "[{'role': 'user', 'content': '京酱肉丝怎么做？'}]\n",
      "京酱肉丝是一道具有独特北京风味的美食，制作方法如下：\n",
      "\n",
      "材料：\n",
      "1. 瘦猪肉（约150克）\n",
      "2. 黄瓜（1根）\n",
      "3. 胡萝卜（1根）\n",
      "4. 鸡蛋（1个）\n",
      "5. 青蒜（适量）\n",
      "6. 生姜（适量）\n",
      "7. 大蒜（适量）\n",
      "8. 料酒、酱油、盐、糖、淀粉等。\n",
      "\n",
      "做法：\n",
      "1. 将猪肉切成细丝，加入适量的料酒、酱油、盐和淀粉腌制片刻。\n",
      "2. 黄瓜和胡萝卜切成丝，鸡蛋打散备用。\n",
      "3. 在锅中加入适量的油，放入鸡蛋炒散。\n",
      "4. 捞出鸡蛋碎备用，再倒入猪肉丝炒熟。\n",
      "5. 加入生姜、大蒜末、盐、糖、酱油等调味料，炒匀。\n",
      "6. 放入黄瓜、胡萝卜丝，炒至熟透。\n",
      "7. 最后加入鸡蛋碎和青蒜段，炒匀即可出锅。\n",
      "\n",
      "京酱肉丝香气扑鼻，口感鲜嫩，是一道色香味俱佳的美食，适合作为家常菜或者下饭菜。\n"
     ]
    },
    {
     "name": "stdin",
     "output_type": "stream",
     "text": [
      ">  bye\n"
     ]
    },
    {
     "name": "stdout",
     "output_type": "stream",
     "text": [
      "再见!\n"
     ]
    }
   ],
   "source": [
    "# 使用chat.completions实现\n",
    "from openai import OpenAI\n",
    "import os\n",
    "\n",
    "client = OpenAI(\n",
    "    base_url=os.getenv(\"OPENAI_API_BASE\"),\n",
    ")\n",
    "\n",
    "def chat_gpt3(messages):\n",
    "    response = client.chat.completions.create(\n",
    "        model=\"gpt-3.5-turbo\",\n",
    "        messages = messages,\n",
    "    )\n",
    "    return response.choices[0].message.content.strip()\n",
    "\n",
    "print(\"你好，我是一个聊天机器人，请你提出你的问题吧？\")\n",
    "\n",
    "messages = []\n",
    "\n",
    "while True:\n",
    "    user_input = input(\"> \")\n",
    "    if user_input.lower() in [\"bye\", \"goodbye\", \"exit\"]:\n",
    "        print(\"再见!\")\n",
    "        break\n",
    "    messages.append({\"role\": \"user\", \"content\": user_input})\n",
    "    print(messages)\n",
    "\n",
    "    answer = chat_gpt3(messages)\n",
    "    print(answer)\n",
    "    answers.append(answer)\n",
    "    \n"
   ]
  },
  {
   "cell_type": "code",
   "execution_count": 6,
   "id": "9b9a2335-b565-4ae8-a477-de2a3b96bf9d",
   "metadata": {
    "execution": {
     "iopub.execute_input": "2024-05-20T02:26:55.250082Z",
     "iopub.status.busy": "2024-05-20T02:26:55.248886Z",
     "iopub.status.idle": "2024-05-20T02:26:55.928607Z",
     "shell.execute_reply": "2024-05-20T02:26:55.927416Z",
     "shell.execute_reply.started": "2024-05-20T02:26:55.250009Z"
    },
    "scrolled": true,
    "tags": []
   },
   "outputs": [
    {
     "name": "stdout",
     "output_type": "stream",
     "text": [
      "Package                        Version\n",
      "------------------------------ --------------\n",
      "aiofiles                       22.1.0\n",
      "aiosqlite                      0.20.0\n",
      "annotated-types                0.6.0\n",
      "anyio                          4.3.0\n",
      "argon2-cffi                    23.1.0\n",
      "argon2-cffi-bindings           21.2.0\n",
      "arrow                          1.3.0\n",
      "astroid                        3.1.0\n",
      "asttokens                      2.4.1\n",
      "attrs                          23.2.0\n",
      "autopep8                       2.0.4\n",
      "Babel                          2.14.0\n",
      "beautifulsoup4                 4.12.3\n",
      "bleach                         6.1.0\n",
      "certifi                        2024.2.2\n",
      "cffi                           1.16.0\n",
      "charset-normalizer             3.3.2\n",
      "comm                           0.2.2\n",
      "contourpy                      1.2.1\n",
      "cycler                         0.12.1\n",
      "debugpy                        1.8.1\n",
      "decorator                      5.1.1\n",
      "defusedxml                     0.7.1\n",
      "dill                           0.3.8\n",
      "distro                         1.9.0\n",
      "docstring-to-markdown          0.15\n",
      "entrypoints                    0.4\n",
      "exceptiongroup                 1.2.0\n",
      "executing                      2.0.1\n",
      "fastjsonschema                 2.19.1\n",
      "flake8                         7.0.0\n",
      "fonttools                      4.51.0\n",
      "fqdn                           1.5.1\n",
      "h11                            0.14.0\n",
      "httpcore                       1.0.5\n",
      "httpx                          0.27.0\n",
      "idna                           3.6\n",
      "importlib_metadata             7.1.0\n",
      "ipykernel                      6.29.4\n",
      "ipython                        8.23.0\n",
      "ipython-genutils               0.2.0\n",
      "ipywidgets                     8.1.2\n",
      "isoduration                    20.11.0\n",
      "isort                          5.13.2\n",
      "jedi                           0.19.1\n",
      "Jinja2                         3.1.3\n",
      "joblib                         1.4.2\n",
      "json5                          0.9.24\n",
      "jsonpointer                    2.4\n",
      "jsonschema                     4.21.1\n",
      "jsonschema-specifications      2023.12.1\n",
      "jupyter_client                 7.4.9\n",
      "jupyter_core                   5.7.2\n",
      "jupyter-events                 0.10.0\n",
      "jupyter-lsp                    2.2.4\n",
      "jupyter_server                 2.13.0\n",
      "jupyter_server_fileid          0.9.1\n",
      "jupyter_server_terminals       0.5.3\n",
      "jupyter_server_ydoc            0.8.0\n",
      "jupyter-ydoc                   0.2.5\n",
      "jupyterlab                     3.6.3\n",
      "jupyterlab-execute-time        2.3.1\n",
      "jupyterlab-language-pack-zh-CN 4.1.post2\n",
      "jupyterlab-lsp                 4.3.0\n",
      "jupyterlab_pygments            0.3.0\n",
      "jupyterlab-search-replace      1.0.2\n",
      "jupyterlab_server              2.25.4\n",
      "jupyterlab_widgets             3.0.10\n",
      "kiwisolver                     1.4.5\n",
      "MarkupSafe                     2.1.5\n",
      "matplotlib                     3.9.0\n",
      "matplotlib-inline              0.1.6\n",
      "mccabe                         0.7.0\n",
      "mistune                        3.0.2\n",
      "nbclassic                      1.0.0\n",
      "nbclient                       0.10.0\n",
      "nbconvert                      7.16.3\n",
      "nbformat                       5.10.4\n",
      "nest-asyncio                   1.6.0\n",
      "notebook                       6.5.6\n",
      "notebook_shim                  0.2.4\n",
      "numpy                          1.26.4\n",
      "openai                         1.30.1\n",
      "overrides                      7.7.0\n",
      "packaging                      24.0\n",
      "pandas                         2.2.2\n",
      "pandocfilters                  1.5.1\n",
      "parso                          0.8.4\n",
      "pexpect                        4.9.0\n",
      "pillow                         10.3.0\n",
      "pip                            24.0\n",
      "platformdirs                   4.2.0\n",
      "pluggy                         1.4.0\n",
      "prometheus_client              0.20.0\n",
      "prompt-toolkit                 3.0.43\n",
      "psutil                         5.9.8\n",
      "ptyprocess                     0.7.0\n",
      "pure-eval                      0.2.2\n",
      "pycodestyle                    2.11.1\n",
      "pycparser                      2.22\n",
      "pydantic                       2.7.1\n",
      "pydantic_core                  2.18.2\n",
      "pydocstyle                     6.3.0\n",
      "pyflakes                       3.2.0\n",
      "Pygments                       2.17.2\n",
      "pylint                         3.1.0\n",
      "pyparsing                      3.1.2\n",
      "python-dateutil                2.9.0.post0\n",
      "python-json-logger             2.0.7\n",
      "python-lsp-jsonrpc             1.1.2\n",
      "python-lsp-server              1.11.0\n",
      "pytoolconfig                   1.3.1\n",
      "pytz                           2024.1\n",
      "PyYAML                         6.0.1\n",
      "pyzmq                          24.0.1\n",
      "referencing                    0.34.0\n",
      "requests                       2.31.0\n",
      "rfc3339-validator              0.1.4\n",
      "rfc3986-validator              0.1.1\n",
      "rope                           1.13.0\n",
      "rpds-py                        0.18.0\n",
      "scikit-learn                   1.4.2\n",
      "scipy                          1.13.0\n",
      "Send2Trash                     1.8.2\n",
      "setuptools                     59.6.0\n",
      "six                            1.16.0\n",
      "sniffio                        1.3.1\n",
      "snowballstemmer                2.2.0\n",
      "soupsieve                      2.5\n",
      "stack-data                     0.6.3\n",
      "terminado                      0.18.1\n",
      "threadpoolctl                  3.5.0\n",
      "tinycss2                       1.2.1\n",
      "tomli                          2.0.1\n",
      "tomlkit                        0.12.4\n",
      "tornado                        6.4\n",
      "tqdm                           4.66.4\n",
      "traitlets                      5.14.2\n",
      "types-python-dateutil          2.9.0.20240316\n",
      "typing_extensions              4.11.0\n",
      "tzdata                         2024.1\n",
      "ujson                          5.9.0\n",
      "uri-template                   1.3.0\n",
      "urllib3                        2.2.1\n",
      "wcwidth                        0.2.13\n",
      "webcolors                      1.13\n",
      "webencodings                   0.5.1\n",
      "websocket-client               1.7.0\n",
      "whatthepatch                   1.0.5\n",
      "wheel                          0.37.1\n",
      "widgetsnbextension             4.0.10\n",
      "y-py                           0.6.2\n",
      "yapf                           0.40.2\n",
      "ypy-websocket                  0.8.4\n",
      "zipp                           3.18.1\n"
     ]
    }
   ],
   "source": [
    "!pip list"
   ]
  }
 ],
 "metadata": {
  "kernelspec": {
   "display_name": "Python 3 (ipykernel)",
   "language": "python",
   "name": "python3"
  },
  "language_info": {
   "codemirror_mode": {
    "name": "ipython",
    "version": 3
   },
   "file_extension": ".py",
   "mimetype": "text/x-python",
   "name": "python",
   "nbconvert_exporter": "python",
   "pygments_lexer": "ipython3",
   "version": "3.10.12"
  }
 },
 "nbformat": 4,
 "nbformat_minor": 5
}
