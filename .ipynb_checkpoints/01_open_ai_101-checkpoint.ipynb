{
 "cells": [
  {
   "cell_type": "code",
   "execution_count": 3,
   "id": "13ea69ab-be3e-4163-acf0-378632d95ccb",
   "metadata": {
    "execution": {
     "iopub.execute_input": "2024-05-20T02:21:32.457386Z",
     "iopub.status.busy": "2024-05-20T02:21:32.457055Z",
     "iopub.status.idle": "2024-05-20T02:21:48.822422Z",
     "shell.execute_reply": "2024-05-20T02:21:48.821299Z",
     "shell.execute_reply.started": "2024-05-20T02:21:32.457359Z"
    },
    "scrolled": true,
    "tags": []
   },
   "outputs": [
    {
     "name": "stdout",
     "output_type": "stream",
     "text": [
      "Collecting openai\n",
      "  Downloading openai-1.30.1-py3-none-any.whl.metadata (21 kB)\n",
      "Requirement already satisfied: anyio<5,>=3.5.0 in /usr/local/lib/python3.10/dist-packages (from openai) (4.3.0)\n",
      "Collecting distro<2,>=1.7.0 (from openai)\n",
      "  Downloading distro-1.9.0-py3-none-any.whl.metadata (6.8 kB)\n",
      "Collecting httpx<1,>=0.23.0 (from openai)\n",
      "  Downloading httpx-0.27.0-py3-none-any.whl.metadata (7.2 kB)\n",
      "Collecting pydantic<3,>=1.9.0 (from openai)\n",
      "  Downloading pydantic-2.7.1-py3-none-any.whl.metadata (107 kB)\n",
      "\u001b[2K     \u001b[90m━━━━━━━━━━━━━━━━━━━━━━━━━━━━━━━━━━━━━\u001b[0m \u001b[32m107.3/107.3 kB\u001b[0m \u001b[31m262.8 kB/s\u001b[0m eta \u001b[36m0:00:00\u001b[0ma \u001b[36m0:00:01\u001b[0m\n",
      "\u001b[?25hRequirement already satisfied: sniffio in /usr/local/lib/python3.10/dist-packages (from openai) (1.3.1)\n",
      "Collecting tqdm>4 (from openai)\n",
      "  Downloading tqdm-4.66.4-py3-none-any.whl.metadata (57 kB)\n",
      "\u001b[2K     \u001b[90m━━━━━━━━━━━━━━━━━━━━━━━━━━━━━━━━━━━━━━━\u001b[0m \u001b[32m57.6/57.6 kB\u001b[0m \u001b[31m771.8 kB/s\u001b[0m eta \u001b[36m0:00:00\u001b[0ma \u001b[36m0:00:01\u001b[0m\n",
      "\u001b[?25hRequirement already satisfied: typing-extensions<5,>=4.7 in /usr/local/lib/python3.10/dist-packages (from openai) (4.11.0)\n",
      "Requirement already satisfied: idna>=2.8 in /usr/local/lib/python3.10/dist-packages (from anyio<5,>=3.5.0->openai) (3.6)\n",
      "Requirement already satisfied: exceptiongroup>=1.0.2 in /usr/local/lib/python3.10/dist-packages (from anyio<5,>=3.5.0->openai) (1.2.0)\n",
      "Requirement already satisfied: certifi in /usr/local/lib/python3.10/dist-packages (from httpx<1,>=0.23.0->openai) (2024.2.2)\n",
      "Collecting httpcore==1.* (from httpx<1,>=0.23.0->openai)\n",
      "  Downloading httpcore-1.0.5-py3-none-any.whl.metadata (20 kB)\n",
      "Collecting h11<0.15,>=0.13 (from httpcore==1.*->httpx<1,>=0.23.0->openai)\n",
      "  Downloading h11-0.14.0-py3-none-any.whl.metadata (8.2 kB)\n",
      "Collecting annotated-types>=0.4.0 (from pydantic<3,>=1.9.0->openai)\n",
      "  Downloading annotated_types-0.6.0-py3-none-any.whl.metadata (12 kB)\n",
      "Collecting pydantic-core==2.18.2 (from pydantic<3,>=1.9.0->openai)\n",
      "  Downloading pydantic_core-2.18.2-cp310-cp310-manylinux_2_17_x86_64.manylinux2014_x86_64.whl.metadata (6.5 kB)\n",
      "Downloading openai-1.30.1-py3-none-any.whl (320 kB)\n",
      "\u001b[2K   \u001b[90m━━━━━━━━━━━━━━━━━━━━━━━━━━━━━━━━━━━━━━━\u001b[0m \u001b[32m320.6/320.6 kB\u001b[0m \u001b[31m910.1 kB/s\u001b[0m eta \u001b[36m0:00:00\u001b[0m00:01\u001b[0m00:01\u001b[0m\n",
      "\u001b[?25hDownloading distro-1.9.0-py3-none-any.whl (20 kB)\n",
      "Downloading httpx-0.27.0-py3-none-any.whl (75 kB)\n",
      "\u001b[2K   \u001b[90m━━━━━━━━━━━━━━━━━━━━━━━━━━━━━━━━━━━━━━━━\u001b[0m \u001b[32m75.6/75.6 kB\u001b[0m \u001b[31m1.3 MB/s\u001b[0m eta \u001b[36m0:00:00\u001b[0ma \u001b[36m0:00:01\u001b[0m\n",
      "\u001b[?25hDownloading httpcore-1.0.5-py3-none-any.whl (77 kB)\n",
      "\u001b[2K   \u001b[90m━━━━━━━━━━━━━━━━━━━━━━━━━━━━━━━━━━━━━━━━\u001b[0m \u001b[32m77.9/77.9 kB\u001b[0m \u001b[31m1.4 MB/s\u001b[0m eta \u001b[36m0:00:00\u001b[0ma \u001b[36m0:00:01\u001b[0m\n",
      "\u001b[?25hDownloading pydantic-2.7.1-py3-none-any.whl (409 kB)\n",
      "\u001b[2K   \u001b[90m━━━━━━━━━━━━━━━━━━━━━━━━━━━━━━━━━━━━━━━━\u001b[0m \u001b[32m409.3/409.3 kB\u001b[0m \u001b[31m2.2 MB/s\u001b[0m eta \u001b[36m0:00:00\u001b[0m00:01\u001b[0m00:01\u001b[0m\n",
      "\u001b[?25hDownloading pydantic_core-2.18.2-cp310-cp310-manylinux_2_17_x86_64.manylinux2014_x86_64.whl (2.1 MB)\n",
      "\u001b[2K   \u001b[90m━━━━━━━━━━━━━━━━━━━━━━━━━━━━━━━━━━━━━━━━\u001b[0m \u001b[32m2.1/2.1 MB\u001b[0m \u001b[31m3.2 MB/s\u001b[0m eta \u001b[36m0:00:00\u001b[0m00:01\u001b[0m00:01\u001b[0m\n",
      "\u001b[?25hDownloading tqdm-4.66.4-py3-none-any.whl (78 kB)\n",
      "\u001b[2K   \u001b[90m━━━━━━━━━━━━━━━━━━━━━━━━━━━━━━━━━━━━━━━━\u001b[0m \u001b[32m78.3/78.3 kB\u001b[0m \u001b[31m4.5 MB/s\u001b[0m eta \u001b[36m0:00:00\u001b[0m\n",
      "\u001b[?25hDownloading annotated_types-0.6.0-py3-none-any.whl (12 kB)\n",
      "Downloading h11-0.14.0-py3-none-any.whl (58 kB)\n",
      "\u001b[2K   \u001b[90m━━━━━━━━━━━━━━━━━━━━━━━━━━━━━━━━━━━━━━━━\u001b[0m \u001b[32m58.3/58.3 kB\u001b[0m \u001b[31m3.0 MB/s\u001b[0m eta \u001b[36m0:00:00\u001b[0m\n",
      "\u001b[?25hInstalling collected packages: tqdm, pydantic-core, h11, distro, annotated-types, pydantic, httpcore, httpx, openai\n",
      "Successfully installed annotated-types-0.6.0 distro-1.9.0 h11-0.14.0 httpcore-1.0.5 httpx-0.27.0 openai-1.30.1 pydantic-2.7.1 pydantic-core-2.18.2 tqdm-4.66.4\n",
      "\u001b[33mWARNING: Running pip as the 'root' user can result in broken permissions and conflicting behaviour with the system package manager. It is recommended to use a virtual environment instead: https://pip.pypa.io/warnings/venv\u001b[0m\u001b[33m\n",
      "\u001b[0m"
     ]
    }
   ],
   "source": [
    "!pip install  --upgrade openai"
   ]
  },
  {
   "cell_type": "markdown",
   "id": "e1ab1536-9148-4562-8236-f14d48ca7106",
   "metadata": {},
   "source": [
    "# 体验并测试OpenAI的API\n",
    "机器翻译、文本生成、知识推理"
   ]
  },
  {
   "cell_type": "code",
   "execution_count": 4,
   "id": "6b1f0078-486c-46e5-843e-af80f7adeb07",
   "metadata": {
    "execution": {
     "iopub.execute_input": "2024-05-20T02:21:48.824502Z",
     "iopub.status.busy": "2024-05-20T02:21:48.824229Z",
     "iopub.status.idle": "2024-05-20T02:21:54.846527Z",
     "shell.execute_reply": "2024-05-20T02:21:54.845820Z",
     "shell.execute_reply.started": "2024-05-20T02:21:48.824473Z"
    },
    "tags": []
   },
   "outputs": [
    {
     "name": "stdout",
     "output_type": "stream",
     "text": [
      "ChatCompletionMessage(content='{\\n  \"title\": \"Factory Stock PVC Inflatable Frog Night Market Best Selling Glow-in-the-Dark Water Toy for Kids\",\\n  \"selling_points\": [\\n    \"Durable PVC material for long-lasting use\",\\n    \"Unique glow-in-the-dark feature for extra fun\",\\n    \"Perfect for water play at night markets or beach\",\\n    \"Attractive frog design appeals to children\",\\n    \"Compact and easy to inflate and deflate\"\\n  ],\\n  \"price_range\": \"$15.99 - $24.99\"\\n}', role='assistant', function_call=None, tool_calls=None)\n",
      "{\n",
      "  \"title\": \"Factory Stock PVC Inflatable Frog Night Market Best Selling Glow-in-the-Dark Water Toy for Kids\",\n",
      "  \"selling_points\": [\n",
      "    \"Durable PVC material for long-lasting use\",\n",
      "    \"Unique glow-in-the-dark feature for extra fun\",\n",
      "    \"Perfect for water play at night markets or beach\",\n",
      "    \"Attractive frog design appeals to children\",\n",
      "    \"Compact and easy to inflate and deflate\"\n",
      "  ],\n",
      "  \"price_range\": \"$15.99 - $24.99\"\n",
      "}\n"
     ]
    }
   ],
   "source": [
    "from openai import OpenAI\n",
    "import os\n",
    "\n",
    "client = OpenAI(\n",
    "    base_url=os.getenv(\"OPENAI_API_BASE\"),\n",
    ")\n",
    "\n",
    "COMPLETION_MODEL = \"gpt-3.5-turbo\"\n",
    "\n",
    "prompt = \"\"\"\n",
    "Consideration proudct : 工厂现货PVC充气青蛙夜市地摊热卖充气玩具发光蛙儿童水上玩具\n",
    "\n",
    "1. Compose human readale product title used on Amazon in english within 20 words.\n",
    "2. Write 5 selling points for the products in Amazon.\n",
    "3. Evaluate a price range for this product in U.S.\n",
    "\n",
    "Output the result in json format with three properties called title, selling_points and price_range\n",
    "\"\"\"\n",
    "\n",
    "def get_response(prompt):\n",
    "    completion  = client.chat.completions.create(\n",
    "        model=COMPLETION_MODEL,\n",
    "        messages=[\n",
    "            {\"role\": \"user\", \"content\": prompt}\n",
    "        ]\n",
    "    )\n",
    "    message = completion .choices[0].message\n",
    "    return message\n",
    "    \n",
    "msg = get_response(prompt)\n",
    "print(msg)\n",
    "print(msg.content)"
   ]
  },
  {
   "cell_type": "markdown",
   "id": "8acbf1bf-174a-46be-8999-1d08645f7004",
   "metadata": {},
   "source": [
    "# 命名实体识别"
   ]
  },
  {
   "cell_type": "code",
   "execution_count": 5,
   "id": "02e0765d-3750-4459-a8ec-b89d6b05257c",
   "metadata": {
    "execution": {
     "iopub.execute_input": "2024-05-20T02:21:54.848546Z",
     "iopub.status.busy": "2024-05-20T02:21:54.848105Z",
     "iopub.status.idle": "2024-05-20T02:21:56.763887Z",
     "shell.execute_reply": "2024-05-20T02:21:56.762647Z",
     "shell.execute_reply.started": "2024-05-20T02:21:54.848518Z"
    }
   },
   "outputs": [
    {
     "name": "stdout",
     "output_type": "stream",
     "text": [
      "ChatCompletionMessage(content='{\\n    \"name\": \"Ten Hag\"\\n}', role='assistant', function_call=None, tool_calls=None)\n",
      "{\n",
      "    \"name\": \"Ten Hag\"\n",
      "}\n"
     ]
    }
   ],
   "source": [
    "prompt = \"\"\"\n",
    "Man Utd must win trophies, says Ten Hag ahead of League Cup final\n",
    "\n",
    "请将上面这句话的人名提取出来，并用json的方式展示出来\n",
    "\"\"\"\n",
    "msg = get_response(prompt)\n",
    "print(msg)\n",
    "print(msg.content)"
   ]
  },
  {
   "cell_type": "code",
   "execution_count": 6,
   "id": "fa2f443e-4772-4ab2-81a1-ccd6a71ee0e0",
   "metadata": {
    "execution": {
     "iopub.execute_input": "2024-05-20T02:21:56.765608Z",
     "iopub.status.busy": "2024-05-20T02:21:56.765168Z",
     "iopub.status.idle": "2024-05-20T02:21:57.328893Z",
     "shell.execute_reply": "2024-05-20T02:21:57.327856Z",
     "shell.execute_reply.started": "2024-05-20T02:21:56.765581Z"
    },
    "tags": []
   },
   "outputs": [
    {
     "name": "stdout",
     "output_type": "stream",
     "text": [
      "Package                        Version\n",
      "------------------------------ --------------\n",
      "aiofiles                       22.1.0\n",
      "aiosqlite                      0.20.0\n",
      "annotated-types                0.6.0\n",
      "anyio                          4.3.0\n",
      "argon2-cffi                    23.1.0\n",
      "argon2-cffi-bindings           21.2.0\n",
      "arrow                          1.3.0\n",
      "astroid                        3.1.0\n",
      "asttokens                      2.4.1\n",
      "attrs                          23.2.0\n",
      "autopep8                       2.0.4\n",
      "Babel                          2.14.0\n",
      "beautifulsoup4                 4.12.3\n",
      "bleach                         6.1.0\n",
      "certifi                        2024.2.2\n",
      "cffi                           1.16.0\n",
      "charset-normalizer             3.3.2\n",
      "comm                           0.2.2\n",
      "debugpy                        1.8.1\n",
      "decorator                      5.1.1\n",
      "defusedxml                     0.7.1\n",
      "dill                           0.3.8\n",
      "distro                         1.9.0\n",
      "docstring-to-markdown          0.15\n",
      "entrypoints                    0.4\n",
      "exceptiongroup                 1.2.0\n",
      "executing                      2.0.1\n",
      "fastjsonschema                 2.19.1\n",
      "flake8                         7.0.0\n",
      "fqdn                           1.5.1\n",
      "h11                            0.14.0\n",
      "httpcore                       1.0.5\n",
      "httpx                          0.27.0\n",
      "idna                           3.6\n",
      "importlib_metadata             7.1.0\n",
      "ipykernel                      6.29.4\n",
      "ipython                        8.23.0\n",
      "ipython-genutils               0.2.0\n",
      "ipywidgets                     8.1.2\n",
      "isoduration                    20.11.0\n",
      "isort                          5.13.2\n",
      "jedi                           0.19.1\n",
      "Jinja2                         3.1.3\n",
      "json5                          0.9.24\n",
      "jsonpointer                    2.4\n",
      "jsonschema                     4.21.1\n",
      "jsonschema-specifications      2023.12.1\n",
      "jupyter_client                 7.4.9\n",
      "jupyter_core                   5.7.2\n",
      "jupyter-events                 0.10.0\n",
      "jupyter-lsp                    2.2.4\n",
      "jupyter_server                 2.13.0\n",
      "jupyter_server_fileid          0.9.1\n",
      "jupyter_server_terminals       0.5.3\n",
      "jupyter_server_ydoc            0.8.0\n",
      "jupyter-ydoc                   0.2.5\n",
      "jupyterlab                     3.6.3\n",
      "jupyterlab-execute-time        2.3.1\n",
      "jupyterlab-language-pack-zh-CN 4.1.post2\n",
      "jupyterlab-lsp                 4.3.0\n",
      "jupyterlab_pygments            0.3.0\n",
      "jupyterlab-search-replace      1.0.2\n",
      "jupyterlab_server              2.25.4\n",
      "jupyterlab_widgets             3.0.10\n",
      "MarkupSafe                     2.1.5\n",
      "matplotlib-inline              0.1.6\n",
      "mccabe                         0.7.0\n",
      "mistune                        3.0.2\n",
      "nbclassic                      1.0.0\n",
      "nbclient                       0.10.0\n",
      "nbconvert                      7.16.3\n",
      "nbformat                       5.10.4\n",
      "nest-asyncio                   1.6.0\n",
      "notebook                       6.5.6\n",
      "notebook_shim                  0.2.4\n",
      "openai                         1.30.1\n",
      "overrides                      7.7.0\n",
      "packaging                      24.0\n",
      "pandocfilters                  1.5.1\n",
      "parso                          0.8.4\n",
      "pexpect                        4.9.0\n",
      "pip                            24.0\n",
      "platformdirs                   4.2.0\n",
      "pluggy                         1.4.0\n",
      "prometheus_client              0.20.0\n",
      "prompt-toolkit                 3.0.43\n",
      "psutil                         5.9.8\n",
      "ptyprocess                     0.7.0\n",
      "pure-eval                      0.2.2\n",
      "pycodestyle                    2.11.1\n",
      "pycparser                      2.22\n",
      "pydantic                       2.7.1\n",
      "pydantic_core                  2.18.2\n",
      "pydocstyle                     6.3.0\n",
      "pyflakes                       3.2.0\n",
      "Pygments                       2.17.2\n",
      "pylint                         3.1.0\n",
      "python-dateutil                2.9.0.post0\n",
      "python-json-logger             2.0.7\n",
      "python-lsp-jsonrpc             1.1.2\n",
      "python-lsp-server              1.11.0\n",
      "pytoolconfig                   1.3.1\n",
      "PyYAML                         6.0.1\n",
      "pyzmq                          24.0.1\n",
      "referencing                    0.34.0\n",
      "requests                       2.31.0\n",
      "rfc3339-validator              0.1.4\n",
      "rfc3986-validator              0.1.1\n",
      "rope                           1.13.0\n",
      "rpds-py                        0.18.0\n",
      "Send2Trash                     1.8.2\n",
      "setuptools                     59.6.0\n",
      "six                            1.16.0\n",
      "sniffio                        1.3.1\n",
      "snowballstemmer                2.2.0\n",
      "soupsieve                      2.5\n",
      "stack-data                     0.6.3\n",
      "terminado                      0.18.1\n",
      "tinycss2                       1.2.1\n",
      "tomli                          2.0.1\n",
      "tomlkit                        0.12.4\n",
      "tornado                        6.4\n",
      "tqdm                           4.66.4\n",
      "traitlets                      5.14.2\n",
      "types-python-dateutil          2.9.0.20240316\n",
      "typing_extensions              4.11.0\n",
      "ujson                          5.9.0\n",
      "uri-template                   1.3.0\n",
      "urllib3                        2.2.1\n",
      "wcwidth                        0.2.13\n",
      "webcolors                      1.13\n",
      "webencodings                   0.5.1\n",
      "websocket-client               1.7.0\n",
      "whatthepatch                   1.0.5\n",
      "wheel                          0.37.1\n",
      "widgetsnbextension             4.0.10\n",
      "y-py                           0.6.2\n",
      "yapf                           0.40.2\n",
      "ypy-websocket                  0.8.4\n",
      "zipp                           3.18.1\n"
     ]
    }
   ],
   "source": [
    "!pip list"
   ]
  }
 ],
 "metadata": {
  "kernelspec": {
   "display_name": "Python 3 (ipykernel)",
   "language": "python",
   "name": "python3"
  },
  "language_info": {
   "codemirror_mode": {
    "name": "ipython",
    "version": 3
   },
   "file_extension": ".py",
   "mimetype": "text/x-python",
   "name": "python",
   "nbconvert_exporter": "python",
   "pygments_lexer": "ipython3",
   "version": "3.10.12"
  }
 },
 "nbformat": 4,
 "nbformat_minor": 5
}
