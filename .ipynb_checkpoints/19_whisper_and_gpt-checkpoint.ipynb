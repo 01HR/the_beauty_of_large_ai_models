{
 "cells": [
  {
   "cell_type": "markdown",
   "id": "210ab666-9547-4c02-a774-8ec07c5ebb6e",
   "metadata": {},
   "source": [
    "# Whisper API转录"
   ]
  },
  {
   "cell_type": "code",
   "execution_count": 1,
   "id": "0c6a82e9-ca1d-44a7-9968-b65efe08426c",
   "metadata": {
    "execution": {
     "iopub.execute_input": "2024-05-22T15:23:50.747946Z",
     "iopub.status.busy": "2024-05-22T15:23:50.747634Z",
     "iopub.status.idle": "2024-05-22T15:24:14.025826Z",
     "shell.execute_reply": "2024-05-22T15:24:14.024331Z",
     "shell.execute_reply.started": "2024-05-22T15:23:50.747917Z"
    },
    "tags": []
   },
   "outputs": [
    {
     "name": "stdout",
     "output_type": "stream",
     "text": [
      "欢迎来到ONBOARD,真实的一线经验,走新的投资思考。我是Monica。 我是高宁,我们一起聊聊软件如何改变世界。 大家好,欢迎来到ONBOARD,我是Monica。 自从OpenAI发布的ChatGBT掀起了席卷世界的AI热潮,不到三个月就积累了超过一亿的越货用户,超过1300万的日货用户。 真的是展现了AI让人惊叹的能力,也让很多人直呼这就是下一个互联网的未来。 有不少观众都说希望我们再做一期AI的讨论,于是这次硬核讨论就来了。 这次我们请来了Google Brain的研究员雪芝,她是Google大语言模型POM,Pathway Language Model的作者之一。 要知道,这个模型的参数量是GPT-3的三倍还多。 另外还有两位AI产品大牛,一位来自著名的Stable Diffusion背后的商业公司Stability AI, 另一位来自某硅谷科技大厂,也曾在吴恩达教授的Landing AI中担任产品负责人。 此外,Monica还邀请到一位一直关注AI的投资人朋友Bill,当做我的特邀共同主持嘉宾。 我们主要讨论几个话题,一方面从研究的视角,最前沿的研究者在关注什么? 现在技术的天花板和未来大的变量可能会在哪里? 从产品和商业的角度,什么是一个好的AI产品? 整个生态可能随着技术有怎样的演变? 更重要的,我们又能从上一波AI的创业热潮中学到什么? 最后,Monica和Bill还会从投资人的视角做一个回顾、总结和畅想。 这里还有一个小的update,在本集发布的时候,Google也对爆发式增长的ChatGBT做出了回应, 正在测试一个基于Lambda模型的聊天机器人ApprenticeBot,证实发布后会有怎样的惊喜,我们都拭目以待。 AI无疑是未来几年最令人兴奋的变量之一,Monica也希望未来能邀请到更多一线从业者从不同角度讨论这个话题。 不论是想要做创业、研究、产品还是投资的同学,希望这些对话对于大家了解这些技术演进、商业的可能, 甚至未来对于我们每个人每个社会意味着什么都能引发一些思考,提供一些启发。 这次的讨论有些技术硬核,需要各位对生成式AI大模型都有一些基础了解, 讨论中涉及到的论文和重要概念也会总结在本期的简介中,供大家复习参考。 几位嘉宾在北美工作生活多年,夹杂英文在所难免,也请大家体谅了。欢迎来到未来,大家enjoy!\n"
     ]
    }
   ],
   "source": [
    "from openai import OpenAI\n",
    "\n",
    "audio_file = open(\"./data/podcast_clip.mp3\", \"rb\")\n",
    "client = OpenAI()\n",
    "transcript = client.audio.transcriptions.create(\n",
    "    file=audio_file,\n",
    "    model=\"whisper-1\",\n",
    ")\n",
    "\n",
    "print(transcript.text)"
   ]
  },
  {
   "cell_type": "markdown",
   "id": "77f9d5e1-829a-4092-9015-5443e03b126d",
   "metadata": {},
   "source": [
    "# Prompt增加标点符号"
   ]
  },
  {
   "cell_type": "code",
   "execution_count": 2,
   "id": "5b628787-ea91-4e9a-bcda-1d852a0dea41",
   "metadata": {
    "execution": {
     "iopub.execute_input": "2024-05-22T15:24:14.028560Z",
     "iopub.status.busy": "2024-05-22T15:24:14.027921Z",
     "iopub.status.idle": "2024-05-22T15:24:28.083354Z",
     "shell.execute_reply": "2024-05-22T15:24:28.082446Z",
     "shell.execute_reply.started": "2024-05-22T15:24:14.028524Z"
    },
    "tags": []
   },
   "outputs": [
    {
     "name": "stdout",
     "output_type": "stream",
     "text": [
      "欢迎来到onboard,真实的一线经验,走新的投资思考。我是莫妮卡。 我是高宁。我们一起聊聊软件如何改变世界。 大家好,欢迎来到onboard,我是莫妮卡。 自从OpenAI发布的ChatGBT掀起了席卷世界的AI热潮, 不到三个月就积累了超过一亿的越活用户,超过一千三百万的日活用户。 真的是展现了AI让人惊叹的能力,也让很多人直呼这就是下一个互联网的未来。 有不少观众都说希望我们再做一期AI的讨论,于是这次硬核讨论就来了。 这次我们请来了Google Brain的研究员雪芝, 她是Google大语言模型POM,Pathway Language Model的作者之一。 要知道,这个模型的参数量是GPT-3的三倍还多。 另外还有两位AI产品大牛,一位来自著名的Stable Diffusion背后的商业公司Stability AI, 另一位来自某硅谷科技大厂,也曾在吴恩达教授的Landing AI中担任产品负责人。 此外,莫妮卡还邀请到一位一直关注AI的投资人朋友Bill当做我的特邀共同主持嘉宾。 我们主要讨论几个话题,一方面从研究的视角,最前沿的研究者在关注什么? 现在技术的天花板和未来大的变量可能会在哪里? 从产品和商业的角度,什么是一个好的AI产品? 整个生态可能随着技术有怎样的演变? 更重要的,我们又能从上一波AI的创业热潮中学到什么? 最后,莫妮卡和Bill还会从投资人的视角做一个回顾,总结和畅想。 这里还有一个小的update,在本集发布的时候,Google也对爆发式增长的Chat GPT做出了回应。 正在测试一个基于Lambda模型的聊天机器人ApprenticeBot。 证实发布后会有怎样的惊喜,我们都拭目以待。 AI无疑是未来几年最令人兴奋的变量之一, 莫妮卡也希望未来能邀请到更多一线从业者从不同角度讨论这个话题。 不论是想要做创业、研究、产品还是投资的同学, 希望这些对话对于大家了解这些技术演进、商业的可能, 甚至未来对于我们每个人每个社会意味着什么都能引发一些思考,提供一些启发。 这次的讨论有些技术硬核,需要各位对生成式AI大模型都有一些基础了解。 讨论中涉及到的论文和重要概念也会总结在本集的简介中,供大家复习参考。 几位嘉宾在北美工作生活多年,夹杂英文在所难免,也请大家体谅了。 欢迎来到未来,大家enjoy!\n"
     ]
    }
   ],
   "source": [
    "transcript = client.audio.transcriptions.create(\n",
    "    file=audio_file,\n",
    "    model=\"whisper-1\",\n",
    "    prompt=\"这是一段中文播客内容。\"\n",
    ")\n",
    "\n",
    "print(transcript.text)"
   ]
  },
  {
   "cell_type": "markdown",
   "id": "332beef8-49f7-42ed-be54-c943251c7af5",
   "metadata": {},
   "source": [
    "# Prompt增加中英文混排格式"
   ]
  },
  {
   "cell_type": "code",
   "execution_count": 3,
   "id": "022dd94c-6e06-4974-8ad8-82575e6841d1",
   "metadata": {
    "execution": {
     "iopub.execute_input": "2024-05-22T15:24:28.085244Z",
     "iopub.status.busy": "2024-05-22T15:24:28.084547Z",
     "iopub.status.idle": "2024-05-22T15:24:41.959784Z",
     "shell.execute_reply": "2024-05-22T15:24:41.958692Z",
     "shell.execute_reply.started": "2024-05-22T15:24:28.085212Z"
    },
    "tags": []
   },
   "outputs": [
    {
     "name": "stdout",
     "output_type": "stream",
     "text": [
      "欢迎来到Onboard,真实的一线经验,走新的投资思考。 我是Monica。 我是高宁。我们一起聊聊软件如何改变世界。 大家好,欢迎来到Onboard,我是Monica。 自从OpenAI发布的ChatGBT掀起了席卷世界的AI热潮, 不到三个月就积累了超过一亿的越活用户,超过1300万的日活用户。 真的是展现了AI让人惊叹的能力,也让很多人直呼这就是下一个互联网的未来。 有不少观众都说希望我们再做一期AI的讨论,于是这次硬核讨论就来了。 这次我们请来了Google Brain的研究员雪芝, 她是Google大语言模型POM,Pathway Language Model的作者之一。 要知道,这个模型的参数量是GPT-3的三倍还多。 另外还有两位AI产品大牛,一位来自著名的Stable Diffusion背后的商业公司Stability AI, 另一位来自某硅谷科技大厂,也曾在吴恩达教授的Landing AI中担任产品负责人。 此外,Monica还邀请到一位一直关注AI的投资人朋友Bill,当做我的特邀共同主持嘉宾。 我们主要讨论几个话题,一方面从研究的视角,最前沿的研究者在关注什么? 现在技术的天花板和未来大的变量可能会在哪里? 从产品和商业的角度,什么是一个好的AI产品? 整个生态可能随着技术有怎样的演变? 更重要的,我们又能从上一波AI的创业热潮中学到什么? 最后,Monica和Bill还会从投资人的视角做一个回顾,总结和畅想。 这里还有一个小的update,在本集发布的时候, Google也对爆发式增长的ChatGBT做出了回应, 正在测试一个基于Lambda模型的聊天机器人ApprenticeBot, 正式发布后会有怎样的惊喜?我们都拭目以待。 AI无疑是未来几年最令人兴奋的变量之一, Monica也希望未来能邀请到更多一线从业者从不同角度讨论这个话题, 不论是想要做创业、研究、产品还是投资的同学, 希望这些对话对于大家了解这些技术演进、商业的可能, 甚至未来对于我们每个人每个社会意味着什么都能引发一些思考,提供一些启发。 这次的讨论有些技术硬核,需要各位对生成式AI大模型都有一些基础了解, 讨论中涉及到的论文和重要概念也会总结在本集的简介中,供大家复习参考。 几位嘉宾在北美工作生活多年,夹杂英文在所难免,也请大家体谅了。 欢迎来到未来,大家enjoy!\n"
     ]
    }
   ],
   "source": [
    "transcript = client.audio.transcriptions.create(\n",
    "    file=audio_file,\n",
    "    model=\"whisper-1\",\n",
    "    prompt=\"这是一段Onboard播客的内容。\"\n",
    ")\n",
    "\n",
    "print(transcript.text)"
   ]
  },
  {
   "cell_type": "code",
   "execution_count": 4,
   "id": "a4f03596-ca28-4822-a08d-cedb9c0b8b7e",
   "metadata": {
    "execution": {
     "iopub.execute_input": "2024-05-22T15:24:41.961020Z",
     "iopub.status.busy": "2024-05-22T15:24:41.960752Z",
     "iopub.status.idle": "2024-05-22T15:24:57.916563Z",
     "shell.execute_reply": "2024-05-22T15:24:57.915765Z",
     "shell.execute_reply.started": "2024-05-22T15:24:41.960997Z"
    },
    "tags": []
   },
   "outputs": [
    {
     "name": "stdout",
     "output_type": "stream",
     "text": [
      "欢迎来到Onboard,真实的一线经验,走新的投资思考。我是Monica。 我是高宁,我们一起聊聊软件如何改变世界。 大家好,欢迎来到Onboard,我是Monica。 自从OpenAI发布的ChatGPT掀起了席卷世界的AI热潮,不到三个月就积累了超过一亿的越活用户,超过1300万的日活用户。 真的是展现了AI让人惊叹的能力,也让很多人直呼这就是下一个互联网的未来。 有不少观众都说希望我们再做一期AI的讨论,于是这次硬核讨论就来了。 这次我们请来了Google Brain的研究员雪芝,她是Google大语言模型PALM Pathways Language Model的作者之一。 要知道,这个模型的参数量是GPT-3的三倍还多。 另外还有两位AI产品大牛,一位来自著名的Stable Diffusion背后的商业公司Stability AI, 另一位来自某硅谷科技大厂,也曾在吴恩达教授的Landing AI中担任产品负责人。 此外,Monica还邀请到一位一直关注AI的投资人朋友Bill当做我的特邀共同主持嘉宾。 我们主要讨论几个话题,一方面从研究的视角,最前沿的研究者在关注什么? 现在技术的天花板和未来大的变量可能会在哪里? 从产品和商业的角度,什么是一个好的AI产品? 整个生态可能随着技术有怎样的演变? 更重要的,我们又能从上一波AI的创业热潮中学到什么? 最后,Monica和Bill还会从投资人的视角做一个回顾、总结和畅想。 这里还有一个小的update,在本集发布的时候,Google也对爆发式增长的Chat GPT做出了回应。 正在测试一个基于Lambda模型的聊天机器人ApprenticeBot。 证实发布后会有怎样的惊喜,我们都拭目以待。 AI无疑是未来几年最令人兴奋的变量之一。 Monica也希望未来能邀请到更多一线从业者从不同角度讨论这个话题。 不论是想要做创业、研究、产品还是投资的同学, 希望这些对话对于大家了解这些技术演进、商业的可能, 甚至未来对于我们每个人、每个社会意味着什么都能引发一些思考,提供一些启发。 这次的讨论有些技术硬核,需要各位对生成式AI大模型都有一些基础了解。 讨论中涉及到的论文和重要概念也会总结在本集的简介中,供大家复习参考。 几位嘉宾在北美工作生活多年,夹杂英文在所难免,也请大家体谅了。 欢迎来到未来,大家enjoy!\n"
     ]
    }
   ],
   "source": [
    "transcript = client.audio.transcriptions.create(\n",
    "    file=audio_file,\n",
    "    model=\"whisper-1\",\n",
    "    prompt=\"这是一段Onboard播客，里面会聊到ChatGPT以及PALM这个大语言模型。这个模型也叫做Pathways Language Model。\"\n",
    ")\n",
    "\n",
    "print(transcript.text)"
   ]
  },
  {
   "cell_type": "code",
   "execution_count": 5,
   "id": "17c07e9d-2449-4b32-86fa-cda0d6bcf1f0",
   "metadata": {
    "execution": {
     "iopub.execute_input": "2024-05-22T15:24:57.919159Z",
     "iopub.status.busy": "2024-05-22T15:24:57.918595Z",
     "iopub.status.idle": "2024-05-22T15:25:13.105824Z",
     "shell.execute_reply": "2024-05-22T15:25:13.104916Z",
     "shell.execute_reply.started": "2024-05-22T15:24:57.919110Z"
    },
    "scrolled": true,
    "tags": []
   },
   "outputs": [
    {
     "name": "stdout",
     "output_type": "stream",
     "text": [
      "1\n",
      "00:00:01,000 --> 00:00:08,000\n",
      "欢迎来到Onboard,真实的一线经验,走新的投资思考。我是Monica。\n",
      "\n",
      "2\n",
      "00:00:08,000 --> 00:00:11,000\n",
      "我是高宁,我们一起聊聊软件如何改变世界。\n",
      "\n",
      "3\n",
      "00:00:15,000 --> 00:00:18,000\n",
      "大家好,欢迎来到Onboard,我是Monica。\n",
      "\n",
      "4\n",
      "00:00:18,000 --> 00:00:28,000\n",
      "自从OpenAI发布的ChatGPT掀起了席卷世界的AI热潮,不到三个月就积累了超过一亿的越活用户,超过1300万的日活用户。\n",
      "\n",
      "5\n",
      "00:00:28,000 --> 00:00:34,000\n",
      "真的是展现了AI让人惊叹的能力,也让很多人直呼这就是下一个互联网的未来。\n",
      "\n",
      "6\n",
      "00:00:34,000 --> 00:00:41,000\n",
      "有不少观众都说希望我们再做一期AI的讨论,于是这次硬核讨论就来了。\n",
      "\n",
      "7\n",
      "00:00:41,000 --> 00:00:49,000\n",
      "这次我们请来了Google Brain的研究员雪芝,她是Google大语言模型PALM Pathways Language Model的作者之一。\n",
      "\n",
      "8\n",
      "00:00:49,000 --> 00:00:53,000\n",
      "要知道,这个模型的参数量是GPT-3的三倍还多。\n",
      "\n",
      "9\n",
      "00:00:54,000 --> 00:01:01,000\n",
      "另外还有两位AI产品大牛,一位来自著名的Stable Diffusion背后的商业公司Stability AI,\n",
      "\n",
      "10\n",
      "00:01:01,000 --> 00:01:08,000\n",
      "另一位来自某硅谷科技大厂,也曾在吴恩达教授的Landing AI中担任产品负责人。\n",
      "\n",
      "11\n",
      "00:01:08,000 --> 00:01:15,000\n",
      "此外,Monica还邀请到一位一直关注AI的投资人朋友Bill当做我的特邀共同主持嘉宾。\n",
      "\n",
      "12\n",
      "00:01:15,000 --> 00:01:22,000\n",
      "我们主要讨论几个话题,一方面从研究的视角,最前沿的研究者在关注什么?\n",
      "\n",
      "13\n",
      "00:01:22,000 --> 00:01:26,000\n",
      "现在技术的天花板和未来大的变量可能会在哪里?\n",
      "\n",
      "14\n",
      "00:01:26,000 --> 00:01:30,000\n",
      "从产品和商业的角度,什么是一个好的AI产品?\n",
      "\n",
      "15\n",
      "00:01:30,000 --> 00:01:33,000\n",
      "整个生态可能随着技术有怎样的演变?\n",
      "\n",
      "16\n",
      "00:01:33,000 --> 00:01:38,000\n",
      "更重要的,我们又能从上一波AI的创业热潮中学到什么?\n",
      "\n",
      "17\n",
      "00:01:38,000 --> 00:01:44,000\n",
      "最后,Monica和Bill还会从投资人的视角做一个回顾、总结和畅想。\n",
      "\n",
      "18\n",
      "00:01:44,000 --> 00:01:51,000\n",
      "这里还有一个小的update,在本集发布的时候,Google也对爆发式增长的Chat GPT做出了回应。\n",
      "\n",
      "19\n",
      "00:01:51,000 --> 00:01:56,000\n",
      "正在测试一个基于Lambda模型的聊天机器人ApprenticeBot。\n",
      "\n",
      "20\n",
      "00:01:56,000 --> 00:02:00,000\n",
      "证实发布后会有怎样的惊喜,我们都拭目以待。\n",
      "\n",
      "21\n",
      "00:02:00,000 --> 00:02:04,000\n",
      "AI无疑是未来几年最令人兴奋的变量之一。\n",
      "\n",
      "22\n",
      "00:02:04,000 --> 00:02:10,000\n",
      "Monica也希望未来能邀请到更多一线从业者从不同角度讨论这个话题。\n",
      "\n",
      "23\n",
      "00:02:10,000 --> 00:02:15,000\n",
      "不论是想要做创业、研究、产品还是投资的同学,\n",
      "\n",
      "24\n",
      "00:02:16,000 --> 00:02:21,000\n",
      "希望这些对话对于大家了解这些技术演进、商业的可能,\n",
      "\n",
      "25\n",
      "00:02:21,000 --> 00:02:27,000\n",
      "甚至未来对于我们每个人、每个社会意味着什么都能引发一些思考,提供一些启发。\n",
      "\n",
      "26\n",
      "00:02:27,000 --> 00:02:34,000\n",
      "这次的讨论有些技术硬核,需要各位对生成式AI大模型都有一些基础了解。\n",
      "\n",
      "27\n",
      "00:02:34,000 --> 00:02:41,000\n",
      "讨论中涉及到的论文和重要概念也会总结在本集的简介中,供大家复习参考。\n",
      "\n",
      "28\n",
      "00:02:41,000 --> 00:02:47,000\n",
      "几位嘉宾在北美工作生活多年,夹杂英文在所难免,也请大家体谅了。\n",
      "\n",
      "29\n",
      "00:02:47,000 --> 00:02:50,000\n",
      "欢迎来到未来,大家enjoy!\n",
      "\n",
      "\n",
      "\n"
     ]
    }
   ],
   "source": [
    "transcript = client.audio.transcriptions.create(\n",
    "    file=audio_file,\n",
    "    model=\"whisper-1\", \n",
    "    response_format=\"srt\",\n",
    "    prompt=\"这是一段Onboard播客，里面会聊到ChatGPT以及PALM这个大语言模型。这个模型也叫做Pathways Language Model。\"\n",
    ")\n",
    "\n",
    "print(transcript)"
   ]
  },
  {
   "cell_type": "markdown",
   "id": "f412d1d4-81bd-4e6f-951f-5ed843d8884d",
   "metadata": {},
   "source": [
    "# 转录中顺便翻译"
   ]
  },
  {
   "cell_type": "code",
   "execution_count": 6,
   "id": "32d0b288-f6a2-4fff-89f2-f9d2df8e0b03",
   "metadata": {
    "execution": {
     "iopub.execute_input": "2024-05-22T15:25:13.107312Z",
     "iopub.status.busy": "2024-05-22T15:25:13.106900Z",
     "iopub.status.idle": "2024-05-22T15:25:25.217987Z",
     "shell.execute_reply": "2024-05-22T15:25:25.217115Z",
     "shell.execute_reply.started": "2024-05-22T15:25:13.107286Z"
    },
    "tags": []
   },
   "outputs": [
    {
     "name": "stdout",
     "output_type": "stream",
     "text": [
      "Welcome to Onboard. Real first-line experience. New investment thinking. I am Monica. I am Gao Ning. Let's talk about how software can change the world. Hello everyone, welcome to Onboard. I am Monica. Since the release of ChatGPT by OpenAI, it has aroused the hype of AI in the world. In less than three months, it has accumulated more than 100 million active users, and more than 13 million active users. It really shows the ability of AI to amaze people. It also makes many people say that this is the future of the next Internet. Many viewers said that they wanted us to do another AI discussion. So this discussion came. This time we invited a researcher from Google Brain, Xuezhi. He is one of the authors of Google's large-scale model PaLM, Pathways Language Model. You should know that the number of parameters of this model is three times more than GPT-3. In addition, there are two AI product bulls, a commercial company behind the famous Stable Diffusion, Stability AI, and another one from a Silicon Valley technology factory, who was also the product manager in Professor Wanda's Landing AI. In addition, Monica also invited a friend who has been paying attention to AI, Bill, to be my special guest host. We mainly discuss a few topics. On the one hand, from the perspective of research, what are the most cutting-edge researchers paying attention to? Where are the cutting-edge technologies and the big changes in the future? From the perspective of products and business, what is a good AI product? How will the whole ecosystem evolve with technology? More importantly, what can we learn from the previous wave of AI entrepreneurship? Finally, Monica and Bill will make a review, summary, and reflection from the perspective of investors. Here is a small update. When this episode was released, Google also responded to the explosive growth of ChatGPT. It is testing a chat robot based on the Lambda model, ApprenticeBot. What kind of surprises will come after the official release? We are all looking forward to it. AI is undoubtedly one of the most exciting variables in the next few years. Monica also hopes to invite more frontline entrepreneurs to discuss this topic from different angles in the future. Whether you want to start a business, research, product, or invest, I hope these conversations will help you understand the possibilities of technology, business, and even what it means to each of us in the future. It can trigger some thoughts and inspire us. This discussion is a bit technical, and requires you to have some basic understanding of biometric AI and big models. The papers and important concepts involved in the discussion will also be summarized in this episode's summary, for your reference. The guests have worked in North America for many years, and their English is not fluent. Please understand. Welcome to the future. Enjoy. Let me give you a brief self-introduction. Some of your past experiences. A fun fact. Your favorite.\n"
     ]
    }
   ],
   "source": [
    "translated_prompt=\"\"\"This is a podcast discussing ChatGPT and PaLM model.\n",
    "The full name of PaLM is Pathways Language Model.\"\"\"\n",
    "transcript = client.audio.translations.create(\n",
    "    file=audio_file,\n",
    "    model=\"whisper-1\",\n",
    "    prompt=translated_prompt,\n",
    ")\n",
    "\n",
    "print(transcript.text)"
   ]
  },
  {
   "cell_type": "markdown",
   "id": "1d69d969-ea8d-4ef1-986a-68dc00b967bc",
   "metadata": {},
   "source": [
    "# 分割音频转录"
   ]
  },
  {
   "cell_type": "code",
   "execution_count": 7,
   "id": "0d70c6f1-dcc9-45e4-a34c-56bf11728e50",
   "metadata": {
    "execution": {
     "iopub.execute_input": "2024-05-22T15:25:25.219464Z",
     "iopub.status.busy": "2024-05-22T15:25:25.219172Z",
     "iopub.status.idle": "2024-05-22T15:25:25.223465Z",
     "shell.execute_reply": "2024-05-22T15:25:25.222725Z",
     "shell.execute_reply.started": "2024-05-22T15:25:25.219422Z"
    }
   },
   "outputs": [],
   "source": [
    "#!ffmpeg -i ./data/podcast_long.mp4 -vn -c:a libmp3lame -q:a 4 ./data/podcast_long.mp3"
   ]
  },
  {
   "cell_type": "code",
   "execution_count": 8,
   "id": "644690e6-4888-4684-bf82-c7dc93d08092",
   "metadata": {
    "execution": {
     "iopub.execute_input": "2024-05-22T15:25:25.225101Z",
     "iopub.status.busy": "2024-05-22T15:25:25.224863Z",
     "iopub.status.idle": "2024-05-22T15:25:29.714546Z",
     "shell.execute_reply": "2024-05-22T15:25:29.713241Z",
     "shell.execute_reply.started": "2024-05-22T15:25:25.225080Z"
    },
    "tags": []
   },
   "outputs": [
    {
     "name": "stdout",
     "output_type": "stream",
     "text": [
      "Requirement already satisfied: pydub in /usr/local/lib/python3.10/dist-packages (0.25.1)\n",
      "\u001b[33mWARNING: Running pip as the 'root' user can result in broken permissions and conflicting behaviour with the system package manager. It is recommended to use a virtual environment instead: https://pip.pypa.io/warnings/venv\u001b[0m\u001b[33m\n",
      "\u001b[0mNote: you may need to restart the kernel to use updated packages.\n"
     ]
    }
   ],
   "source": [
    "%pip install -U pydub"
   ]
  },
  {
   "cell_type": "code",
   "execution_count": null,
   "id": "9c8b5faa-2ada-485b-a801-669612f404e6",
   "metadata": {
    "tags": []
   },
   "outputs": [],
   "source": [
    "from pydub import AudioSegment\n",
    "\n",
    "podcast = AudioSegment.from_mp3(\"./data/podcast_long.mp3\")\n",
    "\n",
    "# PyDub handles time in milliseconds\n",
    "ten_minutes = 15 * 60 * 1000\n",
    "\n",
    "total_length = len(podcast)\n",
    "\n",
    "start = 0\n",
    "index = 0\n",
    "while start < total_length:\n",
    "    end = start + ten_minutes\n",
    "    if end < total_length:\n",
    "        chunk = podcast[start:end]\n",
    "    else:\n",
    "        chunk = podcast[start:]\n",
    "    with open(f\"./data/podcast_clip_{index}.mp3\", \"wb\") as f:\n",
    "        chunk.export(f, format=\"mp3\")\n",
    "    start = end\n",
    "    index += 1"
   ]
  }
 ],
 "metadata": {
  "kernelspec": {
   "display_name": "Python 3 (ipykernel)",
   "language": "python",
   "name": "python3"
  },
  "language_info": {
   "codemirror_mode": {
    "name": "ipython",
    "version": 3
   },
   "file_extension": ".py",
   "mimetype": "text/x-python",
   "name": "python",
   "nbconvert_exporter": "python",
   "pygments_lexer": "ipython3",
   "version": "3.10.12"
  }
 },
 "nbformat": 4,
 "nbformat_minor": 5
}
