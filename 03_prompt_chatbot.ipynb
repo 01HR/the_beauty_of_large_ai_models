{
 "cells": [
  {
   "cell_type": "code",
   "execution_count": 1,
   "id": "519ba98b-531b-4a38-8dfb-9321ee7ee52b",
   "metadata": {
    "execution": {
     "iopub.execute_input": "2024-05-20T02:27:17.765523Z",
     "iopub.status.busy": "2024-05-20T02:27:17.764615Z",
     "iopub.status.idle": "2024-05-20T02:27:19.240982Z",
     "shell.execute_reply": "2024-05-20T02:27:19.239583Z",
     "shell.execute_reply.started": "2024-05-20T02:27:17.765482Z"
    },
    "tags": []
   },
   "outputs": [
    {
     "name": "stdout",
     "output_type": "stream",
     "text": [
      "Requirement already satisfied: openai in /usr/local/lib/python3.10/dist-packages (1.30.1)\n",
      "Requirement already satisfied: anyio<5,>=3.5.0 in /usr/local/lib/python3.10/dist-packages (from openai) (4.3.0)\n",
      "Requirement already satisfied: distro<2,>=1.7.0 in /usr/local/lib/python3.10/dist-packages (from openai) (1.9.0)\n",
      "Requirement already satisfied: httpx<1,>=0.23.0 in /usr/local/lib/python3.10/dist-packages (from openai) (0.27.0)\n",
      "Requirement already satisfied: pydantic<3,>=1.9.0 in /usr/local/lib/python3.10/dist-packages (from openai) (2.7.1)\n",
      "Requirement already satisfied: sniffio in /usr/local/lib/python3.10/dist-packages (from openai) (1.3.1)\n",
      "Requirement already satisfied: tqdm>4 in /usr/local/lib/python3.10/dist-packages (from openai) (4.66.4)\n",
      "Requirement already satisfied: typing-extensions<5,>=4.7 in /usr/local/lib/python3.10/dist-packages (from openai) (4.11.0)\n",
      "Requirement already satisfied: idna>=2.8 in /usr/local/lib/python3.10/dist-packages (from anyio<5,>=3.5.0->openai) (3.6)\n",
      "Requirement already satisfied: exceptiongroup>=1.0.2 in /usr/local/lib/python3.10/dist-packages (from anyio<5,>=3.5.0->openai) (1.2.0)\n",
      "Requirement already satisfied: certifi in /usr/local/lib/python3.10/dist-packages (from httpx<1,>=0.23.0->openai) (2024.2.2)\n",
      "Requirement already satisfied: httpcore==1.* in /usr/local/lib/python3.10/dist-packages (from httpx<1,>=0.23.0->openai) (1.0.5)\n",
      "Requirement already satisfied: h11<0.15,>=0.13 in /usr/local/lib/python3.10/dist-packages (from httpcore==1.*->httpx<1,>=0.23.0->openai) (0.14.0)\n",
      "Requirement already satisfied: annotated-types>=0.4.0 in /usr/local/lib/python3.10/dist-packages (from pydantic<3,>=1.9.0->openai) (0.6.0)\n",
      "Requirement already satisfied: pydantic-core==2.18.2 in /usr/local/lib/python3.10/dist-packages (from pydantic<3,>=1.9.0->openai) (2.18.2)\n",
      "\u001b[33mWARNING: Running pip as the 'root' user can result in broken permissions and conflicting behaviour with the system package manager. It is recommended to use a virtual environment instead: https://pip.pypa.io/warnings/venv\u001b[0m\u001b[33m\n",
      "\u001b[0m"
     ]
    }
   ],
   "source": [
    "!pip install openai"
   ]
  },
  {
   "cell_type": "markdown",
   "id": "60d8b271-4d8d-464c-b951-dbcaaabe2d6a",
   "metadata": {},
   "source": [
    "# AI 客服"
   ]
  },
  {
   "cell_type": "code",
   "execution_count": 2,
   "id": "caf06922-0c70-4d54-88e3-e921b710f64c",
   "metadata": {
    "execution": {
     "iopub.execute_input": "2024-05-20T02:27:19.243466Z",
     "iopub.status.busy": "2024-05-20T02:27:19.243108Z",
     "iopub.status.idle": "2024-05-20T02:27:24.381358Z",
     "shell.execute_reply": "2024-05-20T02:27:24.380137Z",
     "shell.execute_reply.started": "2024-05-20T02:27:19.243432Z"
    },
    "tags": []
   },
   "outputs": [
    {
     "name": "stdout",
     "output_type": "stream",
     "text": [
      "\n",
      "亲，您好！感谢您最近购买我们的商品。很抱歉由于天气原因，物流时间比预期要长一些。但是请放心，您的订单已经发货了，在路上的途中。预计3天内就能送达您的手中。订单号是2021AEDG。我们非常感谢您对我们商品的支持和信任。希望我们的商品能给您带来满意的使用体验。祝您一切顺利！\n"
     ]
    }
   ],
   "source": [
    "from openai import OpenAI\n",
    "\n",
    "client = OpenAI()\n",
    "\n",
    "COMPLETION_MODEL = \"gpt-3.5-turbo-instruct\"\n",
    "\n",
    "prompt = '请你用朋友的语气回复给到客户，并称他为“亲”，他的订单已经发货在路上了，预计在3天之内会送达，订单号2021AEDG，我们很抱歉因为天气的原因物流时间比原来长，感谢他选购我们的商品。'\n",
    "def get_response(prompt, temperature=1.0, stop=None):\n",
    "    completions = client.completions.create(\n",
    "        model = COMPLETION_MODEL,\n",
    "        prompt=prompt,\n",
    "        max_tokens=1024,\n",
    "        n=1,\n",
    "        stop=stop,\n",
    "        temperature=temperature,\n",
    "    )\n",
    "    message = completions.choices[0].text\n",
    "    return message\n",
    "\n",
    "print(get_response(prompt))\n"
   ]
  },
  {
   "cell_type": "code",
   "execution_count": 3,
   "id": "f617b66c-16a0-4ec2-aaec-152acda61980",
   "metadata": {
    "execution": {
     "iopub.execute_input": "2024-05-20T02:27:24.383125Z",
     "iopub.status.busy": "2024-05-20T02:27:24.382778Z",
     "iopub.status.idle": "2024-05-20T02:27:31.324543Z",
     "shell.execute_reply": "2024-05-20T02:27:31.323546Z",
     "shell.execute_reply.started": "2024-05-20T02:27:24.383096Z"
    },
    "tags": []
   },
   "outputs": [
    {
     "name": "stdout",
     "output_type": "stream",
     "text": [
      "\n",
      "\n",
      "亲，您好！感谢您选择购买我们的商品。很抱歉由于天气原因，物流时间比原来预计的要长一些。但是请放心，您的订单已经发货在路上了，预计在3天之内就能送达您的手中。订单号为2021AEDG。我们非常感谢您的支持和信任，希望我们的商品能给您带来满意的购物体验。谢谢！\n",
      "\n",
      "\n",
      "亲，您好！感谢您选择购买我们的商品。很抱歉由于天气原因，物流时间比原来预计的要长一些。但是请放心，您的订单已经发货在路上了，预计在3天之内就能送达您的手中。订单号为2021AEDG。我们非常感谢您的支持和信任，希望我们的商品能给您带来满意的购物体验。谢谢！\n"
     ]
    }
   ],
   "source": [
    "print(get_response(prompt, 0.0))\n",
    "print(get_response(prompt, 0.0))"
   ]
  },
  {
   "cell_type": "code",
   "execution_count": 4,
   "id": "05772664-8685-44eb-b2ce-2b6ac080c09f",
   "metadata": {
    "execution": {
     "iopub.execute_input": "2024-05-20T02:27:31.326429Z",
     "iopub.status.busy": "2024-05-20T02:27:31.326176Z",
     "iopub.status.idle": "2024-05-20T02:27:37.163925Z",
     "shell.execute_reply": "2024-05-20T02:27:37.162499Z",
     "shell.execute_reply.started": "2024-05-20T02:27:31.326405Z"
    },
    "tags": []
   },
   "outputs": [
    {
     "name": "stdout",
     "output_type": "stream",
     "text": [
      "1.将肉取出，放入碗中，加入盐、料酒、生粉、酱油，搅拌均匀腌制10分钟。\n",
      "2.将青椒、红椒、胡萝卜切成细丝，葱切成葱花。\n",
      "3.起锅加入适量油，烧至7成热，将腌制好的肉丝放入锅中炸至变色，捞出备用。\n",
      "4.重新起锅，加入少许油，放入葱花和姜末，再加入青椒、红椒、胡萝卜丝炒至断生。\n",
      "5.将炒好的肉丝倒入锅中，加入适量白糖、酱油、醋、料酒、鸡精和适量水，翻炒均匀。\n",
      "6.最后加入蒜末和适量的水淀粉勾芡，翻炒均匀即可出锅。\n"
     ]
    }
   ],
   "source": [
    "question = \"\"\"\n",
    "Q: 鱼香肉丝怎么做？\n",
    "A:\n",
    "\"\"\"\n",
    "\n",
    "print(get_response(question))"
   ]
  },
  {
   "cell_type": "code",
   "execution_count": 5,
   "id": "ac233af4-2c04-4e19-a4a7-ac26af29e093",
   "metadata": {
    "execution": {
     "iopub.execute_input": "2024-05-20T02:27:37.166223Z",
     "iopub.status.busy": "2024-05-20T02:27:37.165210Z",
     "iopub.status.idle": "2024-05-20T02:27:42.881836Z",
     "shell.execute_reply": "2024-05-20T02:27:42.880727Z",
     "shell.execute_reply.started": "2024-05-20T02:27:37.166190Z"
    },
    "tags": []
   },
   "outputs": [
    {
     "name": "stdout",
     "output_type": "stream",
     "text": [
      "1.准备好食材：500克牛肉，2勺蚝油，2勺生抽，1勺料酒，少许盐和鸡精，适量生粉，3根青葱，3片姜。\n",
      "2.将牛肉洗净，切成小块，锅中倒入适量水，放入牛肉，加入料酒和青葱姜片，煮滚捞出牛肉备用。\n",
      "3.在另一个锅中，放入适量油，油热后放入蚝油炒出香味，倒入腌制好的牛肉块，加入少许盐和鸡精，翻炒几下。\n",
      "4.倒入适量清水，放入生抽，煮开后用小火收汁，加入生粉勾芡。\n",
      "5.最后，撒上青葱末，翻炒均匀即可。可根据个人口味再次调味。\n"
     ]
    }
   ],
   "source": [
    "question =  \"\"\"\n",
    "Q : 鱼香肉丝怎么做？\n",
    "A :\n",
    "1.准备好食材：500克猪里脊肉，2个青椒，2个红椒，1个洋葱，2勺蒜蓉，3勺白糖，适量料酒，半勺盐，2勺生抽，2勺酱油，2勺醋，少许花椒粉，半勺老抽，适量水淀粉。\n",
    "2.将猪里脊肉洗净，沥干水分，放入料酒、盐，抓捏抓匀，腌制20分钟。\n",
    "3.将青红椒洗净，切成丝，洋葱洗净，切成葱花，蒜末拌入小苏打水中腌制。\n",
    "4.将猪里脊肉切成丝，放入锅中，加入洋葱，炒制至断生，加入青红椒，炒匀，加入腌制好的蒜末，炒制至断生。\n",
    "5.将白糖、生抽、酱油、醋、花椒粉、老抽、水淀粉倒入锅中，翻炒匀，用小火收汁，调味即可。\n",
    "\n",
    "Q : 那蚝油牛肉呢？\n",
    "A :\n",
    "\"\"\"\n",
    "print(get_response(question))"
   ]
  },
  {
   "cell_type": "code",
   "execution_count": 6,
   "id": "e2cd412f-ee50-4abd-a359-5e020b0fd0ae",
   "metadata": {
    "execution": {
     "iopub.execute_input": "2024-05-20T02:27:42.883539Z",
     "iopub.status.busy": "2024-05-20T02:27:42.883169Z",
     "iopub.status.idle": "2024-05-20T02:27:43.556868Z",
     "shell.execute_reply": "2024-05-20T02:27:43.555810Z",
     "shell.execute_reply.started": "2024-05-20T02:27:42.883500Z"
    },
    "scrolled": true,
    "tags": []
   },
   "outputs": [
    {
     "name": "stdout",
     "output_type": "stream",
     "text": [
      "Package                        Version\n",
      "------------------------------ --------------\n",
      "aiofiles                       22.1.0\n",
      "aiosqlite                      0.20.0\n",
      "annotated-types                0.6.0\n",
      "anyio                          4.3.0\n",
      "argon2-cffi                    23.1.0\n",
      "argon2-cffi-bindings           21.2.0\n",
      "arrow                          1.3.0\n",
      "astroid                        3.1.0\n",
      "asttokens                      2.4.1\n",
      "attrs                          23.2.0\n",
      "autopep8                       2.0.4\n",
      "Babel                          2.14.0\n",
      "beautifulsoup4                 4.12.3\n",
      "bleach                         6.1.0\n",
      "certifi                        2024.2.2\n",
      "cffi                           1.16.0\n",
      "charset-normalizer             3.3.2\n",
      "comm                           0.2.2\n",
      "contourpy                      1.2.1\n",
      "cycler                         0.12.1\n",
      "debugpy                        1.8.1\n",
      "decorator                      5.1.1\n",
      "defusedxml                     0.7.1\n",
      "dill                           0.3.8\n",
      "distro                         1.9.0\n",
      "docstring-to-markdown          0.15\n",
      "entrypoints                    0.4\n",
      "exceptiongroup                 1.2.0\n",
      "executing                      2.0.1\n",
      "fastjsonschema                 2.19.1\n",
      "flake8                         7.0.0\n",
      "fonttools                      4.51.0\n",
      "fqdn                           1.5.1\n",
      "h11                            0.14.0\n",
      "httpcore                       1.0.5\n",
      "httpx                          0.27.0\n",
      "idna                           3.6\n",
      "importlib_metadata             7.1.0\n",
      "ipykernel                      6.29.4\n",
      "ipython                        8.23.0\n",
      "ipython-genutils               0.2.0\n",
      "ipywidgets                     8.1.2\n",
      "isoduration                    20.11.0\n",
      "isort                          5.13.2\n",
      "jedi                           0.19.1\n",
      "Jinja2                         3.1.3\n",
      "joblib                         1.4.2\n",
      "json5                          0.9.24\n",
      "jsonpointer                    2.4\n",
      "jsonschema                     4.21.1\n",
      "jsonschema-specifications      2023.12.1\n",
      "jupyter_client                 7.4.9\n",
      "jupyter_core                   5.7.2\n",
      "jupyter-events                 0.10.0\n",
      "jupyter-lsp                    2.2.4\n",
      "jupyter_server                 2.13.0\n",
      "jupyter_server_fileid          0.9.1\n",
      "jupyter_server_terminals       0.5.3\n",
      "jupyter_server_ydoc            0.8.0\n",
      "jupyter-ydoc                   0.2.5\n",
      "jupyterlab                     3.6.3\n",
      "jupyterlab-execute-time        2.3.1\n",
      "jupyterlab-language-pack-zh-CN 4.1.post2\n",
      "jupyterlab-lsp                 4.3.0\n",
      "jupyterlab_pygments            0.3.0\n",
      "jupyterlab-search-replace      1.0.2\n",
      "jupyterlab_server              2.25.4\n",
      "jupyterlab_widgets             3.0.10\n",
      "kiwisolver                     1.4.5\n",
      "MarkupSafe                     2.1.5\n",
      "matplotlib                     3.9.0\n",
      "matplotlib-inline              0.1.6\n",
      "mccabe                         0.7.0\n",
      "mistune                        3.0.2\n",
      "nbclassic                      1.0.0\n",
      "nbclient                       0.10.0\n",
      "nbconvert                      7.16.3\n",
      "nbformat                       5.10.4\n",
      "nest-asyncio                   1.6.0\n",
      "notebook                       6.5.6\n",
      "notebook_shim                  0.2.4\n",
      "numpy                          1.26.4\n",
      "openai                         1.30.1\n",
      "overrides                      7.7.0\n",
      "packaging                      24.0\n",
      "pandas                         2.2.2\n",
      "pandocfilters                  1.5.1\n",
      "parso                          0.8.4\n",
      "pexpect                        4.9.0\n",
      "pillow                         10.3.0\n",
      "pip                            24.0\n",
      "platformdirs                   4.2.0\n",
      "pluggy                         1.4.0\n",
      "prometheus_client              0.20.0\n",
      "prompt-toolkit                 3.0.43\n",
      "psutil                         5.9.8\n",
      "ptyprocess                     0.7.0\n",
      "pure-eval                      0.2.2\n",
      "pycodestyle                    2.11.1\n",
      "pycparser                      2.22\n",
      "pydantic                       2.7.1\n",
      "pydantic_core                  2.18.2\n",
      "pydocstyle                     6.3.0\n",
      "pyflakes                       3.2.0\n",
      "Pygments                       2.17.2\n",
      "pylint                         3.1.0\n",
      "pyparsing                      3.1.2\n",
      "python-dateutil                2.9.0.post0\n",
      "python-json-logger             2.0.7\n",
      "python-lsp-jsonrpc             1.1.2\n",
      "python-lsp-server              1.11.0\n",
      "pytoolconfig                   1.3.1\n",
      "pytz                           2024.1\n",
      "PyYAML                         6.0.1\n",
      "pyzmq                          24.0.1\n",
      "referencing                    0.34.0\n",
      "requests                       2.31.0\n",
      "rfc3339-validator              0.1.4\n",
      "rfc3986-validator              0.1.1\n",
      "rope                           1.13.0\n",
      "rpds-py                        0.18.0\n",
      "scikit-learn                   1.4.2\n",
      "scipy                          1.13.0\n",
      "Send2Trash                     1.8.2\n",
      "setuptools                     59.6.0\n",
      "six                            1.16.0\n",
      "sniffio                        1.3.1\n",
      "snowballstemmer                2.2.0\n",
      "soupsieve                      2.5\n",
      "stack-data                     0.6.3\n",
      "terminado                      0.18.1\n",
      "threadpoolctl                  3.5.0\n",
      "tinycss2                       1.2.1\n",
      "tomli                          2.0.1\n",
      "tomlkit                        0.12.4\n",
      "tornado                        6.4\n",
      "tqdm                           4.66.4\n",
      "traitlets                      5.14.2\n",
      "types-python-dateutil          2.9.0.20240316\n",
      "typing_extensions              4.11.0\n",
      "tzdata                         2024.1\n",
      "ujson                          5.9.0\n",
      "uri-template                   1.3.0\n",
      "urllib3                        2.2.1\n",
      "wcwidth                        0.2.13\n",
      "webcolors                      1.13\n",
      "webencodings                   0.5.1\n",
      "websocket-client               1.7.0\n",
      "whatthepatch                   1.0.5\n",
      "wheel                          0.37.1\n",
      "widgetsnbextension             4.0.10\n",
      "y-py                           0.6.2\n",
      "yapf                           0.40.2\n",
      "ypy-websocket                  0.8.4\n",
      "zipp                           3.18.1\n"
     ]
    }
   ],
   "source": [
    "!pip list"
   ]
  }
 ],
 "metadata": {
  "kernelspec": {
   "display_name": "Python 3 (ipykernel)",
   "language": "python",
   "name": "python3"
  },
  "language_info": {
   "codemirror_mode": {
    "name": "ipython",
    "version": 3
   },
   "file_extension": ".py",
   "mimetype": "text/x-python",
   "name": "python",
   "nbconvert_exporter": "python",
   "pygments_lexer": "ipython3",
   "version": "3.10.12"
  }
 },
 "nbformat": 4,
 "nbformat_minor": 5
}
