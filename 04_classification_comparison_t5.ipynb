{
 "cells": [
  {
   "cell_type": "markdown",
   "id": "fccd9daf-0bca-4ed1-8e5d-ec8c2eb62d37",
   "metadata": {},
   "source": [
    "## T5效果测试"
   ]
  },
  {
   "cell_type": "code",
   "execution_count": 3,
   "id": "77a24cd4-bd31-42fc-988d-417afe393205",
   "metadata": {
    "execution": {
     "iopub.execute_input": "2024-05-20T02:39:09.669926Z",
     "iopub.status.busy": "2024-05-20T02:39:09.668781Z",
     "iopub.status.idle": "2024-05-20T02:48:06.455169Z",
     "shell.execute_reply": "2024-05-20T02:48:06.454299Z",
     "shell.execute_reply.started": "2024-05-20T02:39:09.669879Z"
    },
    "scrolled": true,
    "tags": []
   },
   "outputs": [
    {
     "name": "stdout",
     "output_type": "stream",
     "text": [
      "Collecting transformers\n",
      "  Downloading transformers-4.41.0-py3-none-any.whl.metadata (43 kB)\n",
      "\u001b[2K     \u001b[90m━━━━━━━━━━━━━━━━━━━━━━━━━━━━━━━━━━━━━━━━\u001b[0m \u001b[32m43.8/43.8 kB\u001b[0m \u001b[31m50.5 kB/s\u001b[0m eta \u001b[36m0:00:00\u001b[0ma \u001b[36m0:00:01\u001b[0m\n",
      "\u001b[?25hCollecting filelock (from transformers)\n",
      "  Using cached filelock-3.14.0-py3-none-any.whl.metadata (2.8 kB)\n",
      "Collecting huggingface-hub<1.0,>=0.23.0 (from transformers)\n",
      "  Downloading huggingface_hub-0.23.0-py3-none-any.whl.metadata (12 kB)\n",
      "Requirement already satisfied: numpy>=1.17 in /usr/local/lib/python3.10/dist-packages (from transformers) (1.24.4)\n",
      "Requirement already satisfied: packaging>=20.0 in /usr/local/lib/python3.10/dist-packages (from transformers) (24.0)\n",
      "Requirement already satisfied: pyyaml>=5.1 in /usr/local/lib/python3.10/dist-packages (from transformers) (6.0.1)\n",
      "Collecting regex!=2019.12.17 (from transformers)\n",
      "  Downloading regex-2024.5.15-cp310-cp310-manylinux_2_17_x86_64.manylinux2014_x86_64.whl.metadata (40 kB)\n",
      "\u001b[2K     \u001b[90m━━━━━━━━━━━━━━━━━━━━━━━━━━━━━━━━━━━━━━━\u001b[0m \u001b[32m40.9/40.9 kB\u001b[0m \u001b[31m268.0 kB/s\u001b[0m eta \u001b[36m0:00:00\u001b[0ma \u001b[36m0:00:01\u001b[0m\n",
      "\u001b[?25hRequirement already satisfied: requests in /usr/local/lib/python3.10/dist-packages (from transformers) (2.31.0)\n",
      "Collecting tokenizers<0.20,>=0.19 (from transformers)\n",
      "  Downloading tokenizers-0.19.1-cp310-cp310-manylinux_2_17_x86_64.manylinux2014_x86_64.whl.metadata (6.7 kB)\n",
      "Collecting safetensors>=0.4.1 (from transformers)\n",
      "  Downloading safetensors-0.4.3-cp310-cp310-manylinux_2_17_x86_64.manylinux2014_x86_64.whl.metadata (3.8 kB)\n",
      "Requirement already satisfied: tqdm>=4.27 in /usr/local/lib/python3.10/dist-packages (from transformers) (4.66.4)\n",
      "Collecting fsspec>=2023.5.0 (from huggingface-hub<1.0,>=0.23.0->transformers)\n",
      "  Using cached fsspec-2024.5.0-py3-none-any.whl.metadata (11 kB)\n",
      "Requirement already satisfied: typing-extensions>=3.7.4.3 in /usr/local/lib/python3.10/dist-packages (from huggingface-hub<1.0,>=0.23.0->transformers) (4.11.0)\n",
      "Requirement already satisfied: charset-normalizer<4,>=2 in /usr/local/lib/python3.10/dist-packages (from requests->transformers) (3.3.2)\n",
      "Requirement already satisfied: idna<4,>=2.5 in /usr/local/lib/python3.10/dist-packages (from requests->transformers) (3.6)\n",
      "Requirement already satisfied: urllib3<3,>=1.21.1 in /usr/local/lib/python3.10/dist-packages (from requests->transformers) (2.2.1)\n",
      "Requirement already satisfied: certifi>=2017.4.17 in /usr/local/lib/python3.10/dist-packages (from requests->transformers) (2024.2.2)\n",
      "Downloading transformers-4.41.0-py3-none-any.whl (9.1 MB)\n",
      "\u001b[2K   \u001b[90m━━━━━━━━━━━━━━━━━━━━━━━━━━━━━━━━━━━━━━━━\u001b[0m \u001b[32m9.1/9.1 MB\u001b[0m \u001b[31m3.4 MB/s\u001b[0m eta \u001b[36m0:00:00\u001b[0m00:01\u001b[0m00:01\u001b[0m0m\n",
      "\u001b[?25hDownloading huggingface_hub-0.23.0-py3-none-any.whl (401 kB)\n",
      "\u001b[2K   \u001b[90m━━━━━━━━━━━━━━━━━━━━━━━━━━━━━━━━━━━━━━━━\u001b[0m \u001b[32m401.2/401.2 kB\u001b[0m \u001b[31m7.3 MB/s\u001b[0m eta \u001b[36m0:00:00\u001b[0m:00:01\u001b[0m\n",
      "\u001b[?25hDownloading regex-2024.5.15-cp310-cp310-manylinux_2_17_x86_64.manylinux2014_x86_64.whl (775 kB)\n",
      "\u001b[2K   \u001b[90m━━━━━━━━━━━━━━━━━━━━━━━━━━━━━━━━━━━━━━━━\u001b[0m \u001b[32m775.1/775.1 kB\u001b[0m \u001b[31m1.7 MB/s\u001b[0m eta \u001b[36m0:00:00\u001b[0ma \u001b[36m0:00:01\u001b[0mm\n",
      "\u001b[?25hDownloading safetensors-0.4.3-cp310-cp310-manylinux_2_17_x86_64.manylinux2014_x86_64.whl (1.2 MB)\n",
      "\u001b[2K   \u001b[90m━━━━━━━━━━━━━━━━━━━━━━━━━━━━━━━━━━━━━━━━\u001b[0m \u001b[32m1.2/1.2 MB\u001b[0m \u001b[31m2.9 MB/s\u001b[0m eta \u001b[36m0:00:00\u001b[0mta \u001b[36m0:00:01\u001b[0m\n",
      "\u001b[?25hDownloading tokenizers-0.19.1-cp310-cp310-manylinux_2_17_x86_64.manylinux2014_x86_64.whl (3.6 MB)\n",
      "\u001b[2K   \u001b[90m━━━━━━━━━━━━━━━━━━━━━━━━━━━━━━━━━━━━━━━━\u001b[0m \u001b[32m3.6/3.6 MB\u001b[0m \u001b[31m2.3 MB/s\u001b[0m eta \u001b[36m0:00:00\u001b[0m00:01\u001b[0m00:01\u001b[0mm\n",
      "\u001b[?25hDownloading filelock-3.14.0-py3-none-any.whl (12 kB)\n",
      "Downloading fsspec-2024.5.0-py3-none-any.whl (316 kB)\n",
      "\u001b[2K   \u001b[90m━━━━━━━━━━━━━━━━━━━━━━━━━━━━━━━━━━━━━━━\u001b[0m \u001b[32m316.1/316.1 kB\u001b[0m \u001b[31m763.7 kB/s\u001b[0m eta \u001b[36m0:00:00\u001b[0ma \u001b[36m0:00:01\u001b[0m\n",
      "\u001b[?25hInstalling collected packages: safetensors, regex, fsspec, filelock, huggingface-hub, tokenizers, transformers\n",
      "Successfully installed filelock-3.14.0 fsspec-2024.5.0 huggingface-hub-0.23.0 regex-2024.5.15 safetensors-0.4.3 tokenizers-0.19.1 transformers-4.41.0\n",
      "\u001b[33mWARNING: Running pip as the 'root' user can result in broken permissions and conflicting behaviour with the system package manager. It is recommended to use a virtual environment instead: https://pip.pypa.io/warnings/venv\u001b[0m\u001b[33m\n",
      "\u001b[0mCollecting torch\n",
      "  Using cached torch-2.3.0-cp310-cp310-manylinux1_x86_64.whl.metadata (26 kB)\n",
      "Collecting torchvision\n",
      "  Using cached torchvision-0.18.0-cp310-cp310-manylinux1_x86_64.whl.metadata (6.6 kB)\n",
      "Requirement already satisfied: filelock in /usr/local/lib/python3.10/dist-packages (from torch) (3.14.0)\n",
      "Requirement already satisfied: typing-extensions>=4.8.0 in /usr/local/lib/python3.10/dist-packages (from torch) (4.11.0)\n",
      "Collecting sympy (from torch)\n",
      "  Using cached sympy-1.12-py3-none-any.whl.metadata (12 kB)\n",
      "Collecting networkx (from torch)\n",
      "  Using cached networkx-3.3-py3-none-any.whl.metadata (5.1 kB)\n",
      "Requirement already satisfied: jinja2 in /usr/local/lib/python3.10/dist-packages (from torch) (3.1.3)\n",
      "Requirement already satisfied: fsspec in /usr/local/lib/python3.10/dist-packages (from torch) (2024.5.0)\n",
      "Collecting nvidia-cuda-nvrtc-cu12==12.1.105 (from torch)\n",
      "  Using cached nvidia_cuda_nvrtc_cu12-12.1.105-py3-none-manylinux1_x86_64.whl.metadata (1.5 kB)\n",
      "Collecting nvidia-cuda-runtime-cu12==12.1.105 (from torch)\n",
      "  Using cached nvidia_cuda_runtime_cu12-12.1.105-py3-none-manylinux1_x86_64.whl.metadata (1.5 kB)\n",
      "Collecting nvidia-cuda-cupti-cu12==12.1.105 (from torch)\n",
      "  Using cached nvidia_cuda_cupti_cu12-12.1.105-py3-none-manylinux1_x86_64.whl.metadata (1.6 kB)\n",
      "Collecting nvidia-cudnn-cu12==8.9.2.26 (from torch)\n",
      "  Using cached nvidia_cudnn_cu12-8.9.2.26-py3-none-manylinux1_x86_64.whl.metadata (1.6 kB)\n",
      "Collecting nvidia-cublas-cu12==12.1.3.1 (from torch)\n",
      "  Using cached nvidia_cublas_cu12-12.1.3.1-py3-none-manylinux1_x86_64.whl.metadata (1.5 kB)\n",
      "Collecting nvidia-cufft-cu12==11.0.2.54 (from torch)\n",
      "  Using cached nvidia_cufft_cu12-11.0.2.54-py3-none-manylinux1_x86_64.whl.metadata (1.5 kB)\n",
      "Collecting nvidia-curand-cu12==10.3.2.106 (from torch)\n",
      "  Using cached nvidia_curand_cu12-10.3.2.106-py3-none-manylinux1_x86_64.whl.metadata (1.5 kB)\n",
      "Collecting nvidia-cusolver-cu12==11.4.5.107 (from torch)\n",
      "  Using cached nvidia_cusolver_cu12-11.4.5.107-py3-none-manylinux1_x86_64.whl.metadata (1.6 kB)\n",
      "Collecting nvidia-cusparse-cu12==12.1.0.106 (from torch)\n",
      "  Using cached nvidia_cusparse_cu12-12.1.0.106-py3-none-manylinux1_x86_64.whl.metadata (1.6 kB)\n",
      "Collecting nvidia-nccl-cu12==2.20.5 (from torch)\n",
      "  Using cached nvidia_nccl_cu12-2.20.5-py3-none-manylinux2014_x86_64.whl.metadata (1.8 kB)\n",
      "Collecting nvidia-nvtx-cu12==12.1.105 (from torch)\n",
      "  Using cached nvidia_nvtx_cu12-12.1.105-py3-none-manylinux1_x86_64.whl.metadata (1.7 kB)\n",
      "Collecting triton==2.3.0 (from torch)\n",
      "  Using cached triton-2.3.0-cp310-cp310-manylinux_2_17_x86_64.manylinux2014_x86_64.whl.metadata (1.4 kB)\n",
      "Collecting nvidia-nvjitlink-cu12 (from nvidia-cusolver-cu12==11.4.5.107->torch)\n",
      "  Using cached nvidia_nvjitlink_cu12-12.4.127-py3-none-manylinux2014_x86_64.whl.metadata (1.5 kB)\n",
      "Requirement already satisfied: numpy in /usr/local/lib/python3.10/dist-packages (from torchvision) (1.24.4)\n",
      "Requirement already satisfied: pillow!=8.3.*,>=5.3.0 in /usr/local/lib/python3.10/dist-packages (from torchvision) (10.3.0)\n",
      "Requirement already satisfied: MarkupSafe>=2.0 in /usr/local/lib/python3.10/dist-packages (from jinja2->torch) (2.1.5)\n",
      "Collecting mpmath>=0.19 (from sympy->torch)\n",
      "  Using cached mpmath-1.3.0-py3-none-any.whl.metadata (8.6 kB)\n",
      "Downloading torch-2.3.0-cp310-cp310-manylinux1_x86_64.whl (779.1 MB)\n",
      "\u001b[2K   \u001b[90m━━━━━━━━━━━━━━━━━━━━━━━━━━━━━━━━━━━━━━━━\u001b[0m \u001b[32m779.1/779.1 MB\u001b[0m \u001b[31m5.0 MB/s\u001b[0m eta \u001b[36m0:00:00\u001b[0m00:01\u001b[0mm00:02\u001b[0m\n",
      "\u001b[?25hDownloading nvidia_cublas_cu12-12.1.3.1-py3-none-manylinux1_x86_64.whl (410.6 MB)\n",
      "\u001b[2K   \u001b[90m━━━━━━━━━━━━━━━━━━━━━━━━━━━━━━━━━━━━━━━━\u001b[0m \u001b[32m410.6/410.6 MB\u001b[0m \u001b[31m5.1 MB/s\u001b[0m eta \u001b[36m0:00:00\u001b[0m00:01\u001b[0m00:02\u001b[0mm\n",
      "\u001b[?25hDownloading nvidia_cuda_cupti_cu12-12.1.105-py3-none-manylinux1_x86_64.whl (14.1 MB)\n",
      "\u001b[2K   \u001b[90m━━━━━━━━━━━━━━━━━━━━━━━━━━━━━━━━━━━━━━━━\u001b[0m \u001b[32m14.1/14.1 MB\u001b[0m \u001b[31m5.7 MB/s\u001b[0m eta \u001b[36m0:00:00\u001b[0m00:01\u001b[0m00:01\u001b[0m\n",
      "\u001b[?25hDownloading nvidia_cuda_nvrtc_cu12-12.1.105-py3-none-manylinux1_x86_64.whl (23.7 MB)\n",
      "\u001b[2K   \u001b[90m━━━━━━━━━━━━━━━━━━━━━━━━━━━━━━━━━━━━━━━━\u001b[0m \u001b[32m23.7/23.7 MB\u001b[0m \u001b[31m7.2 MB/s\u001b[0m eta \u001b[36m0:00:00\u001b[0m00:01\u001b[0m00:01\u001b[0mm\n",
      "\u001b[?25hDownloading nvidia_cuda_runtime_cu12-12.1.105-py3-none-manylinux1_x86_64.whl (823 kB)\n",
      "\u001b[2K   \u001b[90m━━━━━━━━━━━━━━━━━━━━━━━━━━━━━━━━━━━━━━━━\u001b[0m \u001b[32m823.6/823.6 kB\u001b[0m \u001b[31m6.8 MB/s\u001b[0m eta \u001b[36m0:00:00\u001b[0m00:01\u001b[0m00:01\u001b[0m\n",
      "\u001b[?25hDownloading nvidia_cudnn_cu12-8.9.2.26-py3-none-manylinux1_x86_64.whl (731.7 MB)\n",
      "\u001b[2K   \u001b[90m━━━━━━━━━━━━━━━━━━━━━━━━━━━━━━━━━━━━━━━━\u001b[0m \u001b[32m731.7/731.7 MB\u001b[0m \u001b[31m4.9 MB/s\u001b[0m eta \u001b[36m0:00:00\u001b[0m00:01\u001b[0m00:03\u001b[0mm\n",
      "\u001b[?25hDownloading nvidia_cufft_cu12-11.0.2.54-py3-none-manylinux1_x86_64.whl (121.6 MB)\n",
      "\u001b[2K   \u001b[90m━━━━━━━━━━━━━━━━━━━━━━━━━━━━━━━━━━━━━━━━\u001b[0m \u001b[32m121.6/121.6 MB\u001b[0m \u001b[31m6.8 MB/s\u001b[0m eta \u001b[36m0:00:00\u001b[0m00:01\u001b[0m00:01\u001b[0mm\n",
      "\u001b[?25hDownloading nvidia_curand_cu12-10.3.2.106-py3-none-manylinux1_x86_64.whl (56.5 MB)\n",
      "\u001b[2K   \u001b[90m━━━━━━━━━━━━━━━━━━━━━━━━━━━━━━━━━━━━━━━━\u001b[0m \u001b[32m56.5/56.5 MB\u001b[0m \u001b[31m9.3 MB/s\u001b[0m eta \u001b[36m0:00:00\u001b[0m:00:01\u001b[0m00:01\u001b[0m\n",
      "\u001b[?25hDownloading nvidia_cusolver_cu12-11.4.5.107-py3-none-manylinux1_x86_64.whl (124.2 MB)\n",
      "\u001b[2K   \u001b[90m━━━━━━━━━━━━━━━━━━━━━━━━━━━━━━━━━━━━━━━━\u001b[0m \u001b[32m124.2/124.2 MB\u001b[0m \u001b[31m6.7 MB/s\u001b[0m eta \u001b[36m0:00:00\u001b[0m00:01\u001b[0m00:01\u001b[0mm\n",
      "\u001b[?25hDownloading nvidia_cusparse_cu12-12.1.0.106-py3-none-manylinux1_x86_64.whl (196.0 MB)\n",
      "\u001b[2K   \u001b[90m━━━━━━━━━━━━━━━━━━━━━━━━━━━━━━━━━━━━━━━━\u001b[0m \u001b[32m196.0/196.0 MB\u001b[0m \u001b[31m4.5 MB/s\u001b[0m eta \u001b[36m0:00:00\u001b[0m00:01\u001b[0m00:02\u001b[0mm\n",
      "\u001b[?25hDownloading nvidia_nccl_cu12-2.20.5-py3-none-manylinux2014_x86_64.whl (176.2 MB)\n",
      "\u001b[2K   \u001b[90m━━━━━━━━━━━━━━━━━━━━━━━━━━━━━━━━━━━━━━━━\u001b[0m \u001b[32m176.2/176.2 MB\u001b[0m \u001b[31m3.9 MB/s\u001b[0m eta \u001b[36m0:00:00\u001b[0m00:01\u001b[0m00:02\u001b[0mm\n",
      "\u001b[?25hDownloading nvidia_nvtx_cu12-12.1.105-py3-none-manylinux1_x86_64.whl (99 kB)\n",
      "\u001b[2K   \u001b[90m━━━━━━━━━━━━━━━━━━━━━━━━━━━━━━━━━━━━━━━━\u001b[0m \u001b[32m99.1/99.1 kB\u001b[0m \u001b[31m2.9 MB/s\u001b[0m eta \u001b[36m0:00:00\u001b[0m\n",
      "\u001b[?25hDownloading triton-2.3.0-cp310-cp310-manylinux_2_17_x86_64.manylinux2014_x86_64.whl (168.1 MB)\n",
      "\u001b[2K   \u001b[90m━━━━━━━━━━━━━━━━━━━━━━━━━━━━━━━━━━━━━━━━\u001b[0m \u001b[32m168.1/168.1 MB\u001b[0m \u001b[31m4.0 MB/s\u001b[0m eta \u001b[36m0:00:00\u001b[0m00:01\u001b[0m00:01\u001b[0mm\n",
      "\u001b[?25hDownloading torchvision-0.18.0-cp310-cp310-manylinux1_x86_64.whl (7.0 MB)\n",
      "\u001b[2K   \u001b[90m━━━━━━━━━━━━━━━━━━━━━━━━━━━━━━━━━━━━━━━━\u001b[0m \u001b[32m7.0/7.0 MB\u001b[0m \u001b[31m4.9 MB/s\u001b[0m eta \u001b[36m0:00:00\u001b[0m00:01\u001b[0m00:01\u001b[0m\n",
      "\u001b[?25hDownloading networkx-3.3-py3-none-any.whl (1.7 MB)\n",
      "\u001b[2K   \u001b[90m━━━━━━━━━━━━━━━━━━━━━━━━━━━━━━━━━━━━━━━━\u001b[0m \u001b[32m1.7/1.7 MB\u001b[0m \u001b[31m3.3 MB/s\u001b[0m eta \u001b[36m0:00:00\u001b[0m00:01\u001b[0m00:01\u001b[0m\n",
      "\u001b[?25hDownloading sympy-1.12-py3-none-any.whl (5.7 MB)\n",
      "\u001b[2K   \u001b[90m━━━━━━━━━━━━━━━━━━━━━━━━━━━━━━━━━━━━━━━━\u001b[0m \u001b[32m5.7/5.7 MB\u001b[0m \u001b[31m4.6 MB/s\u001b[0m eta \u001b[36m0:00:00\u001b[0m00:01\u001b[0m00:01\u001b[0m\n",
      "\u001b[?25hDownloading mpmath-1.3.0-py3-none-any.whl (536 kB)\n",
      "\u001b[2K   \u001b[90m━━━━━━━━━━━━━━━━━━━━━━━━━━━━━━━━━━━━━━━━\u001b[0m \u001b[32m536.2/536.2 kB\u001b[0m \u001b[31m5.0 MB/s\u001b[0m eta \u001b[36m0:00:00\u001b[0m00:01\u001b[0m00:01\u001b[0m\n",
      "\u001b[?25hDownloading nvidia_nvjitlink_cu12-12.4.127-py3-none-manylinux2014_x86_64.whl (21.1 MB)\n",
      "\u001b[2K   \u001b[90m━━━━━━━━━━━━━━━━━━━━━━━━━━━━━━━━━━━━━━━━\u001b[0m \u001b[32m21.1/21.1 MB\u001b[0m \u001b[31m6.6 MB/s\u001b[0m eta \u001b[36m0:00:00\u001b[0m00:01\u001b[0m00:01\u001b[0m\n",
      "\u001b[?25hInstalling collected packages: mpmath, triton, sympy, nvidia-nvtx-cu12, nvidia-nvjitlink-cu12, nvidia-nccl-cu12, nvidia-curand-cu12, nvidia-cufft-cu12, nvidia-cuda-runtime-cu12, nvidia-cuda-nvrtc-cu12, nvidia-cuda-cupti-cu12, nvidia-cublas-cu12, networkx, nvidia-cusparse-cu12, nvidia-cudnn-cu12, nvidia-cusolver-cu12, torch, torchvision\n",
      "Successfully installed mpmath-1.3.0 networkx-3.3 nvidia-cublas-cu12-12.1.3.1 nvidia-cuda-cupti-cu12-12.1.105 nvidia-cuda-nvrtc-cu12-12.1.105 nvidia-cuda-runtime-cu12-12.1.105 nvidia-cudnn-cu12-8.9.2.26 nvidia-cufft-cu12-11.0.2.54 nvidia-curand-cu12-10.3.2.106 nvidia-cusolver-cu12-11.4.5.107 nvidia-cusparse-cu12-12.1.0.106 nvidia-nccl-cu12-2.20.5 nvidia-nvjitlink-cu12-12.4.127 nvidia-nvtx-cu12-12.1.105 sympy-1.12 torch-2.3.0 torchvision-0.18.0 triton-2.3.0\n",
      "\u001b[33mWARNING: Running pip as the 'root' user can result in broken permissions and conflicting behaviour with the system package manager. It is recommended to use a virtual environment instead: https://pip.pypa.io/warnings/venv\u001b[0m\u001b[33m\n",
      "\u001b[0mRequirement already satisfied: sentencepiece in /usr/local/lib/python3.10/dist-packages (0.2.0)\n",
      "\u001b[33mWARNING: Running pip as the 'root' user can result in broken permissions and conflicting behaviour with the system package manager. It is recommended to use a virtual environment instead: https://pip.pypa.io/warnings/venv\u001b[0m\u001b[33m\n",
      "\u001b[0m"
     ]
    }
   ],
   "source": [
    "!pip install transformers\n",
    "!pip install torch torchvision \n",
    "!pip install sentencepiece"
   ]
  },
  {
   "cell_type": "code",
   "execution_count": 4,
   "id": "798d91b6-eee0-42ef-a7e9-a7c3950cd3f8",
   "metadata": {
    "execution": {
     "iopub.execute_input": "2024-05-20T02:48:06.457517Z",
     "iopub.status.busy": "2024-05-20T02:48:06.456923Z",
     "iopub.status.idle": "2024-05-20T02:48:08.951208Z",
     "shell.execute_reply": "2024-05-20T02:48:08.950543Z",
     "shell.execute_reply.started": "2024-05-20T02:48:06.457477Z"
    },
    "tags": []
   },
   "outputs": [],
   "source": [
    "from transformers import T5Tokenizer, T5Model\n",
    "import torch\n",
    "from sklearn.metrics.pairwise import cosine_similarity\n",
    "\n",
    "def get_vector(tokenizer, model, device):\n",
    "    def get_t5_vector(line):\n",
    "        input_ids = tokenizer.encode(line, return_tensors='pt', max_length=512, truncation=True).to(device)\n",
    "        with torch.no_grad():\n",
    "            outputs = model.encoder(input_ids=input_ids)\n",
    "            vector = outputs.last_hidden_state.mean(dim=1)\n",
    "        return vector[0].reshape(1, -1)\n",
    "    return get_t5_vector\n",
    "\n",
    "positive_text = \"\"\"Wanted to save some to bring to my Chicago family but my North Carolina family ate all 4 boxes before I could pack. These are excellent...could serve to anyone\"\"\"\n",
    "negative_text = \"\"\"First, these should be called Mac - Coconut bars, as Coconut is the #2 ingredient and Mango is #3.  Second, lots of people don't like coconut.  I happen to be allergic to it.  Word to Amazon that if you want happy customers to make things like this more prominent.  Thanks.\"\"\"\n",
    "\n",
    "def get_sore(positive_review, negative_review):\n",
    "    # 支持CPU、CUDA\n",
    "    positive_review = positive_review.cpu()\n",
    "    negative_review = negative_review.cpu()\n",
    "    def cos_sore(sample_embedding):\n",
    "        sample_embedding = sample_embedding.cpu()\n",
    "        res = cosine_similarity(sample_embedding, positive_review) - cosine_similarity(sample_embedding, negative_review)\n",
    "        return res[0][0]\n",
    "    return cos_sore"
   ]
  },
  {
   "cell_type": "code",
   "execution_count": 5,
   "id": "b2037641-1aaf-4128-98ac-7290bcd199d2",
   "metadata": {
    "execution": {
     "iopub.execute_input": "2024-05-20T02:48:08.952485Z",
     "iopub.status.busy": "2024-05-20T02:48:08.952219Z",
     "iopub.status.idle": "2024-05-20T02:48:51.198782Z",
     "shell.execute_reply": "2024-05-20T02:48:51.197670Z",
     "shell.execute_reply.started": "2024-05-20T02:48:08.952465Z"
    },
    "tags": []
   },
   "outputs": [
    {
     "data": {
      "application/vnd.jupyter.widget-view+json": {
       "model_id": "5d4c495311d249789e391f3a064c8f57",
       "version_major": 2,
       "version_minor": 0
      },
      "text/plain": [
       "tokenizer_config.json:   0%|          | 0.00/2.32k [00:00<?, ?B/s]"
      ]
     },
     "metadata": {},
     "output_type": "display_data"
    },
    {
     "data": {
      "application/vnd.jupyter.widget-view+json": {
       "model_id": "e39770f6df584b6ab35460d46ae36019",
       "version_major": 2,
       "version_minor": 0
      },
      "text/plain": [
       "spiece.model:   0%|          | 0.00/792k [00:00<?, ?B/s]"
      ]
     },
     "metadata": {},
     "output_type": "display_data"
    },
    {
     "data": {
      "application/vnd.jupyter.widget-view+json": {
       "model_id": "5a164de9911947f5a312acfe2cc35992",
       "version_major": 2,
       "version_minor": 0
      },
      "text/plain": [
       "tokenizer.json:   0%|          | 0.00/1.39M [00:00<?, ?B/s]"
      ]
     },
     "metadata": {},
     "output_type": "display_data"
    },
    {
     "name": "stderr",
     "output_type": "stream",
     "text": [
      "You are using the default legacy behaviour of the <class 'transformers.models.t5.tokenization_t5.T5Tokenizer'>. This is expected, and simply means that the `legacy` (previous) behavior will be used so nothing changes for you. If you want to use the new behaviour, set `legacy=False`. This should only be set if you understand what it means, and thoroughly read the reason why this was added as explained in https://github.com/huggingface/transformers/pull/24565\n",
      "Special tokens have been added in the vocabulary, make sure the associated word embeddings are fine-tuned or trained.\n"
     ]
    },
    {
     "data": {
      "application/vnd.jupyter.widget-view+json": {
       "model_id": "d78bbb4e228d48ccb1e7f071da6777e1",
       "version_major": 2,
       "version_minor": 0
      },
      "text/plain": [
       "config.json:   0%|          | 0.00/1.21k [00:00<?, ?B/s]"
      ]
     },
     "metadata": {},
     "output_type": "display_data"
    },
    {
     "data": {
      "application/vnd.jupyter.widget-view+json": {
       "model_id": "bdb8f19fe82e4dc190322330cac4b229",
       "version_major": 2,
       "version_minor": 0
      },
      "text/plain": [
       "model.safetensors:   0%|          | 0.00/242M [00:00<?, ?B/s]"
      ]
     },
     "metadata": {},
     "output_type": "display_data"
    },
    {
     "name": "stdout",
     "output_type": "stream",
     "text": [
      "t5-small 加载完成\n"
     ]
    }
   ],
   "source": [
    "tokenizer = T5Tokenizer.from_pretrained('t5-small', model_max_length=512)\n",
    "model = T5Model.from_pretrained('t5-small')\n",
    "\n",
    "# set the model to evaluation mode\n",
    "model.eval()\n",
    "\n",
    "print(\"t5-small 加载完成\")\n",
    "\n",
    "device = torch.device('cpu')\n",
    "get_t5_vector = get_vector(tokenizer, model,device)\n",
    "\n",
    "positive_review_in_t5 = get_t5_vector('An Amazon review with a positive sentiment.')\n",
    "negative_review_in_t5 = get_t5_vector('An Amazon review with a negative sentiment.')\n",
    "\n",
    "get_t5_sore = get_sore(positive_review_in_t5, negative_review_in_t5)"
   ]
  },
  {
   "cell_type": "code",
   "execution_count": 6,
   "id": "f7bffcde-0c79-4f85-a9f3-66b3838bc043",
   "metadata": {
    "execution": {
     "iopub.execute_input": "2024-05-20T02:48:51.200264Z",
     "iopub.status.busy": "2024-05-20T02:48:51.199826Z",
     "iopub.status.idle": "2024-05-20T02:48:51.259305Z",
     "shell.execute_reply": "2024-05-20T02:48:51.258220Z",
     "shell.execute_reply.started": "2024-05-20T02:48:51.200235Z"
    },
    "tags": []
   },
   "outputs": [
    {
     "name": "stdout",
     "output_type": "stream",
     "text": [
      "T5好评例子的评分： -0.010294\n",
      "T5差评例子的评分： -0.008990\n"
     ]
    }
   ],
   "source": [
    "positive_example_in_t5 = get_t5_vector(positive_text)\n",
    "negative_example_in_t5 = get_t5_vector(negative_text)\n",
    "\n",
    "print(\"T5好评例子的评分： %f\" % get_t5_sore(positive_example_in_t5))\n",
    "print(\"T5差评例子的评分： %f\" % get_t5_sore(negative_example_in_t5))"
   ]
  },
  {
   "cell_type": "code",
   "execution_count": 7,
   "id": "71100eba-1d4b-4f94-acea-7300b2ed7ae2",
   "metadata": {
    "execution": {
     "iopub.execute_input": "2024-05-20T02:48:51.261846Z",
     "iopub.status.busy": "2024-05-20T02:48:51.261509Z",
     "iopub.status.idle": "2024-05-20T02:48:53.674958Z",
     "shell.execute_reply": "2024-05-20T02:48:53.674149Z",
     "shell.execute_reply.started": "2024-05-20T02:48:51.261816Z"
    },
    "tags": []
   },
   "outputs": [
    {
     "name": "stderr",
     "output_type": "stream",
     "text": [
      "Special tokens have been added in the vocabulary, make sure the associated word embeddings are fine-tuned or trained.\n"
     ]
    },
    {
     "name": "stdout",
     "output_type": "stream",
     "text": [
      "t5-small 加载完成\n"
     ]
    }
   ],
   "source": [
    "# GPU\n",
    "tokenizer = T5Tokenizer.from_pretrained('t5-small', model_max_length=512)\n",
    "device = torch.device('cuda')\n",
    "model = T5Model.from_pretrained('t5-small').to(device)\n",
    "\n",
    "# set the model to evaluation mode\n",
    "model.eval()\n",
    "\n",
    "print(\"t5-small 加载完成\")\n",
    "\n",
    "get_t5_vector = get_vector(tokenizer, model,device)\n",
    "\n",
    "positive_review_in_t5 = get_t5_vector('An Amazon review with a positive sentiment.')\n",
    "negative_review_in_t5 = get_t5_vector('An Amazon review with a negative sentiment.')\n",
    "\n",
    "get_t5_sore = get_sore(positive_review_in_t5, negative_review_in_t5)\n"
   ]
  },
  {
   "cell_type": "code",
   "execution_count": 8,
   "id": "af4c1458-23b4-4554-b281-7470fea31d59",
   "metadata": {
    "execution": {
     "iopub.execute_input": "2024-05-20T02:48:53.676681Z",
     "iopub.status.busy": "2024-05-20T02:48:53.676383Z",
     "iopub.status.idle": "2024-05-20T02:48:53.701102Z",
     "shell.execute_reply": "2024-05-20T02:48:53.699801Z",
     "shell.execute_reply.started": "2024-05-20T02:48:53.676656Z"
    },
    "tags": []
   },
   "outputs": [
    {
     "name": "stdout",
     "output_type": "stream",
     "text": [
      "T5好评例子的评分： -0.010294\n",
      "T5差评例子的评分： -0.008990\n"
     ]
    }
   ],
   "source": [
    "positive_example_in_t5 = get_t5_vector(positive_text)\n",
    "negative_example_in_t5 = get_t5_vector(negative_text)\n",
    "\n",
    "print(\"T5好评例子的评分： %f\" % get_t5_sore(positive_example_in_t5))\n",
    "print(\"T5差评例子的评分： %f\" % get_t5_sore(negative_example_in_t5))"
   ]
  },
  {
   "cell_type": "code",
   "execution_count": 9,
   "id": "2d9a1993-2317-4c03-938b-8d943041cce0",
   "metadata": {
    "execution": {
     "iopub.execute_input": "2024-05-20T02:48:53.702516Z",
     "iopub.status.busy": "2024-05-20T02:48:53.702242Z",
     "iopub.status.idle": "2024-05-20T02:52:01.298805Z",
     "shell.execute_reply": "2024-05-20T02:52:01.297933Z",
     "shell.execute_reply.started": "2024-05-20T02:48:53.702492Z"
    },
    "tags": []
   },
   "outputs": [
    {
     "data": {
      "application/vnd.jupyter.widget-view+json": {
       "model_id": "6747b76814194a20b16c574ac3feaf00",
       "version_major": 2,
       "version_minor": 0
      },
      "text/plain": [
       "spiece.model:   0%|          | 0.00/792k [00:00<?, ?B/s]"
      ]
     },
     "metadata": {},
     "output_type": "display_data"
    },
    {
     "data": {
      "application/vnd.jupyter.widget-view+json": {
       "model_id": "c189b763bab1496ea8757c6b83c23a9f",
       "version_major": 2,
       "version_minor": 0
      },
      "text/plain": [
       "tokenizer.json:   0%|          | 0.00/1.39M [00:00<?, ?B/s]"
      ]
     },
     "metadata": {},
     "output_type": "display_data"
    },
    {
     "name": "stderr",
     "output_type": "stream",
     "text": [
      "/usr/local/lib/python3.10/dist-packages/huggingface_hub/file_download.py:1132: FutureWarning: `resume_download` is deprecated and will be removed in version 1.0.0. Downloads always resume when possible. If you want to force a new download, use `force_download=True`.\n",
      "  warnings.warn(\n"
     ]
    },
    {
     "data": {
      "application/vnd.jupyter.widget-view+json": {
       "model_id": "42b0dc8faa17433d83f28cc45f009850",
       "version_major": 2,
       "version_minor": 0
      },
      "text/plain": [
       "config.json:   0%|          | 0.00/1.21k [00:00<?, ?B/s]"
      ]
     },
     "metadata": {},
     "output_type": "display_data"
    },
    {
     "name": "stderr",
     "output_type": "stream",
     "text": [
      "Special tokens have been added in the vocabulary, make sure the associated word embeddings are fine-tuned or trained.\n"
     ]
    },
    {
     "data": {
      "application/vnd.jupyter.widget-view+json": {
       "model_id": "8754bb3a047447f1ad5cbdcb767a9371",
       "version_major": 2,
       "version_minor": 0
      },
      "text/plain": [
       "model.safetensors:   0%|          | 0.00/892M [00:00<?, ?B/s]"
      ]
     },
     "metadata": {},
     "output_type": "display_data"
    },
    {
     "name": "stdout",
     "output_type": "stream",
     "text": [
      "t5-base 加载完成\n"
     ]
    }
   ],
   "source": [
    "tokenizer = T5Tokenizer.from_pretrained('t5-base', model_max_length=512)\n",
    "device = torch.device('cuda' if torch.cuda.is_available() else 'cpu')\n",
    "\n",
    "model = T5Model.from_pretrained('t5-base').to(device)\n",
    "\n",
    "model.eval()\n",
    "\n",
    "print(\"t5-base 加载完成\")"
   ]
  },
  {
   "cell_type": "code",
   "execution_count": 10,
   "id": "84cf1c5e-c86b-426e-b880-bd645753b348",
   "metadata": {
    "execution": {
     "iopub.execute_input": "2024-05-20T02:52:01.300298Z",
     "iopub.status.busy": "2024-05-20T02:52:01.299869Z",
     "iopub.status.idle": "2024-05-20T02:52:01.343485Z",
     "shell.execute_reply": "2024-05-20T02:52:01.342472Z",
     "shell.execute_reply.started": "2024-05-20T02:52:01.300271Z"
    },
    "tags": []
   },
   "outputs": [],
   "source": [
    "get_t5_vector = get_vector(tokenizer, model,device)\n",
    "\n",
    "positive_review_in_t5 = get_t5_vector('An Amazon review with a positive sentiment.')\n",
    "negative_review_in_t5 = get_t5_vector('An Amazon review with a negative sentiment.')\n",
    "\n",
    "get_t5_sore = get_sore(positive_review_in_t5, negative_review_in_t5)"
   ]
  },
  {
   "cell_type": "code",
   "execution_count": 11,
   "id": "40204702-ec4d-4e1a-8171-3d549215fd95",
   "metadata": {
    "execution": {
     "iopub.execute_input": "2024-05-20T02:52:01.344890Z",
     "iopub.status.busy": "2024-05-20T02:52:01.344619Z",
     "iopub.status.idle": "2024-05-20T02:52:01.405071Z",
     "shell.execute_reply": "2024-05-20T02:52:01.403844Z",
     "shell.execute_reply.started": "2024-05-20T02:52:01.344865Z"
    },
    "tags": []
   },
   "outputs": [
    {
     "name": "stdout",
     "output_type": "stream",
     "text": [
      "T5好评例子的评分： 0.010347\n",
      "T5差评例子的评分： -0.023935\n"
     ]
    }
   ],
   "source": [
    "positive_example_in_t5 = get_t5_vector(positive_text)\n",
    "negative_example_in_t5 = get_t5_vector(negative_text)\n",
    "\n",
    "print(\"T5好评例子的评分： %f\" % get_t5_sore(positive_example_in_t5))\n",
    "print(\"T5差评例子的评分： %f\" % get_t5_sore(negative_example_in_t5))"
   ]
  },
  {
   "cell_type": "code",
   "execution_count": 12,
   "id": "7c6a2b3e-ed71-446c-9e58-1985e3c3a0df",
   "metadata": {
    "execution": {
     "iopub.execute_input": "2024-05-20T02:52:01.407917Z",
     "iopub.status.busy": "2024-05-20T02:52:01.406836Z",
     "iopub.status.idle": "2024-05-20T02:52:05.989917Z",
     "shell.execute_reply": "2024-05-20T02:52:05.988872Z",
     "shell.execute_reply.started": "2024-05-20T02:52:01.407851Z"
    },
    "tags": []
   },
   "outputs": [
    {
     "name": "stdout",
     "output_type": "stream",
     "text": [
      "Requirement already satisfied: pandas in /usr/local/lib/python3.10/dist-packages (2.2.2)\n",
      "Requirement already satisfied: numpy>=1.22.4 in /usr/local/lib/python3.10/dist-packages (from pandas) (1.24.4)\n",
      "Requirement already satisfied: python-dateutil>=2.8.2 in /usr/local/lib/python3.10/dist-packages (from pandas) (2.9.0.post0)\n",
      "Requirement already satisfied: pytz>=2020.1 in /usr/local/lib/python3.10/dist-packages (from pandas) (2024.1)\n",
      "Requirement already satisfied: tzdata>=2022.7 in /usr/local/lib/python3.10/dist-packages (from pandas) (2024.1)\n",
      "Requirement already satisfied: six>=1.5 in /usr/local/lib/python3.10/dist-packages (from python-dateutil>=2.8.2->pandas) (1.16.0)\n",
      "\u001b[33mWARNING: Running pip as the 'root' user can result in broken permissions and conflicting behaviour with the system package manager. It is recommended to use a virtual environment instead: https://pip.pypa.io/warnings/venv\u001b[0m\u001b[33m\n",
      "\u001b[0mRequirement already satisfied: matplotlib in /usr/local/lib/python3.10/dist-packages (3.9.0)\n",
      "Requirement already satisfied: contourpy>=1.0.1 in /usr/local/lib/python3.10/dist-packages (from matplotlib) (1.2.1)\n",
      "Requirement already satisfied: cycler>=0.10 in /usr/local/lib/python3.10/dist-packages (from matplotlib) (0.12.1)\n",
      "Requirement already satisfied: fonttools>=4.22.0 in /usr/local/lib/python3.10/dist-packages (from matplotlib) (4.51.0)\n",
      "Requirement already satisfied: kiwisolver>=1.3.1 in /usr/local/lib/python3.10/dist-packages (from matplotlib) (1.4.5)\n",
      "Requirement already satisfied: numpy>=1.23 in /usr/local/lib/python3.10/dist-packages (from matplotlib) (1.24.4)\n",
      "Requirement already satisfied: packaging>=20.0 in /usr/local/lib/python3.10/dist-packages (from matplotlib) (24.0)\n",
      "Requirement already satisfied: pillow>=8 in /usr/local/lib/python3.10/dist-packages (from matplotlib) (10.3.0)\n",
      "Requirement already satisfied: pyparsing>=2.3.1 in /usr/local/lib/python3.10/dist-packages (from matplotlib) (3.1.2)\n",
      "Requirement already satisfied: python-dateutil>=2.7 in /usr/local/lib/python3.10/dist-packages (from matplotlib) (2.9.0.post0)\n",
      "Requirement already satisfied: six>=1.5 in /usr/local/lib/python3.10/dist-packages (from python-dateutil>=2.7->matplotlib) (1.16.0)\n",
      "\u001b[33mWARNING: Running pip as the 'root' user can result in broken permissions and conflicting behaviour with the system package manager. It is recommended to use a virtual environment instead: https://pip.pypa.io/warnings/venv\u001b[0m\u001b[33m\n",
      "\u001b[0m"
     ]
    }
   ],
   "source": [
    "!pip install pandas\n",
    "!pip install matplotlib"
   ]
  },
  {
   "cell_type": "code",
   "execution_count": 13,
   "id": "37c49370-134d-44b0-828a-4eb24bd2c8c1",
   "metadata": {
    "execution": {
     "iopub.execute_input": "2024-05-20T02:52:05.991770Z",
     "iopub.status.busy": "2024-05-20T02:52:05.990965Z",
     "iopub.status.idle": "2024-05-20T02:52:30.603731Z",
     "shell.execute_reply": "2024-05-20T02:52:30.602719Z",
     "shell.execute_reply.started": "2024-05-20T02:52:05.991719Z"
    },
    "scrolled": true,
    "tags": []
   },
   "outputs": [
    {
     "name": "stdout",
     "output_type": "stream",
     "text": [
      "   Unnamed: 0   ProductId          UserId  Score  \\\n",
      "0           0  B003XPF9BO  A3R7JR3FMEBXQB      5   \n",
      "1         297  B003VXHGPK  A21VWSCGW7UUAR      4   \n",
      "2         296  B008JKTTUA  A34XBAIFT02B60      1   \n",
      "3         295  B000LKTTTW  A14MQ40CCU8B13      5   \n",
      "4         294  B001D09KAM  A34XBAIFT02B60      1   \n",
      "\n",
      "                                             Summary  \\\n",
      "0  where does one  start...and stop... with a tre...   \n",
      "1                   Good, but not Wolfgang Puck good   \n",
      "2  Should advertise coconut as an ingredient more...   \n",
      "3                                   Best tomato soup   \n",
      "4  Should advertise coconut as an ingredient more...   \n",
      "\n",
      "                                                Text  \\\n",
      "0  Wanted to save some to bring to my Chicago fam...   \n",
      "1  Honestly, I have to admit that I expected a li...   \n",
      "2  First, these should be called Mac - Coconut ba...   \n",
      "3  I have a hard time finding packaged food of an...   \n",
      "4  First, these should be called Mac - Coconut ba...   \n",
      "\n",
      "                                            combined  n_tokens  \\\n",
      "0  Title: where does one  start...and stop... wit...        52   \n",
      "1  Title: Good, but not Wolfgang Puck good; Conte...       178   \n",
      "2  Title: Should advertise coconut as an ingredie...        78   \n",
      "3  Title: Best tomato soup; Content: I have a har...       111   \n",
      "4  Title: Should advertise coconut as an ingredie...        78   \n",
      "\n",
      "                                           embedding  \n",
      "0  [0.007018072064965963, -0.02731654793024063, 0...  \n",
      "1  [-0.003140551969408989, -0.009995664469897747,...  \n",
      "2  [-0.01757248118519783, -8.266511576948687e-05,...  \n",
      "3  [-0.0013932279543951154, -0.011112828738987446...  \n",
      "4  [-0.01757248118519783, -8.266511576948687e-05,...  \n",
      "   Unnamed: 0   ProductId          UserId  Score  \\\n",
      "0           0  B003XPF9BO  A3R7JR3FMEBXQB      5   \n",
      "1         297  B003VXHGPK  A21VWSCGW7UUAR      4   \n",
      "2         296  B008JKTTUA  A34XBAIFT02B60      1   \n",
      "3         295  B000LKTTTW  A14MQ40CCU8B13      5   \n",
      "4         294  B001D09KAM  A34XBAIFT02B60      1   \n",
      "\n",
      "                                             Summary  \\\n",
      "0  where does one  start...and stop... with a tre...   \n",
      "1                   Good, but not Wolfgang Puck good   \n",
      "2  Should advertise coconut as an ingredient more...   \n",
      "3                                   Best tomato soup   \n",
      "4  Should advertise coconut as an ingredient more...   \n",
      "\n",
      "                                                Text  \\\n",
      "0  Wanted to save some to bring to my Chicago fam...   \n",
      "1  Honestly, I have to admit that I expected a li...   \n",
      "2  First, these should be called Mac - Coconut ba...   \n",
      "3  I have a hard time finding packaged food of an...   \n",
      "4  First, these should be called Mac - Coconut ba...   \n",
      "\n",
      "                                            combined  n_tokens  \\\n",
      "0  Title: where does one  start...and stop... wit...        52   \n",
      "1  Title: Good, but not Wolfgang Puck good; Conte...       178   \n",
      "2  Title: Should advertise coconut as an ingredie...        78   \n",
      "3  Title: Best tomato soup; Content: I have a har...       111   \n",
      "4  Title: Should advertise coconut as an ingredie...        78   \n",
      "\n",
      "                                           embedding  \\\n",
      "0  [0.007018072064965963, -0.02731654793024063, 0...   \n",
      "1  [-0.003140551969408989, -0.009995664469897747,...   \n",
      "2  [-0.01757248118519783, -8.266511576948687e-05,...   \n",
      "3  [-0.0013932279543951154, -0.011112828738987446...   \n",
      "4  [-0.01757248118519783, -8.266511576948687e-05,...   \n",
      "\n",
      "                                        t5_embedding sentiment  \n",
      "0  [[tensor(-0.0075, device='cuda:0'), tensor(0.0...  positive  \n",
      "1  [[tensor(-0.0692, device='cuda:0'), tensor(-0....  positive  \n",
      "2  [[tensor(-0.0848, device='cuda:0'), tensor(-0....  negative  \n",
      "3  [[tensor(-0.0831, device='cuda:0'), tensor(-0....  positive  \n",
      "4  [[tensor(-0.0848, device='cuda:0'), tensor(-0....  negative  \n"
     ]
    }
   ],
   "source": [
    "import pandas as pd\n",
    "from sklearn.metrics import classification_report\n",
    "\n",
    "datafile_path = f'data/fine_food_reviews_with_embeddings_1k.csv'\n",
    "\n",
    "df = pd.read_csv(datafile_path)\n",
    "\n",
    "print(df.head())\n",
    "\n",
    "df['t5_embedding'] = df.Text.apply(get_t5_vector)\n",
    "\n",
    "df = df[df.Score != 3]\n",
    "\n",
    "df['sentiment'] = df.Score.replace({1: \"negative\", 2: \"negative\", 4: \"positive\", 5: \"positive\"})\n",
    "\n",
    "print(df.head())"
   ]
  },
  {
   "cell_type": "code",
   "execution_count": 14,
   "id": "e94fcc8a-933d-423c-b03c-42f65b3e2334",
   "metadata": {
    "execution": {
     "iopub.execute_input": "2024-05-20T02:52:30.605156Z",
     "iopub.status.busy": "2024-05-20T02:52:30.604815Z",
     "iopub.status.idle": "2024-05-20T02:52:32.118814Z",
     "shell.execute_reply": "2024-05-20T02:52:32.117365Z",
     "shell.execute_reply.started": "2024-05-20T02:52:30.605122Z"
    },
    "tags": []
   },
   "outputs": [
    {
     "name": "stdout",
     "output_type": "stream",
     "text": [
      "              precision    recall  f1-score   support\n",
      "\n",
      "    negative       0.60      0.90      0.72       136\n",
      "    positive       0.98      0.90      0.94       789\n",
      "\n",
      "    accuracy                           0.90       925\n",
      "   macro avg       0.79      0.90      0.83       925\n",
      "weighted avg       0.93      0.90      0.91       925\n",
      "\n"
     ]
    },
    {
     "data": {
      "image/png": "[encoded data removed]",
      "text/plain": [
       "<Figure size 640x480 with 1 Axes>"
      ]
     },
     "metadata": {},
     "output_type": "display_data"
    }
   ],
   "source": [
    "from sklearn.metrics import PrecisionRecallDisplay\n",
    "\n",
    "def evaluate_embeddings_approach():\n",
    "    probas = df['t5_embedding'].apply(lambda x: get_t5_sore(x))\n",
    "    preds = probas.apply(lambda x: 'positive' if x>0 else 'negative')\n",
    "    \n",
    "    report = classification_report(df.sentiment, preds)\n",
    "    print(report)\n",
    "    \n",
    "    display = PrecisionRecallDisplay.from_predictions(df.sentiment, probas, pos_label='positive')\n",
    "    _ = display.ax_.set_title(\"2-class Precision-Recall curve\")\n",
    "    \n",
    "evaluate_embeddings_approach()"
   ]
  },
  {
   "cell_type": "code",
   "execution_count": 15,
   "id": "a86232df-493d-4239-a957-470ac27664ac",
   "metadata": {
    "execution": {
     "iopub.execute_input": "2024-05-20T02:52:32.120947Z",
     "iopub.status.busy": "2024-05-20T02:52:32.120211Z",
     "iopub.status.idle": "2024-05-20T02:52:32.881781Z",
     "shell.execute_reply": "2024-05-20T02:52:32.880625Z",
     "shell.execute_reply.started": "2024-05-20T02:52:32.120905Z"
    },
    "scrolled": true,
    "tags": []
   },
   "outputs": [
    {
     "name": "stdout",
     "output_type": "stream",
     "text": [
      "Package                        Version\n",
      "------------------------------ --------------\n",
      "aiofiles                       22.1.0\n",
      "aiosqlite                      0.20.0\n",
      "annotated-types                0.6.0\n",
      "anyio                          4.3.0\n",
      "argon2-cffi                    23.1.0\n",
      "argon2-cffi-bindings           21.2.0\n",
      "arrow                          1.3.0\n",
      "astroid                        3.1.0\n",
      "asttokens                      2.4.1\n",
      "attrs                          23.2.0\n",
      "autopep8                       2.0.4\n",
      "Babel                          2.14.0\n",
      "beautifulsoup4                 4.12.3\n",
      "bleach                         6.1.0\n",
      "certifi                        2024.2.2\n",
      "cffi                           1.16.0\n",
      "charset-normalizer             3.3.2\n",
      "comm                           0.2.2\n",
      "contourpy                      1.2.1\n",
      "cycler                         0.12.1\n",
      "debugpy                        1.8.1\n",
      "decorator                      5.1.1\n",
      "defusedxml                     0.7.1\n",
      "dill                           0.3.8\n",
      "distro                         1.9.0\n",
      "docstring-to-markdown          0.15\n",
      "entrypoints                    0.4\n",
      "exceptiongroup                 1.2.0\n",
      "executing                      2.0.1\n",
      "fastjsonschema                 2.19.1\n",
      "fasttext                       0.9.2\n",
      "filelock                       3.14.0\n",
      "flake8                         7.0.0\n",
      "fonttools                      4.51.0\n",
      "fqdn                           1.5.1\n",
      "fsspec                         2024.5.0\n",
      "gensim                         4.3.2\n",
      "h11                            0.14.0\n",
      "httpcore                       1.0.5\n",
      "httpx                          0.27.0\n",
      "huggingface-hub                0.23.0\n",
      "idna                           3.6\n",
      "importlib_metadata             7.1.0\n",
      "ipykernel                      6.29.4\n",
      "ipython                        8.23.0\n",
      "ipython-genutils               0.2.0\n",
      "ipywidgets                     8.1.2\n",
      "isoduration                    20.11.0\n",
      "isort                          5.13.2\n",
      "jedi                           0.19.1\n",
      "Jinja2                         3.1.3\n",
      "joblib                         1.4.2\n",
      "json5                          0.9.24\n",
      "jsonpointer                    2.4\n",
      "jsonschema                     4.21.1\n",
      "jsonschema-specifications      2023.12.1\n",
      "jupyter_client                 7.4.9\n",
      "jupyter_core                   5.7.2\n",
      "jupyter-events                 0.10.0\n",
      "jupyter-lsp                    2.2.4\n",
      "jupyter_server                 2.13.0\n",
      "jupyter_server_fileid          0.9.1\n",
      "jupyter_server_terminals       0.5.3\n",
      "jupyter_server_ydoc            0.8.0\n",
      "jupyter-ydoc                   0.2.5\n",
      "jupyterlab                     3.6.3\n",
      "jupyterlab-execute-time        2.3.1\n",
      "jupyterlab-language-pack-zh-CN 4.1.post2\n",
      "jupyterlab-lsp                 4.3.0\n",
      "jupyterlab_pygments            0.3.0\n",
      "jupyterlab-search-replace      1.0.2\n",
      "jupyterlab_server              2.25.4\n",
      "jupyterlab_widgets             3.0.10\n",
      "kiwisolver                     1.4.5\n",
      "MarkupSafe                     2.1.5\n",
      "matplotlib                     3.9.0\n",
      "matplotlib-inline              0.1.6\n",
      "mccabe                         0.7.0\n",
      "mistune                        3.0.2\n",
      "mpmath                         1.3.0\n",
      "nbclassic                      1.0.0\n",
      "nbclient                       0.10.0\n",
      "nbconvert                      7.16.3\n",
      "nbformat                       5.10.4\n",
      "nest-asyncio                   1.6.0\n",
      "networkx                       3.3\n",
      "notebook                       6.5.6\n",
      "notebook_shim                  0.2.4\n",
      "numpy                          1.24.4\n",
      "nvidia-cublas-cu12             12.1.3.1\n",
      "nvidia-cuda-cupti-cu12         12.1.105\n",
      "nvidia-cuda-nvrtc-cu12         12.1.105\n",
      "nvidia-cuda-runtime-cu12       12.1.105\n",
      "nvidia-cudnn-cu12              8.9.2.26\n",
      "nvidia-cufft-cu12              11.0.2.54\n",
      "nvidia-curand-cu12             10.3.2.106\n",
      "nvidia-cusolver-cu12           11.4.5.107\n",
      "nvidia-cusparse-cu12           12.1.0.106\n",
      "nvidia-nccl-cu12               2.20.5\n",
      "nvidia-nvjitlink-cu12          12.4.127\n",
      "nvidia-nvtx-cu12               12.1.105\n",
      "openai                         1.30.1\n",
      "overrides                      7.7.0\n",
      "packaging                      24.0\n",
      "pandas                         2.2.2\n",
      "pandocfilters                  1.5.1\n",
      "parso                          0.8.4\n",
      "pexpect                        4.9.0\n",
      "pillow                         10.3.0\n",
      "pip                            24.0\n",
      "platformdirs                   4.2.0\n",
      "pluggy                         1.4.0\n",
      "prometheus_client              0.20.0\n",
      "prompt-toolkit                 3.0.43\n",
      "psutil                         5.9.8\n",
      "ptyprocess                     0.7.0\n",
      "pure-eval                      0.2.2\n",
      "pybind11                       2.12.0\n",
      "pycodestyle                    2.11.1\n",
      "pycparser                      2.22\n",
      "pydantic                       2.7.1\n",
      "pydantic_core                  2.18.2\n",
      "pydocstyle                     6.3.0\n",
      "pyflakes                       3.2.0\n",
      "Pygments                       2.17.2\n",
      "pylint                         3.1.0\n",
      "pyparsing                      3.1.2\n",
      "python-dateutil                2.9.0.post0\n",
      "python-json-logger             2.0.7\n",
      "python-lsp-jsonrpc             1.1.2\n",
      "python-lsp-server              1.11.0\n",
      "pytoolconfig                   1.3.1\n",
      "pytz                           2024.1\n",
      "PyYAML                         6.0.1\n",
      "pyzmq                          24.0.1\n",
      "referencing                    0.34.0\n",
      "regex                          2024.5.15\n",
      "requests                       2.31.0\n",
      "rfc3339-validator              0.1.4\n",
      "rfc3986-validator              0.1.1\n",
      "rope                           1.13.0\n",
      "rpds-py                        0.18.0\n",
      "safetensors                    0.4.3\n",
      "scikit-learn                   1.4.2\n",
      "scipy                          1.8.1\n",
      "Send2Trash                     1.8.2\n",
      "sentencepiece                  0.2.0\n",
      "setuptools                     59.6.0\n",
      "six                            1.16.0\n",
      "smart-open                     7.0.4\n",
      "sniffio                        1.3.1\n",
      "snowballstemmer                2.2.0\n",
      "soupsieve                      2.5\n",
      "stack-data                     0.6.3\n",
      "sympy                          1.12\n",
      "terminado                      0.18.1\n",
      "threadpoolctl                  3.5.0\n",
      "tinycss2                       1.2.1\n",
      "tokenizers                     0.19.1\n",
      "tomli                          2.0.1\n",
      "tomlkit                        0.12.4\n",
      "torch                          2.3.0\n",
      "torchvision                    0.18.0\n",
      "tornado                        6.4\n",
      "tqdm                           4.66.4\n",
      "traitlets                      5.14.2\n",
      "transformers                   4.41.0\n",
      "triton                         2.3.0\n",
      "types-python-dateutil          2.9.0.20240316\n",
      "typing_extensions              4.11.0\n",
      "tzdata                         2024.1\n",
      "ujson                          5.9.0\n",
      "uri-template                   1.3.0\n",
      "urllib3                        2.2.1\n",
      "wcwidth                        0.2.13\n",
      "webcolors                      1.13\n",
      "webencodings                   0.5.1\n",
      "websocket-client               1.7.0\n",
      "whatthepatch                   1.0.5\n",
      "wheel                          0.37.1\n",
      "widgetsnbextension             4.0.10\n",
      "wrapt                          1.16.0\n",
      "y-py                           0.6.2\n",
      "yapf                           0.40.2\n",
      "ypy-websocket                  0.8.4\n",
      "zipp                           3.18.1\n"
     ]
    }
   ],
   "source": [
    "!pip list"
   ]
  }
 ],
 "metadata": {
  "kernelspec": {
   "display_name": "Python 3 (ipykernel)",
   "language": "python",
   "name": "python3"
  },
  "language_info": {
   "codemirror_mode": {
    "name": "ipython",
    "version": 3
   },
   "file_extension": ".py",
   "mimetype": "text/x-python",
   "name": "python",
   "nbconvert_exporter": "python",
   "pygments_lexer": "ipython3",
   "version": "3.10.12"
  }
 },
 "nbformat": 4,
 "nbformat_minor": 5
}
