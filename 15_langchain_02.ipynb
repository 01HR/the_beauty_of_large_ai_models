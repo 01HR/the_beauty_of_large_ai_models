{
 "cells": [
  {
   "cell_type": "markdown",
   "id": "72c5f6a0-c85f-4449-a900-e0ec4b6c998e",
   "metadata": {},
   "source": [
    "# ChatGPT不会算算术（现在会算数了）"
   ]
  },
  {
   "cell_type": "code",
   "execution_count": 1,
   "id": "b9d25dda-4fd8-47d9-8892-e92bf158743e",
   "metadata": {
    "execution": {
     "iopub.execute_input": "2024-05-22T14:40:22.754935Z",
     "iopub.status.busy": "2024-05-22T14:40:22.754638Z",
     "iopub.status.idle": "2024-05-22T14:40:31.051807Z",
     "shell.execute_reply": "2024-05-22T14:40:31.051108Z",
     "shell.execute_reply.started": "2024-05-22T14:40:22.754907Z"
    },
    "tags": []
   },
   "outputs": [
    {
     "name": "stderr",
     "output_type": "stream",
     "text": [
      "/usr/local/lib/python3.10/dist-packages/langchain_core/_api/deprecation.py:119: LangChainDeprecationWarning: The class `LLMChain` was deprecated in LangChain 0.1.17 and will be removed in 0.3.0. Use RunnableSequence, e.g., `prompt | llm` instead.\n",
      "  warn_deprecated(\n",
      "/usr/local/lib/python3.10/dist-packages/langchain_core/_api/deprecation.py:119: LangChainDeprecationWarning: The method `Chain.run` was deprecated in langchain 0.1.0 and will be removed in 0.3.0. Use invoke instead.\n",
      "  warn_deprecated(\n"
     ]
    },
    {
     "name": "stdout",
     "output_type": "stream",
     "text": [
      "OpenAI API 说答案是: 352乘以493等于173536。\n",
      "Python 说答案是: 173536\n"
     ]
    },
    {
     "name": "stderr",
     "output_type": "stream",
     "text": [
      "Python REPL can execute arbitrary code. Use with caution.\n"
     ]
    },
    {
     "name": "stdout",
     "output_type": "stream",
     "text": [
      "result = 352 * 493\n",
      "print(result)\n",
      "173536\n",
      "\n"
     ]
    }
   ],
   "source": [
    "import os\n",
    "from langchain.prompts import PromptTemplate\n",
    "from langchain.chains import LLMChain\n",
    "from langchain_openai import ChatOpenAI\n",
    "\n",
    "llm = ChatOpenAI(model_name=\"gpt-3.5-turbo\", max_tokens=2048, temperature=0.5)\n",
    "multiply_prompt = PromptTemplate(template=\"请计算一下{question}是多少?\", input_variables=[\"question\"])\n",
    "math_chain = LLMChain(llm=llm, prompt=multiply_prompt, output_key=\"answer\")\n",
    "answer = math_chain.run(question=\"352乘以493\")\n",
    "\n",
    "print(\"OpenAI API 说答案是:\", answer)\n",
    "\n",
    "python_answer = 352 * 493\n",
    "print(\"Python 说答案是:\", python_answer)\n",
    "\n",
    "\n",
    "multiply_by_python_prompt = PromptTemplate(template=\"请写一段Python代码，计算{question}?只输出原生代码\", input_variables=[\"question\"])\n",
    "python_chain = LLMChain(llm=llm, prompt=multiply_by_python_prompt, output_key=\"answer\")\n",
    "answer = python_chain.run(question=\"352乘以493\")\n",
    "print(answer)\n",
    "\n",
    "from langchain.utilities import PythonREPL\n",
    "python_repl = PythonREPL()\n",
    "result = python_repl.run(answer)\n",
    "print(result)"
   ]
  },
  {
   "cell_type": "markdown",
   "id": "e3a2457a-614d-4840-9b21-43abd95c164a",
   "metadata": {},
   "source": [
    "# 通过LLMMathChain算算术"
   ]
  },
  {
   "cell_type": "code",
   "execution_count": 2,
   "id": "7f1ad91e-7912-46a5-ba9b-a6c3876b06cc",
   "metadata": {
    "execution": {
     "iopub.execute_input": "2024-05-22T14:40:31.054792Z",
     "iopub.status.busy": "2024-05-22T14:40:31.053697Z",
     "iopub.status.idle": "2024-05-22T14:40:39.122337Z",
     "shell.execute_reply": "2024-05-22T14:40:39.121328Z",
     "shell.execute_reply.started": "2024-05-22T14:40:31.054736Z"
    },
    "tags": []
   },
   "outputs": [
    {
     "name": "stdout",
     "output_type": "stream",
     "text": [
      "Collecting numexpr\n",
      "  Downloading numexpr-2.10.0-cp310-cp310-manylinux_2_17_x86_64.manylinux2014_x86_64.whl.metadata (7.9 kB)\n",
      "Requirement already satisfied: numpy>=1.19.3 in /usr/local/lib/python3.10/dist-packages (from numexpr) (1.24.4)\n",
      "Downloading numexpr-2.10.0-cp310-cp310-manylinux_2_17_x86_64.manylinux2014_x86_64.whl (376 kB)\n",
      "\u001b[2K   \u001b[90m━━━━━━━━━━━━━━━━━━━━━━━━━━━━━━━━━━━━━━━\u001b[0m \u001b[32m376.1/376.1 kB\u001b[0m \u001b[31m312.8 kB/s\u001b[0m eta \u001b[36m0:00:00\u001b[0m00:01\u001b[0m00:01\u001b[0m\n",
      "\u001b[?25hInstalling collected packages: numexpr\n",
      "Successfully installed numexpr-2.10.0\n",
      "\u001b[33mWARNING: Running pip as the 'root' user can result in broken permissions and conflicting behaviour with the system package manager. It is recommended to use a virtual environment instead: https://pip.pypa.io/warnings/venv\u001b[0m\u001b[33m\n",
      "\u001b[0m"
     ]
    }
   ],
   "source": [
    "!pip install numexpr"
   ]
  },
  {
   "cell_type": "code",
   "execution_count": 3,
   "id": "58fe49d4-74a9-44d8-9e32-4a042a85cb86",
   "metadata": {
    "execution": {
     "iopub.execute_input": "2024-05-22T14:40:39.124027Z",
     "iopub.status.busy": "2024-05-22T14:40:39.123670Z",
     "iopub.status.idle": "2024-05-22T14:40:42.949447Z",
     "shell.execute_reply": "2024-05-22T14:40:42.948134Z",
     "shell.execute_reply.started": "2024-05-22T14:40:39.123999Z"
    },
    "tags": []
   },
   "outputs": [
    {
     "name": "stderr",
     "output_type": "stream",
     "text": [
      "/usr/local/lib/python3.10/dist-packages/langchain/chains/llm_math/base.py:57: UserWarning: Directly instantiating an LLMMathChain with an llm is deprecated. Please instantiate with llm_chain argument or using the from_llm class method.\n",
      "  warnings.warn(\n"
     ]
    },
    {
     "name": "stdout",
     "output_type": "stream",
     "text": [
      "\n",
      "\n",
      "\u001b[1m> Entering new LLMMathChain chain...\u001b[0m\n",
      "请计算一下352乘以493是多少?\u001b[32;1m\u001b[1;3m```text\n",
      "352 * 493\n",
      "```\n",
      "...numexpr.evaluate(\"352 * 493\")...\n",
      "\u001b[0m\n",
      "Answer: \u001b[33;1m\u001b[1;3m173536\u001b[0m\n",
      "\u001b[1m> Finished chain.\u001b[0m\n",
      "Answer: 173536\n"
     ]
    }
   ],
   "source": [
    "from langchain import LLMMathChain\n",
    "\n",
    "llm_math = LLMMathChain(llm=llm, verbose=True)\n",
    "result = llm_math.run(\"请计算一下352乘以493是多少?\")\n",
    "print(result)"
   ]
  },
  {
   "cell_type": "markdown",
   "id": "e8197f41-3762-4a31-8dd8-5b7bce6d5436",
   "metadata": {},
   "source": [
    "# 通过Google搜索查天气"
   ]
  },
  {
   "cell_type": "code",
   "execution_count": 4,
   "id": "970f4460-7eee-4253-8643-e0c52e0b1896",
   "metadata": {
    "execution": {
     "iopub.execute_input": "2024-05-22T14:40:42.952961Z",
     "iopub.status.busy": "2024-05-22T14:40:42.952150Z",
     "iopub.status.idle": "2024-05-22T14:41:02.211262Z",
     "shell.execute_reply": "2024-05-22T14:41:02.210344Z",
     "shell.execute_reply.started": "2024-05-22T14:40:42.952929Z"
    },
    "tags": []
   },
   "outputs": [
    {
     "name": "stderr",
     "output_type": "stream",
     "text": [
      "/usr/local/lib/python3.10/dist-packages/langchain_core/_api/deprecation.py:119: LangChainDeprecationWarning: The method `Chain.__call__` was deprecated in langchain 0.1.0 and will be removed in 0.3.0. Use invoke instead.\n",
      "  warn_deprecated(\n"
     ]
    },
    {
     "name": "stdout",
     "output_type": "stream",
     "text": [
      "{'query': '今天上海的天气怎么样？', 'url': 'https://www.baidu.com/s?wd=今天上海的天气怎么样？', 'output': '{\\n    \"weather\": \"多云\",\\n    \"temperature\": {\\n        \"min\": 19,\\n        \"max\": 27\\n    },\\n    \"wind\": {\\n        \"direction\": \"东南风\",\\n        \"level\": \"2级\"\\n    }\\n}'}\n",
      "{\n",
      "    \"weather\": \"多云\",\n",
      "    \"temperature\": {\n",
      "        \"min\": 19,\n",
      "        \"max\": 27\n",
      "    },\n",
      "    \"wind\": {\n",
      "        \"direction\": \"东南风\",\n",
      "        \"level\": \"2级\"\n",
      "    }\n",
      "}\n"
     ]
    }
   ],
   "source": [
    "from langchain.chains import LLMRequestsChain\n",
    "\n",
    "template = \"\"\"在 >>> 和 <<< 直接是来自Google的原始搜索结果.\n",
    "请把对于问题 '{query}' 的答案从里面提取出来，使用json格式输出(weather、temperature.min、temperature.max、wind.direction、wind.level)。如果里面没有相关信息的话就说“找不到”\n",
    "请使用如下格式：\n",
    "Extracted:<answer or \"找不到\">\n",
    ">>> {requests_result} <<<\n",
    "Extracted:\"\"\"\n",
    "\n",
    "PROMPT = PromptTemplate(\n",
    "    template=template,\n",
    "    input_variables=[\"query\", \"requests_result\"],\n",
    ")\n",
    "\n",
    "requests_chain = LLMRequestsChain(llm_chain=LLMChain(llm = ChatOpenAI(model_name=\"gpt-3.5-turbo\", temperature=0), prompt=PROMPT))\n",
    "question=\"今天上海的天气怎么样？\"\n",
    "\n",
    "inputs = {\n",
    "    \"query\":question,\n",
    "    \"url\": \"https://www.baidu.com/s?wd=\" + question.replace(\" \", \"+\")\n",
    "    # \"url\": \"https://www.google.com/search?q=\" + question.replace(\" \", \"+\")\n",
    "}\n",
    "\n",
    "result=requests_chain(inputs)\n",
    "print(result)\n",
    "print(result['output'])"
   ]
  },
  {
   "cell_type": "markdown",
   "id": "a43605cf-4654-4c73-88fa-388a6106cafa",
   "metadata": {},
   "source": [
    "# 通过TransformChain运行自定义函数"
   ]
  },
  {
   "cell_type": "code",
   "execution_count": 5,
   "id": "4434ce08-6ce5-405f-9147-cd7bf785d106",
   "metadata": {
    "execution": {
     "iopub.execute_input": "2024-05-22T14:41:02.213251Z",
     "iopub.status.busy": "2024-05-22T14:41:02.212522Z",
     "iopub.status.idle": "2024-05-22T14:41:09.372840Z",
     "shell.execute_reply": "2024-05-22T14:41:09.371955Z",
     "shell.execute_reply.started": "2024-05-22T14:41:02.213119Z"
    },
    "tags": []
   },
   "outputs": [
    {
     "name": "stdout",
     "output_type": "stream",
     "text": [
      "{\n",
      "    \"weather\": \"多云\",\n",
      "    \"temperature\": {\n",
      "        \"min\": 19,\n",
      "        \"max\": 27\n",
      "    },\n",
      "    \"wind\": {\n",
      "        \"direction\": \"东南风\",\n",
      "        \"level\": \"2级\"\n",
      "    }\n",
      "}\n"
     ]
    }
   ],
   "source": [
    "from langchain.chains import TransformChain, SequentialChain\n",
    "\n",
    "def transform_func(inputs: dict) -> dict:\n",
    "    text = inputs[\"output\"]\n",
    "    if (text == \"找不到\") :\n",
    "        text = {}\n",
    "    return {\"weather_info\" : text}\n",
    "\n",
    "\n",
    "transformation_chain = TransformChain(\n",
    "    input_variables=[\"output\"],\n",
    "    output_variables=[\"weather_info\"],\n",
    "    transform=transform_func\n",
    ")\n",
    "\n",
    "final_chain = SequentialChain(\n",
    "    chains=[requests_chain, transformation_chain],\n",
    "    input_variables=[\"query\", \"url\"],\n",
    "    output_variables=[\"weather_info\"]\n",
    ")\n",
    "\n",
    "final_result = final_chain.run(inputs)\n",
    "print(final_result)"
   ]
  },
  {
   "cell_type": "markdown",
   "id": "7c141f79-f134-468d-ae4d-f92566386018",
   "metadata": {},
   "source": [
    "# 通过VectorDBQA做问答"
   ]
  },
  {
   "cell_type": "code",
   "execution_count": 6,
   "id": "cdc54e91-4547-4239-8ffb-faa8c9fef391",
   "metadata": {
    "execution": {
     "iopub.execute_input": "2024-05-22T14:41:09.374522Z",
     "iopub.status.busy": "2024-05-22T14:41:09.373920Z",
     "iopub.status.idle": "2024-05-22T14:42:15.748407Z",
     "shell.execute_reply": "2024-05-22T14:42:15.747404Z",
     "shell.execute_reply.started": "2024-05-22T14:41:09.374491Z"
    },
    "scrolled": true,
    "tags": []
   },
   "outputs": [
    {
     "name": "stdout",
     "output_type": "stream",
     "text": [
      "Requirement already satisfied: spacy in /usr/local/lib/python3.10/dist-packages (3.7.4)\n",
      "Requirement already satisfied: spacy-legacy<3.1.0,>=3.0.11 in /usr/local/lib/python3.10/dist-packages (from spacy) (3.0.12)\n",
      "Requirement already satisfied: spacy-loggers<2.0.0,>=1.0.0 in /usr/local/lib/python3.10/dist-packages (from spacy) (1.0.5)\n",
      "Requirement already satisfied: murmurhash<1.1.0,>=0.28.0 in /usr/local/lib/python3.10/dist-packages (from spacy) (1.0.10)\n",
      "Requirement already satisfied: cymem<2.1.0,>=2.0.2 in /usr/local/lib/python3.10/dist-packages (from spacy) (2.0.8)\n",
      "Requirement already satisfied: preshed<3.1.0,>=3.0.2 in /usr/local/lib/python3.10/dist-packages (from spacy) (3.0.9)\n",
      "Requirement already satisfied: thinc<8.3.0,>=8.2.2 in /usr/local/lib/python3.10/dist-packages (from spacy) (8.2.3)\n",
      "Requirement already satisfied: wasabi<1.2.0,>=0.9.1 in /usr/local/lib/python3.10/dist-packages (from spacy) (1.1.2)\n",
      "Requirement already satisfied: srsly<3.0.0,>=2.4.3 in /usr/local/lib/python3.10/dist-packages (from spacy) (2.4.8)\n",
      "Requirement already satisfied: catalogue<2.1.0,>=2.0.6 in /usr/local/lib/python3.10/dist-packages (from spacy) (2.0.10)\n",
      "Requirement already satisfied: weasel<0.4.0,>=0.1.0 in /usr/local/lib/python3.10/dist-packages (from spacy) (0.3.4)\n",
      "Requirement already satisfied: typer<0.10.0,>=0.3.0 in /usr/local/lib/python3.10/dist-packages (from spacy) (0.9.4)\n",
      "Requirement already satisfied: smart-open<7.0.0,>=5.2.1 in /usr/local/lib/python3.10/dist-packages (from spacy) (6.4.0)\n",
      "Requirement already satisfied: tqdm<5.0.0,>=4.38.0 in /usr/local/lib/python3.10/dist-packages (from spacy) (4.66.4)\n",
      "Requirement already satisfied: requests<3.0.0,>=2.13.0 in /usr/local/lib/python3.10/dist-packages (from spacy) (2.31.0)\n",
      "Requirement already satisfied: pydantic!=1.8,!=1.8.1,<3.0.0,>=1.7.4 in /usr/local/lib/python3.10/dist-packages (from spacy) (2.7.1)\n",
      "Requirement already satisfied: jinja2 in /usr/local/lib/python3.10/dist-packages (from spacy) (3.1.3)\n",
      "Requirement already satisfied: setuptools in /usr/local/lib/python3.10/dist-packages (from spacy) (70.0.0)\n",
      "Requirement already satisfied: packaging>=20.0 in /usr/local/lib/python3.10/dist-packages (from spacy) (23.2)\n",
      "Requirement already satisfied: langcodes<4.0.0,>=3.2.0 in /usr/local/lib/python3.10/dist-packages (from spacy) (3.4.0)\n",
      "Requirement already satisfied: numpy>=1.19.0 in /usr/local/lib/python3.10/dist-packages (from spacy) (1.24.4)\n",
      "Requirement already satisfied: language-data>=1.2 in /usr/local/lib/python3.10/dist-packages (from langcodes<4.0.0,>=3.2.0->spacy) (1.2.0)\n",
      "Requirement already satisfied: annotated-types>=0.4.0 in /usr/local/lib/python3.10/dist-packages (from pydantic!=1.8,!=1.8.1,<3.0.0,>=1.7.4->spacy) (0.6.0)\n",
      "Requirement already satisfied: pydantic-core==2.18.2 in /usr/local/lib/python3.10/dist-packages (from pydantic!=1.8,!=1.8.1,<3.0.0,>=1.7.4->spacy) (2.18.2)\n",
      "Requirement already satisfied: typing-extensions>=4.6.1 in /usr/local/lib/python3.10/dist-packages (from pydantic!=1.8,!=1.8.1,<3.0.0,>=1.7.4->spacy) (4.11.0)\n",
      "Requirement already satisfied: charset-normalizer<4,>=2 in /usr/local/lib/python3.10/dist-packages (from requests<3.0.0,>=2.13.0->spacy) (3.3.2)\n",
      "Requirement already satisfied: idna<4,>=2.5 in /usr/local/lib/python3.10/dist-packages (from requests<3.0.0,>=2.13.0->spacy) (3.6)\n",
      "Requirement already satisfied: urllib3<3,>=1.21.1 in /usr/local/lib/python3.10/dist-packages (from requests<3.0.0,>=2.13.0->spacy) (2.2.1)\n",
      "Requirement already satisfied: certifi>=2017.4.17 in /usr/local/lib/python3.10/dist-packages (from requests<3.0.0,>=2.13.0->spacy) (2024.2.2)\n",
      "Requirement already satisfied: blis<0.8.0,>=0.7.8 in /usr/local/lib/python3.10/dist-packages (from thinc<8.3.0,>=8.2.2->spacy) (0.7.11)\n",
      "Requirement already satisfied: confection<1.0.0,>=0.0.1 in /usr/local/lib/python3.10/dist-packages (from thinc<8.3.0,>=8.2.2->spacy) (0.1.4)\n",
      "Requirement already satisfied: click<9.0.0,>=7.1.1 in /usr/local/lib/python3.10/dist-packages (from typer<0.10.0,>=0.3.0->spacy) (8.1.7)\n",
      "Requirement already satisfied: cloudpathlib<0.17.0,>=0.7.0 in /usr/local/lib/python3.10/dist-packages (from weasel<0.4.0,>=0.1.0->spacy) (0.16.0)\n",
      "Requirement already satisfied: MarkupSafe>=2.0 in /usr/local/lib/python3.10/dist-packages (from jinja2->spacy) (2.1.5)\n",
      "Requirement already satisfied: marisa-trie>=0.7.7 in /usr/local/lib/python3.10/dist-packages (from language-data>=1.2->langcodes<4.0.0,>=3.2.0->spacy) (1.1.1)\n",
      "\u001b[33mWARNING: Running pip as the 'root' user can result in broken permissions and conflicting behaviour with the system package manager. It is recommended to use a virtual environment instead: https://pip.pypa.io/warnings/venv\u001b[0m\u001b[33m\n",
      "\u001b[0mCollecting faiss-cpu\n",
      "  Downloading faiss_cpu-1.8.0-cp310-cp310-manylinux_2_17_x86_64.manylinux2014_x86_64.whl.metadata (3.6 kB)\n",
      "Requirement already satisfied: numpy in /usr/local/lib/python3.10/dist-packages (from faiss-cpu) (1.24.4)\n",
      "Downloading faiss_cpu-1.8.0-cp310-cp310-manylinux_2_17_x86_64.manylinux2014_x86_64.whl (27.0 MB)\n",
      "\u001b[2K   \u001b[90m━━━━━━━━━━━━━━━━━━━━━━━━━━━━━━━━━━━━━━━━\u001b[0m \u001b[32m27.0/27.0 MB\u001b[0m \u001b[31m2.2 MB/s\u001b[0m eta \u001b[36m0:00:00\u001b[0m00:01\u001b[0m00:01\u001b[0mm\n",
      "\u001b[?25hInstalling collected packages: faiss-cpu\n",
      "Successfully installed faiss-cpu-1.8.0\n",
      "\u001b[33mWARNING: Running pip as the 'root' user can result in broken permissions and conflicting behaviour with the system package manager. It is recommended to use a virtual environment instead: https://pip.pypa.io/warnings/venv\u001b[0m\u001b[33m\n",
      "\u001b[0mCollecting zh-core-web-sm==3.7.0\n",
      "  Downloading https://github.com/explosion/spacy-models/releases/download/zh_core_web_sm-3.7.0/zh_core_web_sm-3.7.0-py3-none-any.whl (48.5 MB)\n",
      "\u001b[2K     \u001b[90m━━━━━━━━━━━━━━━━━━━━━━━━━━━━━━━━━━━━━━━━\u001b[0m \u001b[32m48.5/48.5 MB\u001b[0m \u001b[31m1.5 MB/s\u001b[0m eta \u001b[36m0:00:00\u001b[0m00:01\u001b[0m00:01\u001b[0mm\n",
      "\u001b[?25hRequirement already satisfied: spacy<3.8.0,>=3.7.0 in /usr/local/lib/python3.10/dist-packages (from zh-core-web-sm==3.7.0) (3.7.4)\n",
      "Requirement already satisfied: spacy-pkuseg<0.1.0,>=0.0.27 in /usr/local/lib/python3.10/dist-packages (from zh-core-web-sm==3.7.0) (0.0.33)\n",
      "Requirement already satisfied: spacy-legacy<3.1.0,>=3.0.11 in /usr/local/lib/python3.10/dist-packages (from spacy<3.8.0,>=3.7.0->zh-core-web-sm==3.7.0) (3.0.12)\n",
      "Requirement already satisfied: spacy-loggers<2.0.0,>=1.0.0 in /usr/local/lib/python3.10/dist-packages (from spacy<3.8.0,>=3.7.0->zh-core-web-sm==3.7.0) (1.0.5)\n",
      "Requirement already satisfied: murmurhash<1.1.0,>=0.28.0 in /usr/local/lib/python3.10/dist-packages (from spacy<3.8.0,>=3.7.0->zh-core-web-sm==3.7.0) (1.0.10)\n",
      "Requirement already satisfied: cymem<2.1.0,>=2.0.2 in /usr/local/lib/python3.10/dist-packages (from spacy<3.8.0,>=3.7.0->zh-core-web-sm==3.7.0) (2.0.8)\n",
      "Requirement already satisfied: preshed<3.1.0,>=3.0.2 in /usr/local/lib/python3.10/dist-packages (from spacy<3.8.0,>=3.7.0->zh-core-web-sm==3.7.0) (3.0.9)\n",
      "Requirement already satisfied: thinc<8.3.0,>=8.2.2 in /usr/local/lib/python3.10/dist-packages (from spacy<3.8.0,>=3.7.0->zh-core-web-sm==3.7.0) (8.2.3)\n",
      "Requirement already satisfied: wasabi<1.2.0,>=0.9.1 in /usr/local/lib/python3.10/dist-packages (from spacy<3.8.0,>=3.7.0->zh-core-web-sm==3.7.0) (1.1.2)\n",
      "Requirement already satisfied: srsly<3.0.0,>=2.4.3 in /usr/local/lib/python3.10/dist-packages (from spacy<3.8.0,>=3.7.0->zh-core-web-sm==3.7.0) (2.4.8)\n",
      "Requirement already satisfied: catalogue<2.1.0,>=2.0.6 in /usr/local/lib/python3.10/dist-packages (from spacy<3.8.0,>=3.7.0->zh-core-web-sm==3.7.0) (2.0.10)\n",
      "Requirement already satisfied: weasel<0.4.0,>=0.1.0 in /usr/local/lib/python3.10/dist-packages (from spacy<3.8.0,>=3.7.0->zh-core-web-sm==3.7.0) (0.3.4)\n",
      "Requirement already satisfied: typer<0.10.0,>=0.3.0 in /usr/local/lib/python3.10/dist-packages (from spacy<3.8.0,>=3.7.0->zh-core-web-sm==3.7.0) (0.9.4)\n",
      "Requirement already satisfied: smart-open<7.0.0,>=5.2.1 in /usr/local/lib/python3.10/dist-packages (from spacy<3.8.0,>=3.7.0->zh-core-web-sm==3.7.0) (6.4.0)\n",
      "Requirement already satisfied: tqdm<5.0.0,>=4.38.0 in /usr/local/lib/python3.10/dist-packages (from spacy<3.8.0,>=3.7.0->zh-core-web-sm==3.7.0) (4.66.4)\n",
      "Requirement already satisfied: requests<3.0.0,>=2.13.0 in /usr/local/lib/python3.10/dist-packages (from spacy<3.8.0,>=3.7.0->zh-core-web-sm==3.7.0) (2.31.0)\n",
      "Requirement already satisfied: pydantic!=1.8,!=1.8.1,<3.0.0,>=1.7.4 in /usr/local/lib/python3.10/dist-packages (from spacy<3.8.0,>=3.7.0->zh-core-web-sm==3.7.0) (2.7.1)\n",
      "Requirement already satisfied: jinja2 in /usr/local/lib/python3.10/dist-packages (from spacy<3.8.0,>=3.7.0->zh-core-web-sm==3.7.0) (3.1.3)\n",
      "Requirement already satisfied: setuptools in /usr/local/lib/python3.10/dist-packages (from spacy<3.8.0,>=3.7.0->zh-core-web-sm==3.7.0) (70.0.0)\n",
      "Requirement already satisfied: packaging>=20.0 in /usr/local/lib/python3.10/dist-packages (from spacy<3.8.0,>=3.7.0->zh-core-web-sm==3.7.0) (23.2)\n",
      "Requirement already satisfied: langcodes<4.0.0,>=3.2.0 in /usr/local/lib/python3.10/dist-packages (from spacy<3.8.0,>=3.7.0->zh-core-web-sm==3.7.0) (3.4.0)\n",
      "Requirement already satisfied: numpy>=1.19.0 in /usr/local/lib/python3.10/dist-packages (from spacy<3.8.0,>=3.7.0->zh-core-web-sm==3.7.0) (1.24.4)\n",
      "Requirement already satisfied: language-data>=1.2 in /usr/local/lib/python3.10/dist-packages (from langcodes<4.0.0,>=3.2.0->spacy<3.8.0,>=3.7.0->zh-core-web-sm==3.7.0) (1.2.0)\n",
      "Requirement already satisfied: annotated-types>=0.4.0 in /usr/local/lib/python3.10/dist-packages (from pydantic!=1.8,!=1.8.1,<3.0.0,>=1.7.4->spacy<3.8.0,>=3.7.0->zh-core-web-sm==3.7.0) (0.6.0)\n",
      "Requirement already satisfied: pydantic-core==2.18.2 in /usr/local/lib/python3.10/dist-packages (from pydantic!=1.8,!=1.8.1,<3.0.0,>=1.7.4->spacy<3.8.0,>=3.7.0->zh-core-web-sm==3.7.0) (2.18.2)\n",
      "Requirement already satisfied: typing-extensions>=4.6.1 in /usr/local/lib/python3.10/dist-packages (from pydantic!=1.8,!=1.8.1,<3.0.0,>=1.7.4->spacy<3.8.0,>=3.7.0->zh-core-web-sm==3.7.0) (4.11.0)\n",
      "Requirement already satisfied: charset-normalizer<4,>=2 in /usr/local/lib/python3.10/dist-packages (from requests<3.0.0,>=2.13.0->spacy<3.8.0,>=3.7.0->zh-core-web-sm==3.7.0) (3.3.2)\n",
      "Requirement already satisfied: idna<4,>=2.5 in /usr/local/lib/python3.10/dist-packages (from requests<3.0.0,>=2.13.0->spacy<3.8.0,>=3.7.0->zh-core-web-sm==3.7.0) (3.6)\n",
      "Requirement already satisfied: urllib3<3,>=1.21.1 in /usr/local/lib/python3.10/dist-packages (from requests<3.0.0,>=2.13.0->spacy<3.8.0,>=3.7.0->zh-core-web-sm==3.7.0) (2.2.1)\n",
      "Requirement already satisfied: certifi>=2017.4.17 in /usr/local/lib/python3.10/dist-packages (from requests<3.0.0,>=2.13.0->spacy<3.8.0,>=3.7.0->zh-core-web-sm==3.7.0) (2024.2.2)\n",
      "Requirement already satisfied: blis<0.8.0,>=0.7.8 in /usr/local/lib/python3.10/dist-packages (from thinc<8.3.0,>=8.2.2->spacy<3.8.0,>=3.7.0->zh-core-web-sm==3.7.0) (0.7.11)\n",
      "Requirement already satisfied: confection<1.0.0,>=0.0.1 in /usr/local/lib/python3.10/dist-packages (from thinc<8.3.0,>=8.2.2->spacy<3.8.0,>=3.7.0->zh-core-web-sm==3.7.0) (0.1.4)\n",
      "Requirement already satisfied: click<9.0.0,>=7.1.1 in /usr/local/lib/python3.10/dist-packages (from typer<0.10.0,>=0.3.0->spacy<3.8.0,>=3.7.0->zh-core-web-sm==3.7.0) (8.1.7)\n",
      "Requirement already satisfied: cloudpathlib<0.17.0,>=0.7.0 in /usr/local/lib/python3.10/dist-packages (from weasel<0.4.0,>=0.1.0->spacy<3.8.0,>=3.7.0->zh-core-web-sm==3.7.0) (0.16.0)\n",
      "Requirement already satisfied: MarkupSafe>=2.0 in /usr/local/lib/python3.10/dist-packages (from jinja2->spacy<3.8.0,>=3.7.0->zh-core-web-sm==3.7.0) (2.1.5)\n",
      "Requirement already satisfied: marisa-trie>=0.7.7 in /usr/local/lib/python3.10/dist-packages (from language-data>=1.2->langcodes<4.0.0,>=3.2.0->spacy<3.8.0,>=3.7.0->zh-core-web-sm==3.7.0) (1.1.1)\n",
      "\u001b[33mWARNING: Running pip as the 'root' user can result in broken permissions and conflicting behaviour with the system package manager. It is recommended to use a virtual environment instead: https://pip.pypa.io/warnings/venv\u001b[0m\u001b[33m\n",
      "\u001b[0m\u001b[38;5;2m✔ Download and installation successful\u001b[0m\n",
      "You can now load the package via spacy.load('zh_core_web_sm')\n"
     ]
    }
   ],
   "source": [
    "!pip install spacy\n",
    "!pip install faiss-cpu\n",
    "!python3 -m spacy download zh_core_web_sm"
   ]
  },
  {
   "cell_type": "code",
   "execution_count": 7,
   "id": "b471a8dd-9835-45c6-8332-b205b2422dc9",
   "metadata": {
    "execution": {
     "iopub.execute_input": "2024-05-22T14:42:15.750565Z",
     "iopub.status.busy": "2024-05-22T14:42:15.750305Z",
     "iopub.status.idle": "2024-05-22T14:42:31.155856Z",
     "shell.execute_reply": "2024-05-22T14:42:31.155103Z",
     "shell.execute_reply.started": "2024-05-22T14:42:15.750541Z"
    },
    "tags": []
   },
   "outputs": [
    {
     "name": "stderr",
     "output_type": "stream",
     "text": [
      "/usr/local/lib/python3.10/dist-packages/langchain_core/_api/deprecation.py:119: LangChainDeprecationWarning: The class `OpenAI` was deprecated in LangChain 0.0.10 and will be removed in 0.3.0. An updated version of the class exists in the langchain-openai package and should be used instead. To use it run `pip install -U langchain-openai` and import as `from langchain_openai import OpenAI`.\n",
      "  warn_deprecated(\n",
      "/usr/local/lib/python3.10/dist-packages/langchain_core/_api/deprecation.py:119: LangChainDeprecationWarning: The class `OpenAIEmbeddings` was deprecated in LangChain 0.0.9 and will be removed in 0.3.0. An updated version of the class exists in the langchain-openai package and should be used instead. To use it run `pip install -U langchain-openai` and import as `from langchain_openai import OpenAIEmbeddings`.\n",
      "  warn_deprecated(\n"
     ]
    }
   ],
   "source": [
    "from langchain.embeddings.openai import OpenAIEmbeddings\n",
    "from langchain.vectorstores import FAISS\n",
    "from langchain.text_splitter import SpacyTextSplitter\n",
    "from langchain.chains import RetrievalQA\n",
    "from langchain.llms import OpenAI\n",
    "from langchain.document_loaders import TextLoader\n",
    "from langchain_core.vectorstores import VectorStoreRetriever\n",
    "\n",
    "llm = OpenAI(temperature=0)\n",
    "\n",
    "loader = TextLoader('./data/ecommerce_faq.txt')\n",
    "documents = loader.load()\n",
    "\n",
    "text_splitter = SpacyTextSplitter(chunk_size=1000, pipeline=\"zh_core_web_sm\")\n",
    "texts = text_splitter.split_documents(documents)\n",
    "\n",
    "\n",
    "embeddings = OpenAIEmbeddings()\n",
    "docsearch = FAISS.from_documents(texts, embeddings)\n",
    "\n",
    "retriever = VectorStoreRetriever(vectorstore=docsearch)\n",
    "\n",
    "faq_chain = RetrievalQA.from_llm(llm=llm, retriever=retriever)"
   ]
  },
  {
   "cell_type": "code",
   "execution_count": 8,
   "id": "358022ef-2665-44ff-811b-096c09dd0468",
   "metadata": {
    "execution": {
     "iopub.execute_input": "2024-05-22T14:42:31.156970Z",
     "iopub.status.busy": "2024-05-22T14:42:31.156754Z",
     "iopub.status.idle": "2024-05-22T14:42:59.378460Z",
     "shell.execute_reply": "2024-05-22T14:42:59.377640Z",
     "shell.execute_reply.started": "2024-05-22T14:42:31.156950Z"
    },
    "tags": []
   },
   "outputs": [
    {
     "name": "stdout",
     "output_type": "stream",
     "text": [
      " 我们支持海南省的配送，一般情况下，大部分城市的订单在2-3个工作日内送达，偏远地区可能需要5-7个工作日。具体送货时间可能因订单商品、配送地址和物流公司而异。\n"
     ]
    }
   ],
   "source": [
    "question = \"请问你们的货，能送到三亚吗？大概需要几天？\"\n",
    "result = faq_chain.run(question)\n",
    "print(result)"
   ]
  },
  {
   "cell_type": "code",
   "execution_count": 9,
   "id": "8ee720f0-97eb-4ce0-95c8-ca8572c16c55",
   "metadata": {
    "execution": {
     "iopub.execute_input": "2024-05-22T14:42:59.380112Z",
     "iopub.status.busy": "2024-05-22T14:42:59.379468Z",
     "iopub.status.idle": "2024-05-22T14:43:09.314173Z",
     "shell.execute_reply": "2024-05-22T14:43:09.313253Z",
     "shell.execute_reply.started": "2024-05-22T14:42:59.380077Z"
    },
    "tags": []
   },
   "outputs": [
    {
     "name": "stdout",
     "output_type": "stream",
     "text": [
      " 自收到商品之日起7天内，如产品未使用、包装完好，您可以申请退货。某些特殊商品可能不支持退货，请在购买前查看商品详情页面的退货政策。\n"
     ]
    }
   ],
   "source": [
    "question = \"请问你们的退货政策是怎么样的？\"\n",
    "result = faq_chain.run(question)\n",
    "print(result)"
   ]
  },
  {
   "cell_type": "code",
   "execution_count": 10,
   "id": "b44ac383-8be9-47f1-a554-f46d67f2ecf7",
   "metadata": {
    "execution": {
     "iopub.execute_input": "2024-05-22T14:43:09.327694Z",
     "iopub.status.busy": "2024-05-22T14:43:09.326386Z",
     "iopub.status.idle": "2024-05-22T14:43:10.524122Z",
     "shell.execute_reply": "2024-05-22T14:43:10.523273Z",
     "shell.execute_reply.started": "2024-05-22T14:43:09.327660Z"
    },
    "tags": []
   },
   "outputs": [
    {
     "name": "stdout",
     "output_type": "stream",
     "text": [
      "Package                                 Version\n",
      "--------------------------------------- --------------\n",
      "aiofiles                                22.1.0\n",
      "aiohttp                                 3.9.5\n",
      "aiosignal                               1.3.1\n",
      "aiosqlite                               0.20.0\n",
      "altair                                  5.3.0\n",
      "annotated-types                         0.6.0\n",
      "anyio                                   4.3.0\n",
      "argon2-cffi                             23.1.0\n",
      "argon2-cffi-bindings                    21.2.0\n",
      "arrow                                   1.3.0\n",
      "astroid                                 3.1.0\n",
      "asttokens                               2.4.1\n",
      "async-timeout                           4.0.3\n",
      "attrs                                   23.2.0\n",
      "autopep8                                2.0.4\n",
      "Babel                                   2.14.0\n",
      "backoff                                 2.2.1\n",
      "beautifulsoup4                          4.12.3\n",
      "bleach                                  6.1.0\n",
      "blis                                    0.7.11\n",
      "catalogue                               2.0.10\n",
      "certifi                                 2024.2.2\n",
      "cffi                                    1.16.0\n",
      "charset-normalizer                      3.3.2\n",
      "click                                   8.1.7\n",
      "cloudpathlib                            0.16.0\n",
      "comm                                    0.2.2\n",
      "confection                              0.1.4\n",
      "contourpy                               1.2.1\n",
      "cpm-kernels                             1.0.11\n",
      "cramjam                                 2.8.3\n",
      "cupy-cuda12x                            12.3.0\n",
      "cycler                                  0.12.1\n",
      "cymem                                   2.0.8\n",
      "dataclasses-json                        0.6.6\n",
      "debugpy                                 1.8.1\n",
      "decorator                               5.1.1\n",
      "defusedxml                              0.7.1\n",
      "Deprecated                              1.2.14\n",
      "dill                                    0.3.8\n",
      "dirtyjson                               1.0.8\n",
      "distro                                  1.9.0\n",
      "dnspython                               2.6.1\n",
      "docstring-to-markdown                   0.15\n",
      "email_validator                         2.1.1\n",
      "entrypoints                             0.4\n",
      "exceptiongroup                          1.2.0\n",
      "executing                               2.0.1\n",
      "faiss-cpu                               1.8.0\n",
      "faiss-gpu                               1.7.2\n",
      "fastapi                                 0.111.0\n",
      "fastapi-cli                             0.0.4\n",
      "fastjsonschema                          2.19.1\n",
      "fastparquet                             2024.2.0\n",
      "fastrlock                               0.8.2\n",
      "fasttext                                0.9.2\n",
      "ffmpy                                   0.3.2\n",
      "filelock                                3.14.0\n",
      "flake8                                  7.0.0\n",
      "fonttools                               4.51.0\n",
      "fqdn                                    1.5.1\n",
      "frozenlist                              1.4.1\n",
      "fsspec                                  2024.5.0\n",
      "gensim                                  4.3.2\n",
      "gradio                                  4.31.4\n",
      "gradio_client                           0.16.4\n",
      "greenlet                                3.0.3\n",
      "h11                                     0.14.0\n",
      "httpcore                                1.0.5\n",
      "httptools                               0.6.1\n",
      "httpx                                   0.27.0\n",
      "huggingface-hub                         0.23.0\n",
      "icetk                                   0.0.7\n",
      "idna                                    3.6\n",
      "importlib_metadata                      7.1.0\n",
      "importlib_resources                     6.4.0\n",
      "ipykernel                               6.29.4\n",
      "ipython                                 8.23.0\n",
      "ipython-genutils                        0.2.0\n",
      "ipywidgets                              8.1.2\n",
      "isoduration                             20.11.0\n",
      "isort                                   5.13.2\n",
      "jedi                                    0.19.1\n",
      "Jinja2                                  3.1.3\n",
      "joblib                                  1.4.2\n",
      "json5                                   0.9.24\n",
      "jsonpatch                               1.33\n",
      "jsonpath-ng                             1.6.1\n",
      "jsonpointer                             2.4\n",
      "jsonschema                              4.21.1\n",
      "jsonschema-specifications               2023.12.1\n",
      "jupyter_client                          7.4.9\n",
      "jupyter_core                            5.7.2\n",
      "jupyter-events                          0.10.0\n",
      "jupyter-lsp                             2.2.4\n",
      "jupyter_server                          2.13.0\n",
      "jupyter_server_fileid                   0.9.1\n",
      "jupyter_server_terminals                0.5.3\n",
      "jupyter_server_ydoc                     0.8.0\n",
      "jupyter-ydoc                            0.2.5\n",
      "jupyterlab                              3.6.3\n",
      "jupyterlab-execute-time                 2.3.1\n",
      "jupyterlab-language-pack-zh-CN          4.1.post2\n",
      "jupyterlab-lsp                          4.3.0\n",
      "jupyterlab_pygments                     0.3.0\n",
      "jupyterlab-search-replace               1.0.2\n",
      "jupyterlab_server                       2.25.4\n",
      "jupyterlab_widgets                      3.0.10\n",
      "kiwisolver                              1.4.5\n",
      "langchain                               0.1.20\n",
      "langchain-community                     0.0.38\n",
      "langchain-core                          0.1.52\n",
      "langchain-openai                        0.1.7\n",
      "langchain-text-splitters                0.0.2\n",
      "langcodes                               3.4.0\n",
      "langsmith                               0.1.60\n",
      "language_data                           1.2.0\n",
      "llama-index                             0.10.37\n",
      "llama-index-agent-openai                0.2.5\n",
      "llama-index-cli                         0.1.12\n",
      "llama-index-core                        0.10.37.post1\n",
      "llama-index-embeddings-langchain        0.1.2\n",
      "llama-index-embeddings-openai           0.1.10\n",
      "llama-index-indices-managed-llama-cloud 0.1.6\n",
      "llama-index-legacy                      0.9.48\n",
      "llama-index-llms-anyscale               0.1.4\n",
      "llama-index-llms-langchain              0.1.3\n",
      "llama-index-llms-openai                 0.1.20\n",
      "llama-index-multi-modal-llms-openai     0.1.6\n",
      "llama-index-program-openai              0.1.6\n",
      "llama-index-question-gen-openai         0.1.3\n",
      "llama-index-readers-file                0.1.22\n",
      "llama-index-readers-llama-parse         0.1.4\n",
      "llama-index-vector-stores-faiss         0.1.2\n",
      "llama-parse                             0.4.3\n",
      "llamaindex-py-client                    0.1.19\n",
      "marisa-trie                             1.1.1\n",
      "markdown-it-py                          3.0.0\n",
      "MarkupSafe                              2.1.5\n",
      "marshmallow                             3.21.2\n",
      "matplotlib                              3.9.0\n",
      "matplotlib-inline                       0.1.6\n",
      "mccabe                                  0.7.0\n",
      "mdurl                                   0.1.2\n",
      "mistune                                 3.0.2\n",
      "mpmath                                  1.3.0\n",
      "multidict                               6.0.5\n",
      "murmurhash                              1.0.10\n",
      "mypy-extensions                         1.0.0\n",
      "nbclassic                               1.0.0\n",
      "nbclient                                0.10.0\n",
      "nbconvert                               7.16.3\n",
      "nbformat                                5.10.4\n",
      "nest-asyncio                            1.6.0\n",
      "networkx                                3.3\n",
      "nltk                                    3.8.1\n",
      "notebook                                6.5.6\n",
      "notebook_shim                           0.2.4\n",
      "numexpr                                 2.10.0\n",
      "numpy                                   1.24.4\n",
      "nvidia-cublas-cu12                      12.1.3.1\n",
      "nvidia-cuda-cupti-cu12                  12.1.105\n",
      "nvidia-cuda-nvrtc-cu12                  12.1.105\n",
      "nvidia-cuda-runtime-cu12                12.1.105\n",
      "nvidia-cudnn-cu12                       8.9.2.26\n",
      "nvidia-cufft-cu12                       11.0.2.54\n",
      "nvidia-curand-cu12                      10.3.2.106\n",
      "nvidia-cusolver-cu12                    11.4.5.107\n",
      "nvidia-cusparse-cu12                    12.1.0.106\n",
      "nvidia-nccl-cu12                        2.20.5\n",
      "nvidia-nvjitlink-cu12                   12.4.127\n",
      "nvidia-nvtx-cu12                        12.1.105\n",
      "openai                                  1.30.1\n",
      "orjson                                  3.10.3\n",
      "overrides                               7.7.0\n",
      "packaging                               23.2\n",
      "pandas                                  2.2.2\n",
      "pandocfilters                           1.5.1\n",
      "parso                                   0.8.4\n",
      "pexpect                                 4.9.0\n",
      "pillow                                  10.3.0\n",
      "pip                                     24.0\n",
      "platformdirs                            4.2.0\n",
      "pluggy                                  1.4.0\n",
      "ply                                     3.11\n",
      "preshed                                 3.0.9\n",
      "prometheus_client                       0.20.0\n",
      "prompt-toolkit                          3.0.43\n",
      "protobuf                                3.18.3\n",
      "psutil                                  5.9.8\n",
      "ptyprocess                              0.7.0\n",
      "pure-eval                               0.2.2\n",
      "pyarrow                                 16.1.0\n",
      "pybind11                                2.12.0\n",
      "pycodestyle                             2.11.1\n",
      "pycparser                               2.22\n",
      "pydantic                                2.7.1\n",
      "pydantic_core                           2.18.2\n",
      "pydocstyle                              6.3.0\n",
      "pydub                                   0.25.1\n",
      "pyflakes                                3.2.0\n",
      "Pygments                                2.17.2\n",
      "pylint                                  3.1.0\n",
      "pyparsing                               3.1.2\n",
      "pypdf                                   4.2.0\n",
      "python-dateutil                         2.9.0.post0\n",
      "python-dotenv                           1.0.1\n",
      "python-json-logger                      2.0.7\n",
      "python-lsp-jsonrpc                      1.1.2\n",
      "python-lsp-server                       1.11.0\n",
      "python-multipart                        0.0.9\n",
      "pytoolconfig                            1.3.1\n",
      "pytz                                    2024.1\n",
      "PyYAML                                  6.0.1\n",
      "pyzmq                                   24.0.1\n",
      "referencing                             0.34.0\n",
      "regex                                   2024.5.15\n",
      "requests                                2.31.0\n",
      "rfc3339-validator                       0.1.4\n",
      "rfc3986-validator                       0.1.1\n",
      "rich                                    13.7.1\n",
      "rope                                    1.13.0\n",
      "rpds-py                                 0.18.0\n",
      "ruff                                    0.4.4\n",
      "safetensors                             0.4.3\n",
      "scikit-learn                            1.4.2\n",
      "scipy                                   1.8.1\n",
      "semantic-version                        2.10.0\n",
      "Send2Trash                              1.8.2\n",
      "sentence-transformers                   2.2.2\n",
      "sentencepiece                           0.2.0\n",
      "setuptools                              70.0.0\n",
      "shellingham                             1.5.4\n",
      "six                                     1.16.0\n",
      "smart-open                              6.4.0\n",
      "sniffio                                 1.3.1\n",
      "snowballstemmer                         2.2.0\n",
      "soupsieve                               2.5\n",
      "spacy                                   3.7.4\n",
      "spacy-legacy                            3.0.12\n",
      "spacy-loggers                           1.0.5\n",
      "spacy-pkuseg                            0.0.33\n",
      "SQLAlchemy                              2.0.30\n",
      "srsly                                   2.4.8\n",
      "stack-data                              0.6.3\n",
      "starlette                               0.37.2\n",
      "striprtf                                0.0.26\n",
      "sympy                                   1.12\n",
      "tenacity                                8.3.0\n",
      "terminado                               0.18.1\n",
      "thinc                                   8.2.3\n",
      "threadpoolctl                           3.5.0\n",
      "tiktoken                                0.7.0\n",
      "tinycss2                                1.2.1\n",
      "tokenizers                              0.13.3\n",
      "tomli                                   2.0.1\n",
      "tomlkit                                 0.12.0\n",
      "toolz                                   0.12.1\n",
      "torch                                   2.3.0\n",
      "torchvision                             0.18.0\n",
      "tornado                                 6.4\n",
      "tqdm                                    4.66.4\n",
      "traitlets                               5.14.2\n",
      "transformers                            4.27.1\n",
      "triton                                  2.3.0\n",
      "typer                                   0.9.4\n",
      "types-python-dateutil                   2.9.0.20240316\n",
      "typing_extensions                       4.11.0\n",
      "typing-inspect                          0.9.0\n",
      "tzdata                                  2024.1\n",
      "ujson                                   5.9.0\n",
      "uri-template                            1.3.0\n",
      "urllib3                                 2.2.1\n",
      "uvicorn                                 0.29.0\n",
      "uvloop                                  0.19.0\n",
      "wasabi                                  1.1.2\n",
      "watchfiles                              0.21.0\n",
      "wcwidth                                 0.2.13\n",
      "weasel                                  0.3.4\n",
      "webcolors                               1.13\n",
      "webencodings                            0.5.1\n",
      "websocket-client                        1.7.0\n",
      "websockets                              11.0.3\n",
      "whatthepatch                            1.0.5\n",
      "wheel                                   0.43.0\n",
      "widgetsnbextension                      4.0.10\n",
      "wrapt                                   1.16.0\n",
      "y-py                                    0.6.2\n",
      "yapf                                    0.40.2\n",
      "yarl                                    1.9.4\n",
      "ypy-websocket                           0.8.4\n",
      "zh-core-web-sm                          3.7.0\n",
      "zipp                                    3.18.1\n"
     ]
    }
   ],
   "source": [
    "!pip list"
   ]
  }
 ],
 "metadata": {
  "kernelspec": {
   "display_name": "Python 3 (ipykernel)",
   "language": "python",
   "name": "python3"
  },
  "language_info": {
   "codemirror_mode": {
    "name": "ipython",
    "version": 3
   },
   "file_extension": ".py",
   "mimetype": "text/x-python",
   "name": "python",
   "nbconvert_exporter": "python",
   "pygments_lexer": "ipython3",
   "version": "3.10.12"
  }
 },
 "nbformat": 4,
 "nbformat_minor": 5
}
