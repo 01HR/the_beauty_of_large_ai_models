{
 "cells": [
  {
   "cell_type": "code",
   "execution_count": 1,
   "id": "fbd36d08-3a1a-4091-81c7-212d2302c99e",
   "metadata": {
    "execution": {
     "iopub.execute_input": "2024-05-21T15:02:18.832142Z",
     "iopub.status.busy": "2024-05-21T15:02:18.831662Z",
     "iopub.status.idle": "2024-05-21T15:02:23.000346Z",
     "shell.execute_reply": "2024-05-21T15:02:22.999589Z",
     "shell.execute_reply.started": "2024-05-21T15:02:18.832097Z"
    },
    "scrolled": true,
    "tags": []
   },
   "outputs": [
    {
     "name": "stdout",
     "output_type": "stream",
     "text": [
      "Requirement already satisfied: openai in /usr/local/lib/python3.10/dist-packages (1.30.1)\n",
      "Requirement already satisfied: pandas in /usr/local/lib/python3.10/dist-packages (2.2.2)\n",
      "Requirement already satisfied: backoff in /usr/local/lib/python3.10/dist-packages (2.2.1)\n",
      "Requirement already satisfied: scikit-learn in /usr/local/lib/python3.10/dist-packages (1.4.2)\n",
      "Requirement already satisfied: pyarrow in /usr/local/lib/python3.10/dist-packages (16.1.0)\n",
      "Requirement already satisfied: anyio<5,>=3.5.0 in /usr/local/lib/python3.10/dist-packages (from openai) (4.3.0)\n",
      "Requirement already satisfied: distro<2,>=1.7.0 in /usr/local/lib/python3.10/dist-packages (from openai) (1.9.0)\n",
      "Requirement already satisfied: httpx<1,>=0.23.0 in /usr/local/lib/python3.10/dist-packages (from openai) (0.27.0)\n",
      "Requirement already satisfied: pydantic<3,>=1.9.0 in /usr/local/lib/python3.10/dist-packages (from openai) (2.7.1)\n",
      "Requirement already satisfied: sniffio in /usr/local/lib/python3.10/dist-packages (from openai) (1.3.1)\n",
      "Requirement already satisfied: tqdm>4 in /usr/local/lib/python3.10/dist-packages (from openai) (4.66.4)\n",
      "Requirement already satisfied: typing-extensions<5,>=4.7 in /usr/local/lib/python3.10/dist-packages (from openai) (4.11.0)\n",
      "Requirement already satisfied: numpy>=1.22.4 in /usr/local/lib/python3.10/dist-packages (from pandas) (1.24.4)\n",
      "Requirement already satisfied: python-dateutil>=2.8.2 in /usr/local/lib/python3.10/dist-packages (from pandas) (2.9.0.post0)\n",
      "Requirement already satisfied: pytz>=2020.1 in /usr/local/lib/python3.10/dist-packages (from pandas) (2024.1)\n",
      "Requirement already satisfied: tzdata>=2022.7 in /usr/local/lib/python3.10/dist-packages (from pandas) (2024.1)\n",
      "Requirement already satisfied: scipy>=1.6.0 in /usr/local/lib/python3.10/dist-packages (from scikit-learn) (1.8.1)\n",
      "Requirement already satisfied: joblib>=1.2.0 in /usr/local/lib/python3.10/dist-packages (from scikit-learn) (1.4.2)\n",
      "Requirement already satisfied: threadpoolctl>=2.0.0 in /usr/local/lib/python3.10/dist-packages (from scikit-learn) (3.5.0)\n",
      "Requirement already satisfied: idna>=2.8 in /usr/local/lib/python3.10/dist-packages (from anyio<5,>=3.5.0->openai) (3.6)\n",
      "Requirement already satisfied: exceptiongroup>=1.0.2 in /usr/local/lib/python3.10/dist-packages (from anyio<5,>=3.5.0->openai) (1.2.0)\n",
      "Requirement already satisfied: certifi in /usr/local/lib/python3.10/dist-packages (from httpx<1,>=0.23.0->openai) (2024.2.2)\n",
      "Requirement already satisfied: httpcore==1.* in /usr/local/lib/python3.10/dist-packages (from httpx<1,>=0.23.0->openai) (1.0.5)\n",
      "Requirement already satisfied: h11<0.15,>=0.13 in /usr/local/lib/python3.10/dist-packages (from httpcore==1.*->httpx<1,>=0.23.0->openai) (0.14.0)\n",
      "Requirement already satisfied: annotated-types>=0.4.0 in /usr/local/lib/python3.10/dist-packages (from pydantic<3,>=1.9.0->openai) (0.6.0)\n",
      "Requirement already satisfied: pydantic-core==2.18.2 in /usr/local/lib/python3.10/dist-packages (from pydantic<3,>=1.9.0->openai) (2.18.2)\n",
      "Requirement already satisfied: six>=1.5 in /usr/local/lib/python3.10/dist-packages (from python-dateutil>=2.8.2->pandas) (1.16.0)\n",
      "\u001b[33mWARNING: Running pip as the 'root' user can result in broken permissions and conflicting behaviour with the system package manager. It is recommended to use a virtual environment instead: https://pip.pypa.io/warnings/venv\u001b[0m\u001b[33m\n",
      "\u001b[0mRequirement already satisfied: faiss-gpu in /usr/local/lib/python3.10/dist-packages (1.7.2)\n",
      "\u001b[33mWARNING: Running pip as the 'root' user can result in broken permissions and conflicting behaviour with the system package manager. It is recommended to use a virtual environment instead: https://pip.pypa.io/warnings/venv\u001b[0m\u001b[33m\n",
      "\u001b[0m"
     ]
    }
   ],
   "source": [
    "!pip install openai pandas backoff scikit-learn pyarrow \n",
    "!pip install faiss-gpu"
   ]
  },
  {
   "cell_type": "markdown",
   "id": "3013aedc-3ee5-45eb-9a1a-b7f5a0c5c2a8",
   "metadata": {},
   "source": [
    "# 让AI生成点实验数据"
   ]
  },
  {
   "cell_type": "code",
   "execution_count": 2,
   "id": "09f60861-0cf4-4608-a796-ca40095cea39",
   "metadata": {
    "execution": {
     "iopub.execute_input": "2024-05-21T15:02:23.002921Z",
     "iopub.status.busy": "2024-05-21T15:02:23.001699Z",
     "iopub.status.idle": "2024-05-21T15:02:23.385511Z",
     "shell.execute_reply": "2024-05-21T15:02:23.384774Z",
     "shell.execute_reply.started": "2024-05-21T15:02:23.002868Z"
    },
    "tags": []
   },
   "outputs": [],
   "source": [
    "from openai import OpenAI\n",
    "\n",
    "client = OpenAI()\n",
    "\n",
    "COMPLETION_MODEL = \"gpt-3.5-turbo\"\n"
   ]
  },
  {
   "cell_type": "code",
   "execution_count": 3,
   "id": "37db3238-f94b-476f-97d3-de5c788f7716",
   "metadata": {
    "execution": {
     "iopub.execute_input": "2024-05-21T15:02:23.387815Z",
     "iopub.status.busy": "2024-05-21T15:02:23.387347Z",
     "iopub.status.idle": "2024-05-21T15:02:49.006308Z",
     "shell.execute_reply": "2024-05-21T15:02:49.005539Z",
     "shell.execute_reply.started": "2024-05-21T15:02:23.387795Z"
    },
    "tags": []
   },
   "outputs": [],
   "source": [
    "\n",
    "def generate_data_by_prompt(prompt):\n",
    "    response = client.chat.completions.create(\n",
    "        model=COMPLETION_MODEL,\n",
    "        messages=[\n",
    "            {\"role\": \"user\", \"content\": prompt},\n",
    "        ],\n",
    "        max_tokens=2048,\n",
    "        temperature=0.5,\n",
    "        top_p=1,\n",
    "    )\n",
    "    return response.choices[0].message.content\n",
    "\n",
    "prompt = \"请你生成50条淘宝网里的商品的标题，每条在30个字左右，品类是3C数码产品，标题里往往也会有一些促销类的信息，每行一条。不要重复。\"\n",
    "\n",
    "data = generate_data_by_prompt(prompt)\n"
   ]
  },
  {
   "cell_type": "code",
   "execution_count": 4,
   "id": "6f43bc7d-aba0-447f-9ee0-51fe4c776966",
   "metadata": {
    "execution": {
     "iopub.execute_input": "2024-05-21T15:02:49.007593Z",
     "iopub.status.busy": "2024-05-21T15:02:49.007355Z",
     "iopub.status.idle": "2024-05-21T15:02:49.372084Z",
     "shell.execute_reply": "2024-05-21T15:02:49.370927Z",
     "shell.execute_reply.started": "2024-05-21T15:02:49.007572Z"
    },
    "tags": []
   },
   "outputs": [
    {
     "data": {
      "text/html": [
       "<div>\n",
       "<style scoped>\n",
       "    .dataframe tbody tr th:only-of-type {\n",
       "        vertical-align: middle;\n",
       "    }\n",
       "\n",
       "    .dataframe tbody tr th {\n",
       "        vertical-align: top;\n",
       "    }\n",
       "\n",
       "    .dataframe thead th {\n",
       "        text-align: right;\n",
       "    }\n",
       "</style>\n",
       "<table border=\"1\" class=\"dataframe\">\n",
       "  <thead>\n",
       "    <tr style=\"text-align: right;\">\n",
       "      <th></th>\n",
       "      <th>product_name</th>\n",
       "    </tr>\n",
       "  </thead>\n",
       "  <tbody>\n",
       "    <tr>\n",
       "      <th>0</th>\n",
       "      <td>1. 超值特惠！华为P40 Pro 5G全网通手机</td>\n",
       "    </tr>\n",
       "    <tr>\n",
       "      <th>1</th>\n",
       "      <td>2. 限时抢购！小米笔记本Air 13.3英寸轻薄本</td>\n",
       "    </tr>\n",
       "    <tr>\n",
       "      <th>2</th>\n",
       "      <td>3. 爆款推荐！Apple AirPods Pro降噪蓝牙耳机</td>\n",
       "    </tr>\n",
       "    <tr>\n",
       "      <th>3</th>\n",
       "      <td>4. 限时秒杀！戴尔XPS 15.6英寸轻薄笔记本</td>\n",
       "    </tr>\n",
       "    <tr>\n",
       "      <th>4</th>\n",
       "      <td>5. 优惠促销！华硕ROG游戏手机3全新上市</td>\n",
       "    </tr>\n",
       "  </tbody>\n",
       "</table>\n",
       "</div>"
      ],
      "text/plain": [
       "                      product_name\n",
       "0        1. 超值特惠！华为P40 Pro 5G全网通手机\n",
       "1       2. 限时抢购！小米笔记本Air 13.3英寸轻薄本\n",
       "2  3. 爆款推荐！Apple AirPods Pro降噪蓝牙耳机\n",
       "3        4. 限时秒杀！戴尔XPS 15.6英寸轻薄笔记本\n",
       "4           5. 优惠促销！华硕ROG游戏手机3全新上市"
      ]
     },
     "execution_count": 4,
     "metadata": {},
     "output_type": "execute_result"
    }
   ],
   "source": [
    "import pandas as pd\n",
    "\n",
    "product_names = data.strip().split('\\n')\n",
    "df = pd.DataFrame({'product_name': product_names})\n",
    "\n",
    "df.head()"
   ]
  },
  {
   "cell_type": "code",
   "execution_count": 5,
   "id": "62a5fb8e-6d9a-4649-8506-c597b399c4a7",
   "metadata": {
    "execution": {
     "iopub.execute_input": "2024-05-21T15:02:49.374730Z",
     "iopub.status.busy": "2024-05-21T15:02:49.374334Z",
     "iopub.status.idle": "2024-05-21T15:02:49.383970Z",
     "shell.execute_reply": "2024-05-21T15:02:49.382667Z",
     "shell.execute_reply.started": "2024-05-21T15:02:49.374706Z"
    },
    "tags": []
   },
   "outputs": [
    {
     "data": {
      "text/html": [
       "<div>\n",
       "<style scoped>\n",
       "    .dataframe tbody tr th:only-of-type {\n",
       "        vertical-align: middle;\n",
       "    }\n",
       "\n",
       "    .dataframe tbody tr th {\n",
       "        vertical-align: top;\n",
       "    }\n",
       "\n",
       "    .dataframe thead th {\n",
       "        text-align: right;\n",
       "    }\n",
       "</style>\n",
       "<table border=\"1\" class=\"dataframe\">\n",
       "  <thead>\n",
       "    <tr style=\"text-align: right;\">\n",
       "      <th></th>\n",
       "      <th>product_name</th>\n",
       "    </tr>\n",
       "  </thead>\n",
       "  <tbody>\n",
       "    <tr>\n",
       "      <th>0</th>\n",
       "      <td>超值特惠！华为P40 Pro 5G全网通手机</td>\n",
       "    </tr>\n",
       "    <tr>\n",
       "      <th>1</th>\n",
       "      <td>限时抢购！小米笔记本Air 13</td>\n",
       "    </tr>\n",
       "    <tr>\n",
       "      <th>2</th>\n",
       "      <td>爆款推荐！Apple AirPods Pro降噪蓝牙耳机</td>\n",
       "    </tr>\n",
       "    <tr>\n",
       "      <th>3</th>\n",
       "      <td>限时秒杀！戴尔XPS 15</td>\n",
       "    </tr>\n",
       "    <tr>\n",
       "      <th>4</th>\n",
       "      <td>优惠促销！华硕ROG游戏手机3全新上市</td>\n",
       "    </tr>\n",
       "  </tbody>\n",
       "</table>\n",
       "</div>"
      ],
      "text/plain": [
       "                   product_name\n",
       "0        超值特惠！华为P40 Pro 5G全网通手机\n",
       "1              限时抢购！小米笔记本Air 13\n",
       "2  爆款推荐！Apple AirPods Pro降噪蓝牙耳机\n",
       "3                 限时秒杀！戴尔XPS 15\n",
       "4           优惠促销！华硕ROG游戏手机3全新上市"
      ]
     },
     "execution_count": 5,
     "metadata": {},
     "output_type": "execute_result"
    }
   ],
   "source": [
    "df.product_name = df.product_name.apply(lambda x: x.split('.')[1].strip())\n",
    "df.head()"
   ]
  },
  {
   "cell_type": "code",
   "execution_count": 6,
   "id": "ffe9634d-433e-45f7-9c91-d3aa68ea295b",
   "metadata": {
    "execution": {
     "iopub.execute_input": "2024-05-21T15:02:49.385583Z",
     "iopub.status.busy": "2024-05-21T15:02:49.385115Z",
     "iopub.status.idle": "2024-05-21T15:03:09.792321Z",
     "shell.execute_reply": "2024-05-21T15:03:09.791219Z",
     "shell.execute_reply.started": "2024-05-21T15:02:49.385555Z"
    },
    "tags": []
   },
   "outputs": [
    {
     "data": {
      "text/html": [
       "<div>\n",
       "<style scoped>\n",
       "    .dataframe tbody tr th:only-of-type {\n",
       "        vertical-align: middle;\n",
       "    }\n",
       "\n",
       "    .dataframe tbody tr th {\n",
       "        vertical-align: top;\n",
       "    }\n",
       "\n",
       "    .dataframe thead th {\n",
       "        text-align: right;\n",
       "    }\n",
       "</style>\n",
       "<table border=\"1\" class=\"dataframe\">\n",
       "  <thead>\n",
       "    <tr style=\"text-align: right;\">\n",
       "      <th></th>\n",
       "      <th>product_name</th>\n",
       "    </tr>\n",
       "  </thead>\n",
       "  <tbody>\n",
       "    <tr>\n",
       "      <th>0</th>\n",
       "      <td>夏季清仓！时尚女士连衣裙特惠款</td>\n",
       "    </tr>\n",
       "    <tr>\n",
       "      <th>1</th>\n",
       "      <td>限时折扣！韩版潮流女包精选推荐</td>\n",
       "    </tr>\n",
       "    <tr>\n",
       "      <th>2</th>\n",
       "      <td>热销爆款！韩版甜美女士针织衫</td>\n",
       "    </tr>\n",
       "    <tr>\n",
       "      <th>3</th>\n",
       "      <td>限时秒杀！复古小清新女士手提包</td>\n",
       "    </tr>\n",
       "    <tr>\n",
       "      <th>4</th>\n",
       "      <td>夏日新品！韩版女士百搭短裤特惠</td>\n",
       "    </tr>\n",
       "  </tbody>\n",
       "</table>\n",
       "</div>"
      ],
      "text/plain": [
       "      product_name\n",
       "0  夏季清仓！时尚女士连衣裙特惠款\n",
       "1  限时折扣！韩版潮流女包精选推荐\n",
       "2   热销爆款！韩版甜美女士针织衫\n",
       "3  限时秒杀！复古小清新女士手提包\n",
       "4  夏日新品！韩版女士百搭短裤特惠"
      ]
     },
     "execution_count": 6,
     "metadata": {},
     "output_type": "execute_result"
    }
   ],
   "source": [
    "clothes_prompt = \"请你生成50条淘宝网里的商品的标题，每条在30个字左右，品类是女性的服饰箱包等等，标题里往往也会有一些促销类的信息，每行一条。不要重复。\"\n",
    "clothes_data = generate_data_by_prompt(clothes_prompt)\n",
    "clothes_product_names = clothes_data.strip().split('\\n')\n",
    "clothes_df = pd.DataFrame({'product_name': clothes_product_names})\n",
    "clothes_df.product_name = clothes_df.product_name.apply(lambda x: x.split('.')[1].strip())\n",
    "clothes_df.head()"
   ]
  },
  {
   "cell_type": "code",
   "execution_count": 7,
   "id": "466b56379a140d8b",
   "metadata": {
    "collapsed": false,
    "execution": {
     "iopub.execute_input": "2024-05-21T15:03:09.794137Z",
     "iopub.status.busy": "2024-05-21T15:03:09.793438Z",
     "iopub.status.idle": "2024-05-21T15:03:09.804917Z",
     "shell.execute_reply": "2024-05-21T15:03:09.803528Z",
     "shell.execute_reply.started": "2024-05-21T15:03:09.794108Z"
    },
    "jupyter": {
     "outputs_hidden": false
    },
    "tags": []
   },
   "outputs": [
    {
     "data": {
      "text/html": [
       "<div>\n",
       "<style scoped>\n",
       "    .dataframe tbody tr th:only-of-type {\n",
       "        vertical-align: middle;\n",
       "    }\n",
       "\n",
       "    .dataframe tbody tr th {\n",
       "        vertical-align: top;\n",
       "    }\n",
       "\n",
       "    .dataframe thead th {\n",
       "        text-align: right;\n",
       "    }\n",
       "</style>\n",
       "<table border=\"1\" class=\"dataframe\">\n",
       "  <thead>\n",
       "    <tr style=\"text-align: right;\">\n",
       "      <th></th>\n",
       "      <th>product_name</th>\n",
       "    </tr>\n",
       "  </thead>\n",
       "  <tbody>\n",
       "    <tr>\n",
       "      <th>0</th>\n",
       "      <td>超值特惠！华为P40 Pro 5G全网通手机</td>\n",
       "    </tr>\n",
       "    <tr>\n",
       "      <th>1</th>\n",
       "      <td>限时抢购！小米笔记本Air 13</td>\n",
       "    </tr>\n",
       "    <tr>\n",
       "      <th>2</th>\n",
       "      <td>爆款推荐！Apple AirPods Pro降噪蓝牙耳机</td>\n",
       "    </tr>\n",
       "    <tr>\n",
       "      <th>3</th>\n",
       "      <td>限时秒杀！戴尔XPS 15</td>\n",
       "    </tr>\n",
       "    <tr>\n",
       "      <th>4</th>\n",
       "      <td>优惠促销！华硕ROG游戏手机3全新上市</td>\n",
       "    </tr>\n",
       "    <tr>\n",
       "      <th>...</th>\n",
       "      <td>...</td>\n",
       "    </tr>\n",
       "    <tr>\n",
       "      <th>95</th>\n",
       "      <td>特价促销！欧美风格女士皮带精选</td>\n",
       "    </tr>\n",
       "    <tr>\n",
       "      <th>96</th>\n",
       "      <td>限时抢购！日系清新女士休闲裤</td>\n",
       "    </tr>\n",
       "    <tr>\n",
       "      <th>97</th>\n",
       "      <td>热销推荐！时尚女士斜挎包特惠款</td>\n",
       "    </tr>\n",
       "    <tr>\n",
       "      <th>98</th>\n",
       "      <td>夏季狂欢！韩版女士短款外套清仓</td>\n",
       "    </tr>\n",
       "    <tr>\n",
       "      <th>99</th>\n",
       "      <td>限时特惠！欧美风格女士毛衣推荐</td>\n",
       "    </tr>\n",
       "  </tbody>\n",
       "</table>\n",
       "<p>100 rows × 1 columns</p>\n",
       "</div>"
      ],
      "text/plain": [
       "                    product_name\n",
       "0         超值特惠！华为P40 Pro 5G全网通手机\n",
       "1               限时抢购！小米笔记本Air 13\n",
       "2   爆款推荐！Apple AirPods Pro降噪蓝牙耳机\n",
       "3                  限时秒杀！戴尔XPS 15\n",
       "4            优惠促销！华硕ROG游戏手机3全新上市\n",
       "..                           ...\n",
       "95               特价促销！欧美风格女士皮带精选\n",
       "96                限时抢购！日系清新女士休闲裤\n",
       "97               热销推荐！时尚女士斜挎包特惠款\n",
       "98               夏季狂欢！韩版女士短款外套清仓\n",
       "99               限时特惠！欧美风格女士毛衣推荐\n",
       "\n",
       "[100 rows x 1 columns]"
      ]
     },
     "metadata": {},
     "output_type": "display_data"
    }
   ],
   "source": [
    "df = pd.concat([df, clothes_df], axis=0)\n",
    "df = df.reset_index(drop=True)\n",
    "display(df)"
   ]
  },
  {
   "cell_type": "markdown",
   "id": "7756ae9c-e667-4888-b92b-28d7003fa129",
   "metadata": {},
   "source": [
    "# 通过Embedding进行语义搜索"
   ]
  },
  {
   "cell_type": "code",
   "execution_count": 9,
   "id": "c568d402-a41b-46bb-ab00-c2178318ac98",
   "metadata": {
    "execution": {
     "iopub.execute_input": "2024-05-21T15:03:45.806439Z",
     "iopub.status.busy": "2024-05-21T15:03:45.805803Z",
     "iopub.status.idle": "2024-05-21T15:04:00.890107Z",
     "shell.execute_reply": "2024-05-21T15:04:00.889098Z",
     "shell.execute_reply.started": "2024-05-21T15:03:45.806410Z"
    },
    "scrolled": true,
    "tags": []
   },
   "outputs": [
    {
     "name": "stdout",
     "output_type": "stream",
     "text": [
      "                    product_name  \\\n",
      "0         超值特惠！华为P40 Pro 5G全网通手机   \n",
      "1               限时抢购！小米笔记本Air 13   \n",
      "2   爆款推荐！Apple AirPods Pro降噪蓝牙耳机   \n",
      "3                  限时秒杀！戴尔XPS 15   \n",
      "4            优惠促销！华硕ROG游戏手机3全新上市   \n",
      "..                           ...   \n",
      "95               特价促销！欧美风格女士皮带精选   \n",
      "96                限时抢购！日系清新女士休闲裤   \n",
      "97               热销推荐！时尚女士斜挎包特惠款   \n",
      "98               夏季狂欢！韩版女士短款外套清仓   \n",
      "99               限时特惠！欧美风格女士毛衣推荐   \n",
      "\n",
      "                                            embedding  \n",
      "0   [-0.013336816802620888, -0.002172698499634862,...  \n",
      "1   [-0.01182595081627369, -0.013900082558393478, ...  \n",
      "2   [-0.011434641666710377, -0.007904254831373692,...  \n",
      "3   [-0.005350682884454727, -0.0124397287145257, -...  \n",
      "4   [-0.013714857399463654, -0.004293053410947323,...  \n",
      "..                                                ...  \n",
      "95  [-0.024718234315514565, -0.015129383653402328,...  \n",
      "96  [-0.011915394105017185, -0.006174277979880571,...  \n",
      "97  [-0.03560192137956619, -0.00539803970605135, -...  \n",
      "98  [-0.03874750807881355, -0.01506382692605257, 0...  \n",
      "99  [-0.03555730730295181, -0.020029978826642036, ...  \n",
      "\n",
      "[100 rows x 2 columns]\n"
     ]
    }
   ],
   "source": [
    "from openai import OpenAI\n",
    "import openai, backoff\n",
    "\n",
    "client = OpenAI()\n",
    "\n",
    "embedding_model = \"text-embedding-ada-002\"\n",
    "\n",
    "def get_embeddings(list_of_text, model=\"text-embedding-3-small\"):\n",
    "    list_of_text = [text.replace(\"\\n\", \" \") for text in list_of_text]\n",
    "    embeddings = []\n",
    "    for da in client.embeddings.create(input = list_of_text, model=model).data:\n",
    "        embeddings.append(da.embedding)\n",
    "        \n",
    "    return embeddings\n",
    "\n",
    "batch_size = 100\n",
    "\n",
    "@backoff.on_exception(backoff.expo, openai.RateLimitError)\n",
    "def get_embeddings_with_backoff(prompts, engine):\n",
    "    embeddings = []\n",
    "    for i in range(0, len(prompts), batch_size):\n",
    "        batch = prompts[i:i+batch_size]\n",
    "        embeddings += get_embeddings(list_of_text=batch, model=engine)\n",
    "    return embeddings\n",
    "\n",
    "prompts = df.product_name.tolist()\n",
    "prompt_batches = [prompts[i:i+batch_size] for i in range(0, len(prompts), batch_size)]\n",
    "\n",
    "embeddings = []\n",
    "for batch in prompt_batches:\n",
    "    batch_embeddings = get_embeddings_with_backoff(prompts=batch, engine=embedding_model)\n",
    "    embeddings += batch_embeddings\n",
    "\n",
    "df[\"embedding\"] = embeddings\n",
    "print(df)\n",
    "df.to_parquet(\"data/taobao_product_title.parquet\", index=False)"
   ]
  },
  {
   "cell_type": "code",
   "execution_count": 11,
   "id": "32388580-fad0-4d5d-8d33-711611552e2b",
   "metadata": {
    "execution": {
     "iopub.execute_input": "2024-05-21T15:04:29.454568Z",
     "iopub.status.busy": "2024-05-21T15:04:29.453158Z",
     "iopub.status.idle": "2024-05-21T15:04:29.459403Z",
     "shell.execute_reply": "2024-05-21T15:04:29.458486Z",
     "shell.execute_reply.started": "2024-05-21T15:04:29.454532Z"
    },
    "tags": []
   },
   "outputs": [],
   "source": [
    "import os, backoff\n",
    "\n",
    "@backoff.on_exception(backoff.expo, openai.RateLimitError)\n",
    "def get_embedding(text, model=\"text-embedding-3-small\"):\n",
    "    text = text.replace(\"\\n\", \" \")\n",
    "    return client.embeddings.create(input = [text], model=model).data[0].embedding\n",
    "\n",
    "# df = pd.read_parquet(\"data/taobao_product_title.parquet\")\n",
    "# embedding_model = \"text-embedding-3-small\"\n",
    "# client = OpenAI()\n",
    "# df[\"embedding\"] = df.product_name.apply(lambda x: get_embedding(x, embedding_model))\n",
    "# df.to_parquet(\"data/taobao_product_title2.parquet\", index=False)"
   ]
  },
  {
   "cell_type": "code",
   "execution_count": 12,
   "id": "257b2b71-4b75-4810-a7a4-1ec9518e72b1",
   "metadata": {
    "execution": {
     "iopub.execute_input": "2024-05-21T15:04:35.917238Z",
     "iopub.status.busy": "2024-05-21T15:04:35.916866Z",
     "iopub.status.idle": "2024-05-21T15:04:36.577154Z",
     "shell.execute_reply": "2024-05-21T15:04:36.575664Z",
     "shell.execute_reply.started": "2024-05-21T15:04:35.917198Z"
    },
    "tags": []
   },
   "outputs": [
    {
     "name": "stdout",
     "output_type": "stream",
     "text": [
      "特价促销！欧美风格女士斜挎包\n",
      "热销推荐！时尚女士斜挎包特惠款\n",
      "热销推荐！时尚女士斜挎包特惠款\n"
     ]
    }
   ],
   "source": [
    "from sklearn.metrics.pairwise import cosine_similarity\n",
    "\n",
    "def search_product(df, query, n=3, pprint=True):\n",
    "    product_embedding = get_embedding(\n",
    "        query,\n",
    "        model=embedding_model\n",
    "    )\n",
    "    df[\"similarity\"] = df.embedding.apply(lambda x: cosine_similarity([x], [product_embedding]))\n",
    "    \n",
    "    results = (\n",
    "        df.sort_values(\"similarity\", ascending=False)\n",
    "        .head(n)\n",
    "        .product_name\n",
    "    )\n",
    "    if pprint:\n",
    "        for r in results:\n",
    "            print(r)\n",
    "    return results\n",
    "\n",
    "results = search_product(df, \"自然淡雅背包\", n=3)"
   ]
  },
  {
   "cell_type": "markdown",
   "id": "3dd083eb-f55c-47ff-89b8-779d8c453d30",
   "metadata": {},
   "source": [
    "# 利用Embedding信息进行商品推荐的冷启动"
   ]
  },
  {
   "cell_type": "code",
   "execution_count": 14,
   "id": "3d6c532e-dbcb-4620-8e17-1dc641ff5c97",
   "metadata": {
    "execution": {
     "iopub.execute_input": "2024-05-21T15:07:00.384033Z",
     "iopub.status.busy": "2024-05-21T15:07:00.383125Z",
     "iopub.status.idle": "2024-05-21T15:07:00.452575Z",
     "shell.execute_reply": "2024-05-21T15:07:00.451642Z",
     "shell.execute_reply.started": "2024-05-21T15:07:00.383996Z"
    },
    "tags": []
   },
   "outputs": [
    {
     "name": "stdout",
     "output_type": "stream",
     "text": [
      "超值特惠！华为P40 Pro 5G全网通手机\n",
      "限时特惠！小米10 Pro 5G全网通手机\n",
      "超值特惠！华为MatePad Pro 10\n"
     ]
    }
   ],
   "source": [
    "def recommend_product(df, product_name, n=3, pprint=True):\n",
    "    product_embdding = df[df['product_name'] == product_name].iloc[0].embedding\n",
    "\n",
    "    df['similarity'] = df.embedding.apply(lambda x: cosine_similarity([x], [product_embdding]))\n",
    "    \n",
    "    results = (\n",
    "        df.sort_values('similarity', ascending=False)\n",
    "        .head(n)\n",
    "        .product_name\n",
    "    )\n",
    "    if pprint:\n",
    "        for r in results:\n",
    "            print(r)\n",
    "    return results\n",
    "\n",
    "results = recommend_product(df, \"超值特惠！华为P40 Pro 5G全网通手机\", n=3)"
   ]
  },
  {
   "cell_type": "markdown",
   "id": "e44d8dd3-8132-4b15-b4dc-064f021a8680",
   "metadata": {},
   "source": [
    "# 通过FAISS加速搜索过程"
   ]
  },
  {
   "cell_type": "code",
   "execution_count": 15,
   "id": "1713cf4b-1a0f-4fb8-85b3-c9968f636599",
   "metadata": {
    "execution": {
     "iopub.execute_input": "2024-05-21T15:07:06.080180Z",
     "iopub.status.busy": "2024-05-21T15:07:06.079259Z",
     "iopub.status.idle": "2024-05-21T15:07:06.131857Z",
     "shell.execute_reply": "2024-05-21T15:07:06.130135Z",
     "shell.execute_reply.started": "2024-05-21T15:07:06.080148Z"
    },
    "tags": []
   },
   "outputs": [],
   "source": [
    "import faiss\n",
    "import numpy as np\n",
    "\n",
    "def load_embeddings_to_faiss(df):\n",
    "    embeddings = np.array(df['embedding'].tolist()).astype('float32')\n",
    "    index = faiss.IndexFlatL2(embeddings.shape[1])\n",
    "    index.add(embeddings)\n",
    "    return index\n",
    "\n",
    "index = load_embeddings_to_faiss(df)"
   ]
  },
  {
   "cell_type": "code",
   "execution_count": 16,
   "id": "29c792e8-e36e-45e4-ac43-e6ff0eb71bb3",
   "metadata": {
    "execution": {
     "iopub.execute_input": "2024-05-21T15:07:06.135595Z",
     "iopub.status.busy": "2024-05-21T15:07:06.134661Z",
     "iopub.status.idle": "2024-05-21T15:07:06.796449Z",
     "shell.execute_reply": "2024-05-21T15:07:06.795293Z",
     "shell.execute_reply.started": "2024-05-21T15:07:06.135561Z"
    },
    "tags": []
   },
   "outputs": [
    {
     "name": "stdout",
     "output_type": "stream",
     "text": [
      "特价促销！欧美风格女士斜挎包 0.2906236\n",
      "热销推荐！时尚女士斜挎包特惠款 0.30157784\n",
      "热销推荐！时尚女士斜挎包特惠款 0.301996\n"
     ]
    }
   ],
   "source": [
    "def search_index(index, df, query, k=5):\n",
    "    query_vector = np.array(get_embedding(query, model=embedding_model)).reshape(1, -1).astype('float32')\n",
    "    distances, indexes = index.search(query_vector, k)\n",
    "\n",
    "    results = []\n",
    "    for i in range(len(indexes)):\n",
    "        product_names = df.iloc[indexes[i]]['product_name'].values.tolist()\n",
    "        results.append((distances[i], product_names))\n",
    "    return results\n",
    "\n",
    "products = search_index(index, df, \"自然淡雅背包\", k=3)\n",
    "\n",
    "for distances, product_names in products:\n",
    "    for i in range(len(distances)):\n",
    "        print(product_names[i], distances[i])"
   ]
  },
  {
   "cell_type": "code",
   "execution_count": 17,
   "id": "49ff3fbf-46e6-4ca6-91c1-770fdf4f1143",
   "metadata": {
    "execution": {
     "iopub.execute_input": "2024-05-21T15:07:06.798113Z",
     "iopub.status.busy": "2024-05-21T15:07:06.797643Z",
     "iopub.status.idle": "2024-05-21T15:07:07.530806Z",
     "shell.execute_reply": "2024-05-21T15:07:07.529765Z",
     "shell.execute_reply.started": "2024-05-21T15:07:06.798084Z"
    },
    "scrolled": true,
    "tags": []
   },
   "outputs": [
    {
     "name": "stdout",
     "output_type": "stream",
     "text": [
      "Package                        Version\n",
      "------------------------------ --------------\n",
      "aiofiles                       22.1.0\n",
      "aiosqlite                      0.20.0\n",
      "altair                         5.3.0\n",
      "annotated-types                0.6.0\n",
      "anyio                          4.3.0\n",
      "argon2-cffi                    23.1.0\n",
      "argon2-cffi-bindings           21.2.0\n",
      "arrow                          1.3.0\n",
      "astroid                        3.1.0\n",
      "asttokens                      2.4.1\n",
      "attrs                          23.2.0\n",
      "autopep8                       2.0.4\n",
      "Babel                          2.14.0\n",
      "backoff                        2.2.1\n",
      "beautifulsoup4                 4.12.3\n",
      "bleach                         6.1.0\n",
      "certifi                        2024.2.2\n",
      "cffi                           1.16.0\n",
      "charset-normalizer             3.3.2\n",
      "click                          8.1.7\n",
      "comm                           0.2.2\n",
      "contourpy                      1.2.1\n",
      "cramjam                        2.8.3\n",
      "cycler                         0.12.1\n",
      "debugpy                        1.8.1\n",
      "decorator                      5.1.1\n",
      "defusedxml                     0.7.1\n",
      "dill                           0.3.8\n",
      "distro                         1.9.0\n",
      "dnspython                      2.6.1\n",
      "docstring-to-markdown          0.15\n",
      "email_validator                2.1.1\n",
      "entrypoints                    0.4\n",
      "exceptiongroup                 1.2.0\n",
      "executing                      2.0.1\n",
      "faiss-gpu                      1.7.2\n",
      "fastapi                        0.111.0\n",
      "fastapi-cli                    0.0.4\n",
      "fastjsonschema                 2.19.1\n",
      "fastparquet                    2024.2.0\n",
      "fasttext                       0.9.2\n",
      "ffmpy                          0.3.2\n",
      "filelock                       3.14.0\n",
      "flake8                         7.0.0\n",
      "fonttools                      4.51.0\n",
      "fqdn                           1.5.1\n",
      "fsspec                         2024.5.0\n",
      "gensim                         4.3.2\n",
      "gradio                         4.31.4\n",
      "gradio_client                  0.16.4\n",
      "h11                            0.14.0\n",
      "httpcore                       1.0.5\n",
      "httptools                      0.6.1\n",
      "httpx                          0.27.0\n",
      "huggingface-hub                0.23.0\n",
      "idna                           3.6\n",
      "importlib_metadata             7.1.0\n",
      "importlib_resources            6.4.0\n",
      "ipykernel                      6.29.4\n",
      "ipython                        8.23.0\n",
      "ipython-genutils               0.2.0\n",
      "ipywidgets                     8.1.2\n",
      "isoduration                    20.11.0\n",
      "isort                          5.13.2\n",
      "jedi                           0.19.1\n",
      "Jinja2                         3.1.3\n",
      "joblib                         1.4.2\n",
      "json5                          0.9.24\n",
      "jsonpointer                    2.4\n",
      "jsonschema                     4.21.1\n",
      "jsonschema-specifications      2023.12.1\n",
      "jupyter_client                 7.4.9\n",
      "jupyter_core                   5.7.2\n",
      "jupyter-events                 0.10.0\n",
      "jupyter-lsp                    2.2.4\n",
      "jupyter_server                 2.13.0\n",
      "jupyter_server_fileid          0.9.1\n",
      "jupyter_server_terminals       0.5.3\n",
      "jupyter_server_ydoc            0.8.0\n",
      "jupyter-ydoc                   0.2.5\n",
      "jupyterlab                     3.6.3\n",
      "jupyterlab-execute-time        2.3.1\n",
      "jupyterlab-language-pack-zh-CN 4.1.post2\n",
      "jupyterlab-lsp                 4.3.0\n",
      "jupyterlab_pygments            0.3.0\n",
      "jupyterlab-search-replace      1.0.2\n",
      "jupyterlab_server              2.25.4\n",
      "jupyterlab_widgets             3.0.10\n",
      "kiwisolver                     1.4.5\n",
      "markdown-it-py                 3.0.0\n",
      "MarkupSafe                     2.1.5\n",
      "matplotlib                     3.9.0\n",
      "matplotlib-inline              0.1.6\n",
      "mccabe                         0.7.0\n",
      "mdurl                          0.1.2\n",
      "mistune                        3.0.2\n",
      "mpmath                         1.3.0\n",
      "nbclassic                      1.0.0\n",
      "nbclient                       0.10.0\n",
      "nbconvert                      7.16.3\n",
      "nbformat                       5.10.4\n",
      "nest-asyncio                   1.6.0\n",
      "networkx                       3.3\n",
      "notebook                       6.5.6\n",
      "notebook_shim                  0.2.4\n",
      "numpy                          1.24.4\n",
      "nvidia-cublas-cu12             12.1.3.1\n",
      "nvidia-cuda-cupti-cu12         12.1.105\n",
      "nvidia-cuda-nvrtc-cu12         12.1.105\n",
      "nvidia-cuda-runtime-cu12       12.1.105\n",
      "nvidia-cudnn-cu12              8.9.2.26\n",
      "nvidia-cufft-cu12              11.0.2.54\n",
      "nvidia-curand-cu12             10.3.2.106\n",
      "nvidia-cusolver-cu12           11.4.5.107\n",
      "nvidia-cusparse-cu12           12.1.0.106\n",
      "nvidia-nccl-cu12               2.20.5\n",
      "nvidia-nvjitlink-cu12          12.4.127\n",
      "nvidia-nvtx-cu12               12.1.105\n",
      "openai                         1.30.1\n",
      "orjson                         3.10.3\n",
      "overrides                      7.7.0\n",
      "packaging                      24.0\n",
      "pandas                         2.2.2\n",
      "pandocfilters                  1.5.1\n",
      "parso                          0.8.4\n",
      "pexpect                        4.9.0\n",
      "pillow                         10.3.0\n",
      "pip                            24.0\n",
      "platformdirs                   4.2.0\n",
      "pluggy                         1.4.0\n",
      "prometheus_client              0.20.0\n",
      "prompt-toolkit                 3.0.43\n",
      "psutil                         5.9.8\n",
      "ptyprocess                     0.7.0\n",
      "pure-eval                      0.2.2\n",
      "pyarrow                        16.1.0\n",
      "pybind11                       2.12.0\n",
      "pycodestyle                    2.11.1\n",
      "pycparser                      2.22\n",
      "pydantic                       2.7.1\n",
      "pydantic_core                  2.18.2\n",
      "pydocstyle                     6.3.0\n",
      "pydub                          0.25.1\n",
      "pyflakes                       3.2.0\n",
      "Pygments                       2.17.2\n",
      "pylint                         3.1.0\n",
      "pyparsing                      3.1.2\n",
      "python-dateutil                2.9.0.post0\n",
      "python-dotenv                  1.0.1\n",
      "python-json-logger             2.0.7\n",
      "python-lsp-jsonrpc             1.1.2\n",
      "python-lsp-server              1.11.0\n",
      "python-multipart               0.0.9\n",
      "pytoolconfig                   1.3.1\n",
      "pytz                           2024.1\n",
      "PyYAML                         6.0.1\n",
      "pyzmq                          24.0.1\n",
      "referencing                    0.34.0\n",
      "regex                          2024.5.15\n",
      "requests                       2.31.0\n",
      "rfc3339-validator              0.1.4\n",
      "rfc3986-validator              0.1.1\n",
      "rich                           13.7.1\n",
      "rope                           1.13.0\n",
      "rpds-py                        0.18.0\n",
      "ruff                           0.4.4\n",
      "safetensors                    0.4.3\n",
      "scikit-learn                   1.4.2\n",
      "scipy                          1.8.1\n",
      "semantic-version               2.10.0\n",
      "Send2Trash                     1.8.2\n",
      "sentencepiece                  0.2.0\n",
      "setuptools                     59.6.0\n",
      "shellingham                    1.5.4\n",
      "six                            1.16.0\n",
      "smart-open                     7.0.4\n",
      "sniffio                        1.3.1\n",
      "snowballstemmer                2.2.0\n",
      "soupsieve                      2.5\n",
      "stack-data                     0.6.3\n",
      "starlette                      0.37.2\n",
      "sympy                          1.12\n",
      "terminado                      0.18.1\n",
      "threadpoolctl                  3.5.0\n",
      "tiktoken                       0.7.0\n",
      "tinycss2                       1.2.1\n",
      "tokenizers                     0.19.1\n",
      "tomli                          2.0.1\n",
      "tomlkit                        0.12.0\n",
      "toolz                          0.12.1\n",
      "torch                          2.3.0\n",
      "torchvision                    0.18.0\n",
      "tornado                        6.4\n",
      "tqdm                           4.66.4\n",
      "traitlets                      5.14.2\n",
      "transformers                   4.41.0\n",
      "triton                         2.3.0\n",
      "typer                          0.12.3\n",
      "types-python-dateutil          2.9.0.20240316\n",
      "typing_extensions              4.11.0\n",
      "tzdata                         2024.1\n",
      "ujson                          5.9.0\n",
      "uri-template                   1.3.0\n",
      "urllib3                        2.2.1\n",
      "uvicorn                        0.29.0\n",
      "uvloop                         0.19.0\n",
      "watchfiles                     0.21.0\n",
      "wcwidth                        0.2.13\n",
      "webcolors                      1.13\n",
      "webencodings                   0.5.1\n",
      "websocket-client               1.7.0\n",
      "websockets                     11.0.3\n",
      "whatthepatch                   1.0.5\n",
      "wheel                          0.37.1\n",
      "widgetsnbextension             4.0.10\n",
      "wrapt                          1.16.0\n",
      "y-py                           0.6.2\n",
      "yapf                           0.40.2\n",
      "ypy-websocket                  0.8.4\n",
      "zipp                           3.18.1\n"
     ]
    }
   ],
   "source": [
    "!pip list"
   ]
  }
 ],
 "metadata": {
  "kernelspec": {
   "display_name": "Python 3 (ipykernel)",
   "language": "python",
   "name": "python3"
  },
  "language_info": {
   "codemirror_mode": {
    "name": "ipython",
    "version": 3
   },
   "file_extension": ".py",
   "mimetype": "text/x-python",
   "name": "python",
   "nbconvert_exporter": "python",
   "pygments_lexer": "ipython3",
   "version": "3.10.12"
  }
 },
 "nbformat": 4,
 "nbformat_minor": 5
}
